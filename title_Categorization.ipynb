{
 "cells": [
  {
   "cell_type": "code",
   "execution_count": 1,
   "id": "cacb4d7e",
   "metadata": {},
   "outputs": [
    {
     "name": "stdout",
     "output_type": "stream",
     "text": [
      "Requirement already satisfied: plotly_express in c:\\users\\prane\\appdata\\local\\programs\\python\\python39\\lib\\site-packages (0.4.1)\n",
      "Requirement already satisfied: patsy>=0.5 in c:\\users\\prane\\appdata\\local\\programs\\python\\python39\\lib\\site-packages (from plotly_express) (0.5.3)\n",
      "Requirement already satisfied: pandas>=0.20.0 in c:\\users\\prane\\appdata\\local\\programs\\python\\python39\\lib\\site-packages (from plotly_express) (1.4.4)\n",
      "Requirement already satisfied: plotly>=4.1.0 in c:\\users\\prane\\appdata\\local\\programs\\python\\python39\\lib\\site-packages (from plotly_express) (5.10.0)\n",
      "Requirement already satisfied: statsmodels>=0.9.0 in c:\\users\\prane\\appdata\\local\\programs\\python\\python39\\lib\\site-packages (from plotly_express) (0.13.2)\n",
      "Requirement already satisfied: scipy>=0.18 in c:\\users\\prane\\appdata\\local\\programs\\python\\python39\\lib\\site-packages (from plotly_express) (1.9.1)\n",
      "Requirement already satisfied: numpy>=1.11 in c:\\users\\prane\\appdata\\local\\programs\\python\\python39\\lib\\site-packages (from plotly_express) (1.21.2)\n",
      "Requirement already satisfied: python-dateutil>=2.8.1 in c:\\users\\prane\\appdata\\local\\programs\\python\\python39\\lib\\site-packages (from pandas>=0.20.0->plotly_express) (2.8.2)\n",
      "Requirement already satisfied: pytz>=2020.1 in c:\\users\\prane\\appdata\\local\\programs\\python\\python39\\lib\\site-packages (from pandas>=0.20.0->plotly_express) (2022.2.1)\n",
      "Requirement already satisfied: six in c:\\users\\prane\\appdata\\local\\programs\\python\\python39\\lib\\site-packages (from patsy>=0.5->plotly_express) (1.16.0)\n",
      "Requirement already satisfied: tenacity>=6.2.0 in c:\\users\\prane\\appdata\\local\\programs\\python\\python39\\lib\\site-packages (from plotly>=4.1.0->plotly_express) (8.0.1)\n",
      "Requirement already satisfied: packaging>=21.3 in c:\\users\\prane\\appdata\\local\\programs\\python\\python39\\lib\\site-packages (from statsmodels>=0.9.0->plotly_express) (21.3)\n",
      "Requirement already satisfied: pyparsing!=3.0.5,>=2.0.2 in c:\\users\\prane\\appdata\\local\\programs\\python\\python39\\lib\\site-packages (from packaging>=21.3->statsmodels>=0.9.0->plotly_express) (2.4.7)\n"
     ]
    }
   ],
   "source": [
    "!pip install plotly_express"
   ]
  },
  {
   "cell_type": "code",
   "execution_count": 2,
   "id": "30c4caf9",
   "metadata": {},
   "outputs": [
    {
     "data": {
      "text/html": [
       "        <script type=\"text/javascript\">\n",
       "        window.PlotlyConfig = {MathJaxConfig: 'local'};\n",
       "        if (window.MathJax && window.MathJax.Hub && window.MathJax.Hub.Config) {window.MathJax.Hub.Config({SVG: {font: \"STIX-Web\"}});}\n",
       "        if (typeof require !== 'undefined') {\n",
       "        require.undef(\"plotly\");\n",
       "        requirejs.config({\n",
       "            paths: {\n",
       "                'plotly': ['https://cdn.plot.ly/plotly-2.14.0.min']\n",
       "            }\n",
       "        });\n",
       "        require(['plotly'], function(Plotly) {\n",
       "            window._Plotly = Plotly;\n",
       "        });\n",
       "        }\n",
       "        </script>\n",
       "        "
      ]
     },
     "metadata": {},
     "output_type": "display_data"
    },
    {
     "name": "stderr",
     "output_type": "stream",
     "text": [
      "[nltk_data] Downloading package stopwords to\n",
      "[nltk_data]     C:\\Users\\prane\\AppData\\Roaming\\nltk_data...\n",
      "[nltk_data]   Package stopwords is already up-to-date!\n"
     ]
    }
   ],
   "source": [
    "import matplotlib.pyplot as plt\n",
    "import seaborn as sns\n",
    "import pandas as pd\n",
    "import numpy as np \n",
    "\n",
    "import plotly_express as px\n",
    "from plotly.subplots import make_subplots\n",
    "import plotly.graph_objects as go\n",
    "from plotly.offline import plot,iplot,init_notebook_mode\n",
    "init_notebook_mode(connected=True)\n",
    "\n",
    "plt.style.use(\"fivethirtyeight\")\n",
    "color_palette = sns.color_palette(\"Set2\")+sns.color_palette(\"Paired\")+sns.color_palette(\"hls\", 8)+sns.color_palette(\"husl\", 8)\n",
    "\n",
    "import os\n",
    "for dirname, _, filenames in os.walk('/kaggle/input'):\n",
    "    for filename in filenames:\n",
    "        print(os.path.join(dirname, filename))\n",
    "import nltk\n",
    "import re\n",
    "nltk.download(\"stopwords\")\n",
    "from nltk.corpus import stopwords\n",
    "from nltk.stem.porter import PorterStemmer\n",
    "from sklearn.feature_extraction.text import CountVectorizer\n",
    "from sklearn.model_selection import train_test_split\n",
    "from sklearn.preprocessing import LabelEncoder\n",
    "from sklearn.metrics import accuracy_score\n",
    "from sklearn.linear_model import LogisticRegression"
   ]
  },
  {
   "cell_type": "code",
   "execution_count": 3,
   "id": "f89d5d1d-90f5-4ce6-ae18-a04daf20ebb3",
   "metadata": {},
   "outputs": [],
   "source": [
    "#import the datasets\n",
    "vd=pd.read_csv(\"D:\\\\DA Project\\\\videos-stats.csv\")\n",
    "cm=pd.read_csv(\"D:\\\\DA Project\\\\comments.csv\")"
   ]
  },
  {
   "cell_type": "code",
   "execution_count": 4,
   "id": "5143ad36",
   "metadata": {},
   "outputs": [
    {
     "data": {
      "text/plain": [
       "(1881, 8)"
      ]
     },
     "execution_count": 4,
     "metadata": {},
     "output_type": "execute_result"
    }
   ],
   "source": [
    "#display the number of rows and columns of the datasets \n",
    "vd.shape"
   ]
  },
  {
   "cell_type": "code",
   "execution_count": 5,
   "id": "b68c3eff",
   "metadata": {},
   "outputs": [
    {
     "data": {
      "text/plain": [
       "(18409, 5)"
      ]
     },
     "execution_count": 5,
     "metadata": {},
     "output_type": "execute_result"
    }
   ],
   "source": [
    "cm.shape"
   ]
  },
  {
   "cell_type": "code",
   "execution_count": 6,
   "id": "0874146e",
   "metadata": {},
   "outputs": [
    {
     "data": {
      "text/html": [
       "<div>\n",
       "<style scoped>\n",
       "    .dataframe tbody tr th:only-of-type {\n",
       "        vertical-align: middle;\n",
       "    }\n",
       "\n",
       "    .dataframe tbody tr th {\n",
       "        vertical-align: top;\n",
       "    }\n",
       "\n",
       "    .dataframe thead th {\n",
       "        text-align: right;\n",
       "    }\n",
       "</style>\n",
       "<table border=\"1\" class=\"dataframe\">\n",
       "  <thead>\n",
       "    <tr style=\"text-align: right;\">\n",
       "      <th></th>\n",
       "      <th>Unnamed: 0</th>\n",
       "      <th>Title</th>\n",
       "      <th>Video ID</th>\n",
       "      <th>Published At</th>\n",
       "      <th>Keyword</th>\n",
       "      <th>Likes</th>\n",
       "      <th>Comments</th>\n",
       "      <th>Views</th>\n",
       "    </tr>\n",
       "  </thead>\n",
       "  <tbody>\n",
       "    <tr>\n",
       "      <th>0</th>\n",
       "      <td>0</td>\n",
       "      <td>Apple Pay Is Killing the Physical Wallet After...</td>\n",
       "      <td>wAZZ-UWGVHI</td>\n",
       "      <td>2022-08-23</td>\n",
       "      <td>tech</td>\n",
       "      <td>3407.0</td>\n",
       "      <td>672.0</td>\n",
       "      <td>135612.0</td>\n",
       "    </tr>\n",
       "    <tr>\n",
       "      <th>1</th>\n",
       "      <td>1</td>\n",
       "      <td>The most EXPENSIVE thing I own.</td>\n",
       "      <td>b3x28s61q3c</td>\n",
       "      <td>2022-08-24</td>\n",
       "      <td>tech</td>\n",
       "      <td>76779.0</td>\n",
       "      <td>4306.0</td>\n",
       "      <td>1758063.0</td>\n",
       "    </tr>\n",
       "    <tr>\n",
       "      <th>2</th>\n",
       "      <td>2</td>\n",
       "      <td>My New House Gaming Setup is SICK!</td>\n",
       "      <td>4mgePWWCAmA</td>\n",
       "      <td>2022-08-23</td>\n",
       "      <td>tech</td>\n",
       "      <td>63825.0</td>\n",
       "      <td>3338.0</td>\n",
       "      <td>1564007.0</td>\n",
       "    </tr>\n",
       "    <tr>\n",
       "      <th>3</th>\n",
       "      <td>3</td>\n",
       "      <td>Petrol Vs Liquid Nitrogen | Freezing Experimen...</td>\n",
       "      <td>kXiYSI7H2b0</td>\n",
       "      <td>2022-08-23</td>\n",
       "      <td>tech</td>\n",
       "      <td>71566.0</td>\n",
       "      <td>1426.0</td>\n",
       "      <td>922918.0</td>\n",
       "    </tr>\n",
       "    <tr>\n",
       "      <th>4</th>\n",
       "      <td>4</td>\n",
       "      <td>Best Back to School Tech 2022!</td>\n",
       "      <td>ErMwWXQxHp0</td>\n",
       "      <td>2022-08-08</td>\n",
       "      <td>tech</td>\n",
       "      <td>96513.0</td>\n",
       "      <td>5155.0</td>\n",
       "      <td>1855644.0</td>\n",
       "    </tr>\n",
       "  </tbody>\n",
       "</table>\n",
       "</div>"
      ],
      "text/plain": [
       "   Unnamed: 0                                              Title     Video ID  \\\n",
       "0           0  Apple Pay Is Killing the Physical Wallet After...  wAZZ-UWGVHI   \n",
       "1           1                    The most EXPENSIVE thing I own.  b3x28s61q3c   \n",
       "2           2                 My New House Gaming Setup is SICK!  4mgePWWCAmA   \n",
       "3           3  Petrol Vs Liquid Nitrogen | Freezing Experimen...  kXiYSI7H2b0   \n",
       "4           4                     Best Back to School Tech 2022!  ErMwWXQxHp0   \n",
       "\n",
       "  Published At Keyword    Likes  Comments      Views  \n",
       "0   2022-08-23    tech   3407.0     672.0   135612.0  \n",
       "1   2022-08-24    tech  76779.0    4306.0  1758063.0  \n",
       "2   2022-08-23    tech  63825.0    3338.0  1564007.0  \n",
       "3   2022-08-23    tech  71566.0    1426.0   922918.0  \n",
       "4   2022-08-08    tech  96513.0    5155.0  1855644.0  "
      ]
     },
     "execution_count": 6,
     "metadata": {},
     "output_type": "execute_result"
    }
   ],
   "source": [
    "vd.head()"
   ]
  },
  {
   "cell_type": "code",
   "execution_count": 7,
   "id": "4ccb2488",
   "metadata": {},
   "outputs": [
    {
     "data": {
      "text/html": [
       "<div>\n",
       "<style scoped>\n",
       "    .dataframe tbody tr th:only-of-type {\n",
       "        vertical-align: middle;\n",
       "    }\n",
       "\n",
       "    .dataframe tbody tr th {\n",
       "        vertical-align: top;\n",
       "    }\n",
       "\n",
       "    .dataframe thead th {\n",
       "        text-align: right;\n",
       "    }\n",
       "</style>\n",
       "<table border=\"1\" class=\"dataframe\">\n",
       "  <thead>\n",
       "    <tr style=\"text-align: right;\">\n",
       "      <th></th>\n",
       "      <th>Unnamed: 0</th>\n",
       "      <th>Video ID</th>\n",
       "      <th>Comment</th>\n",
       "      <th>Likes</th>\n",
       "      <th>Sentiment</th>\n",
       "    </tr>\n",
       "  </thead>\n",
       "  <tbody>\n",
       "    <tr>\n",
       "      <th>0</th>\n",
       "      <td>0</td>\n",
       "      <td>wAZZ-UWGVHI</td>\n",
       "      <td>Let's not forget that Apple Pay in 2014 requir...</td>\n",
       "      <td>95.0</td>\n",
       "      <td>1.0</td>\n",
       "    </tr>\n",
       "    <tr>\n",
       "      <th>1</th>\n",
       "      <td>1</td>\n",
       "      <td>wAZZ-UWGVHI</td>\n",
       "      <td>Here in NZ 50% of retailers don’t even have co...</td>\n",
       "      <td>19.0</td>\n",
       "      <td>0.0</td>\n",
       "    </tr>\n",
       "    <tr>\n",
       "      <th>2</th>\n",
       "      <td>2</td>\n",
       "      <td>wAZZ-UWGVHI</td>\n",
       "      <td>I will forever acknowledge this channel with t...</td>\n",
       "      <td>161.0</td>\n",
       "      <td>2.0</td>\n",
       "    </tr>\n",
       "    <tr>\n",
       "      <th>3</th>\n",
       "      <td>3</td>\n",
       "      <td>wAZZ-UWGVHI</td>\n",
       "      <td>Whenever I go to a place that doesn’t take App...</td>\n",
       "      <td>8.0</td>\n",
       "      <td>0.0</td>\n",
       "    </tr>\n",
       "    <tr>\n",
       "      <th>4</th>\n",
       "      <td>4</td>\n",
       "      <td>wAZZ-UWGVHI</td>\n",
       "      <td>Apple Pay is so convenient, secure, and easy t...</td>\n",
       "      <td>34.0</td>\n",
       "      <td>2.0</td>\n",
       "    </tr>\n",
       "  </tbody>\n",
       "</table>\n",
       "</div>"
      ],
      "text/plain": [
       "   Unnamed: 0     Video ID                                            Comment  \\\n",
       "0           0  wAZZ-UWGVHI  Let's not forget that Apple Pay in 2014 requir...   \n",
       "1           1  wAZZ-UWGVHI  Here in NZ 50% of retailers don’t even have co...   \n",
       "2           2  wAZZ-UWGVHI  I will forever acknowledge this channel with t...   \n",
       "3           3  wAZZ-UWGVHI  Whenever I go to a place that doesn’t take App...   \n",
       "4           4  wAZZ-UWGVHI  Apple Pay is so convenient, secure, and easy t...   \n",
       "\n",
       "   Likes  Sentiment  \n",
       "0   95.0        1.0  \n",
       "1   19.0        0.0  \n",
       "2  161.0        2.0  \n",
       "3    8.0        0.0  \n",
       "4   34.0        2.0  "
      ]
     },
     "execution_count": 7,
     "metadata": {},
     "output_type": "execute_result"
    }
   ],
   "source": [
    "cm.head()"
   ]
  },
  {
   "cell_type": "code",
   "execution_count": 8,
   "id": "5951625b",
   "metadata": {},
   "outputs": [],
   "source": [
    "#checking and removing empty columns\n",
    "vd.drop(columns=\"Unnamed: 0\", inplace=True)\n",
    "cm.drop(columns=\"Unnamed: 0\", inplace=True)"
   ]
  },
  {
   "cell_type": "code",
   "execution_count": 9,
   "id": "eaf6a66f",
   "metadata": {},
   "outputs": [
    {
     "data": {
      "text/html": [
       "<div>\n",
       "<style scoped>\n",
       "    .dataframe tbody tr th:only-of-type {\n",
       "        vertical-align: middle;\n",
       "    }\n",
       "\n",
       "    .dataframe tbody tr th {\n",
       "        vertical-align: top;\n",
       "    }\n",
       "\n",
       "    .dataframe thead th {\n",
       "        text-align: right;\n",
       "    }\n",
       "</style>\n",
       "<table border=\"1\" class=\"dataframe\">\n",
       "  <thead>\n",
       "    <tr style=\"text-align: right;\">\n",
       "      <th></th>\n",
       "      <th>Likes</th>\n",
       "      <th>Comments</th>\n",
       "      <th>Views</th>\n",
       "    </tr>\n",
       "  </thead>\n",
       "  <tbody>\n",
       "    <tr>\n",
       "      <th>count</th>\n",
       "      <td>1.879000e+03</td>\n",
       "      <td>1879.000000</td>\n",
       "      <td>1.879000e+03</td>\n",
       "    </tr>\n",
       "    <tr>\n",
       "      <th>mean</th>\n",
       "      <td>1.700610e+05</td>\n",
       "      <td>7863.331559</td>\n",
       "      <td>1.161292e+07</td>\n",
       "    </tr>\n",
       "    <tr>\n",
       "      <th>std</th>\n",
       "      <td>7.962293e+05</td>\n",
       "      <td>37879.964926</td>\n",
       "      <td>1.084450e+08</td>\n",
       "    </tr>\n",
       "    <tr>\n",
       "      <th>min</th>\n",
       "      <td>-1.000000e+00</td>\n",
       "      <td>-1.000000</td>\n",
       "      <td>2.500000e+01</td>\n",
       "    </tr>\n",
       "    <tr>\n",
       "      <th>25%</th>\n",
       "      <td>2.672500e+03</td>\n",
       "      <td>199.000000</td>\n",
       "      <td>8.451500e+04</td>\n",
       "    </tr>\n",
       "    <tr>\n",
       "      <th>50%</th>\n",
       "      <td>1.478700e+04</td>\n",
       "      <td>814.000000</td>\n",
       "      <td>5.917210e+05</td>\n",
       "    </tr>\n",
       "    <tr>\n",
       "      <th>75%</th>\n",
       "      <td>6.090600e+04</td>\n",
       "      <td>3377.500000</td>\n",
       "      <td>2.804978e+06</td>\n",
       "    </tr>\n",
       "    <tr>\n",
       "      <th>max</th>\n",
       "      <td>1.644556e+07</td>\n",
       "      <td>732818.000000</td>\n",
       "      <td>4.034122e+09</td>\n",
       "    </tr>\n",
       "  </tbody>\n",
       "</table>\n",
       "</div>"
      ],
      "text/plain": [
       "              Likes       Comments         Views\n",
       "count  1.879000e+03    1879.000000  1.879000e+03\n",
       "mean   1.700610e+05    7863.331559  1.161292e+07\n",
       "std    7.962293e+05   37879.964926  1.084450e+08\n",
       "min   -1.000000e+00      -1.000000  2.500000e+01\n",
       "25%    2.672500e+03     199.000000  8.451500e+04\n",
       "50%    1.478700e+04     814.000000  5.917210e+05\n",
       "75%    6.090600e+04    3377.500000  2.804978e+06\n",
       "max    1.644556e+07  732818.000000  4.034122e+09"
      ]
     },
     "execution_count": 9,
     "metadata": {},
     "output_type": "execute_result"
    }
   ],
   "source": [
    "#displays the statistical value for the numerical data \n",
    "vd.describe()"
   ]
  },
  {
   "cell_type": "code",
   "execution_count": 10,
   "id": "6980dd8c",
   "metadata": {},
   "outputs": [
    {
     "data": {
      "text/html": [
       "<div>\n",
       "<style scoped>\n",
       "    .dataframe tbody tr th:only-of-type {\n",
       "        vertical-align: middle;\n",
       "    }\n",
       "\n",
       "    .dataframe tbody tr th {\n",
       "        vertical-align: top;\n",
       "    }\n",
       "\n",
       "    .dataframe thead th {\n",
       "        text-align: right;\n",
       "    }\n",
       "</style>\n",
       "<table border=\"1\" class=\"dataframe\">\n",
       "  <thead>\n",
       "    <tr style=\"text-align: right;\">\n",
       "      <th></th>\n",
       "      <th>Likes</th>\n",
       "      <th>Sentiment</th>\n",
       "    </tr>\n",
       "  </thead>\n",
       "  <tbody>\n",
       "    <tr>\n",
       "      <th>count</th>\n",
       "      <td>18409.000000</td>\n",
       "      <td>18409.000000</td>\n",
       "    </tr>\n",
       "    <tr>\n",
       "      <th>mean</th>\n",
       "      <td>1040.019447</td>\n",
       "      <td>1.493998</td>\n",
       "    </tr>\n",
       "    <tr>\n",
       "      <th>std</th>\n",
       "      <td>10651.366148</td>\n",
       "      <td>0.709928</td>\n",
       "    </tr>\n",
       "    <tr>\n",
       "      <th>min</th>\n",
       "      <td>0.000000</td>\n",
       "      <td>0.000000</td>\n",
       "    </tr>\n",
       "    <tr>\n",
       "      <th>25%</th>\n",
       "      <td>5.000000</td>\n",
       "      <td>1.000000</td>\n",
       "    </tr>\n",
       "    <tr>\n",
       "      <th>50%</th>\n",
       "      <td>29.000000</td>\n",
       "      <td>2.000000</td>\n",
       "    </tr>\n",
       "    <tr>\n",
       "      <th>75%</th>\n",
       "      <td>190.000000</td>\n",
       "      <td>2.000000</td>\n",
       "    </tr>\n",
       "    <tr>\n",
       "      <th>max</th>\n",
       "      <td>891372.000000</td>\n",
       "      <td>2.000000</td>\n",
       "    </tr>\n",
       "  </tbody>\n",
       "</table>\n",
       "</div>"
      ],
      "text/plain": [
       "               Likes     Sentiment\n",
       "count   18409.000000  18409.000000\n",
       "mean     1040.019447      1.493998\n",
       "std     10651.366148      0.709928\n",
       "min         0.000000      0.000000\n",
       "25%         5.000000      1.000000\n",
       "50%        29.000000      2.000000\n",
       "75%       190.000000      2.000000\n",
       "max    891372.000000      2.000000"
      ]
     },
     "execution_count": 10,
     "metadata": {},
     "output_type": "execute_result"
    }
   ],
   "source": [
    "cm.describe()"
   ]
  },
  {
   "cell_type": "code",
   "execution_count": 11,
   "id": "17d5f1d8",
   "metadata": {},
   "outputs": [],
   "source": [
    "#Data Cleaning"
   ]
  },
  {
   "cell_type": "code",
   "execution_count": 12,
   "id": "b8bb41b4",
   "metadata": {},
   "outputs": [
    {
     "data": {
      "text/plain": [
       "Title           0\n",
       "Video ID        0\n",
       "Published At    0\n",
       "Keyword         0\n",
       "Likes           2\n",
       "Comments        2\n",
       "Views           2\n",
       "dtype: int64"
      ]
     },
     "execution_count": 12,
     "metadata": {},
     "output_type": "execute_result"
    }
   ],
   "source": [
    "#checks for number of  null values in each column \n",
    "vd.isnull().sum()"
   ]
  },
  {
   "cell_type": "code",
   "execution_count": 13,
   "id": "e1663b36",
   "metadata": {},
   "outputs": [
    {
     "name": "stdout",
     "output_type": "stream",
     "text": [
      "<class 'pandas.core.frame.DataFrame'>\n",
      "RangeIndex: 1881 entries, 0 to 1880\n",
      "Data columns (total 7 columns):\n",
      " #   Column        Non-Null Count  Dtype  \n",
      "---  ------        --------------  -----  \n",
      " 0   Title         1881 non-null   object \n",
      " 1   Video ID      1881 non-null   object \n",
      " 2   Published At  1881 non-null   object \n",
      " 3   Keyword       1881 non-null   object \n",
      " 4   Likes         1879 non-null   float64\n",
      " 5   Comments      1879 non-null   float64\n",
      " 6   Views         1879 non-null   float64\n",
      "dtypes: float64(3), object(4)\n",
      "memory usage: 103.0+ KB\n"
     ]
    }
   ],
   "source": [
    "vd.info()"
   ]
  },
  {
   "cell_type": "code",
   "execution_count": 14,
   "id": "1bc93219",
   "metadata": {},
   "outputs": [
    {
     "name": "stdout",
     "output_type": "stream",
     "text": [
      "<class 'pandas.core.frame.DataFrame'>\n",
      "RangeIndex: 18409 entries, 0 to 18408\n",
      "Data columns (total 4 columns):\n",
      " #   Column     Non-Null Count  Dtype  \n",
      "---  ------     --------------  -----  \n",
      " 0   Video ID   18409 non-null  object \n",
      " 1   Comment    18408 non-null  object \n",
      " 2   Likes      18409 non-null  float64\n",
      " 3   Sentiment  18409 non-null  float64\n",
      "dtypes: float64(2), object(2)\n",
      "memory usage: 575.4+ KB\n"
     ]
    }
   ],
   "source": [
    "cm.info()"
   ]
  },
  {
   "cell_type": "code",
   "execution_count": 15,
   "id": "86e73784",
   "metadata": {},
   "outputs": [
    {
     "data": {
      "text/plain": [
       "Video ID     0\n",
       "Comment      1\n",
       "Likes        0\n",
       "Sentiment    0\n",
       "dtype: int64"
      ]
     },
     "execution_count": 15,
     "metadata": {},
     "output_type": "execute_result"
    }
   ],
   "source": [
    "cm.isnull().sum()"
   ]
  },
  {
   "cell_type": "code",
   "execution_count": 16,
   "id": "64436ad1",
   "metadata": {},
   "outputs": [
    {
     "data": {
      "text/html": [
       "<div>\n",
       "<style scoped>\n",
       "    .dataframe tbody tr th:only-of-type {\n",
       "        vertical-align: middle;\n",
       "    }\n",
       "\n",
       "    .dataframe tbody tr th {\n",
       "        vertical-align: top;\n",
       "    }\n",
       "\n",
       "    .dataframe thead th {\n",
       "        text-align: right;\n",
       "    }\n",
       "</style>\n",
       "<table border=\"1\" class=\"dataframe\">\n",
       "  <thead>\n",
       "    <tr style=\"text-align: right;\">\n",
       "      <th></th>\n",
       "      <th>Title</th>\n",
       "      <th>Video ID</th>\n",
       "      <th>Published At</th>\n",
       "      <th>Keyword</th>\n",
       "      <th>Likes</th>\n",
       "      <th>Comments</th>\n",
       "      <th>Views</th>\n",
       "    </tr>\n",
       "  </thead>\n",
       "  <tbody>\n",
       "    <tr>\n",
       "      <th>1879</th>\n",
       "      <td>What is Machine Learning?</td>\n",
       "      <td>f_uwKZIAeM0</td>\n",
       "      <td>2017-01-11</td>\n",
       "      <td>machine learning</td>\n",
       "      <td>NaN</td>\n",
       "      <td>NaN</td>\n",
       "      <td>NaN</td>\n",
       "    </tr>\n",
       "    <tr>\n",
       "      <th>1880</th>\n",
       "      <td>Don&amp;#39;t learn machine learning</td>\n",
       "      <td>cyLWtMSry58</td>\n",
       "      <td>2020-03-30</td>\n",
       "      <td>machine learning</td>\n",
       "      <td>NaN</td>\n",
       "      <td>NaN</td>\n",
       "      <td>NaN</td>\n",
       "    </tr>\n",
       "  </tbody>\n",
       "</table>\n",
       "</div>"
      ],
      "text/plain": [
       "                                 Title     Video ID Published At  \\\n",
       "1879         What is Machine Learning?  f_uwKZIAeM0   2017-01-11   \n",
       "1880  Don&#39;t learn machine learning  cyLWtMSry58   2020-03-30   \n",
       "\n",
       "               Keyword  Likes  Comments  Views  \n",
       "1879  machine learning    NaN       NaN    NaN  \n",
       "1880  machine learning    NaN       NaN    NaN  "
      ]
     },
     "execution_count": 16,
     "metadata": {},
     "output_type": "execute_result"
    }
   ],
   "source": [
    "#display the rows which have null values in Views\n",
    "vd.loc[vd.Views.isnull()]"
   ]
  },
  {
   "cell_type": "code",
   "execution_count": 17,
   "id": "ba3c79a2",
   "metadata": {},
   "outputs": [
    {
     "data": {
      "text/html": [
       "<div>\n",
       "<style scoped>\n",
       "    .dataframe tbody tr th:only-of-type {\n",
       "        vertical-align: middle;\n",
       "    }\n",
       "\n",
       "    .dataframe tbody tr th {\n",
       "        vertical-align: top;\n",
       "    }\n",
       "\n",
       "    .dataframe thead th {\n",
       "        text-align: right;\n",
       "    }\n",
       "</style>\n",
       "<table border=\"1\" class=\"dataframe\">\n",
       "  <thead>\n",
       "    <tr style=\"text-align: right;\">\n",
       "      <th></th>\n",
       "      <th>Title</th>\n",
       "      <th>Video ID</th>\n",
       "      <th>Published At</th>\n",
       "      <th>Keyword</th>\n",
       "      <th>Likes</th>\n",
       "      <th>Comments</th>\n",
       "      <th>Views</th>\n",
       "    </tr>\n",
       "  </thead>\n",
       "  <tbody>\n",
       "    <tr>\n",
       "      <th>243</th>\n",
       "      <td>How To Build A Business That Works | Brian Tra...</td>\n",
       "      <td>MN7yfV4UuCI</td>\n",
       "      <td>2021-02-09</td>\n",
       "      <td>business</td>\n",
       "      <td>-1.0</td>\n",
       "      <td>1144.0</td>\n",
       "      <td>676300.0</td>\n",
       "    </tr>\n",
       "    <tr>\n",
       "      <th>266</th>\n",
       "      <td>ตลาดถุงมือยางทรุด! ฉุดราคาร่วงลงทุนหด | BUSINE...</td>\n",
       "      <td>cG37cEi1nPc</td>\n",
       "      <td>2022-08-23</td>\n",
       "      <td>business</td>\n",
       "      <td>-1.0</td>\n",
       "      <td>13.0</td>\n",
       "      <td>12332.0</td>\n",
       "    </tr>\n",
       "    <tr>\n",
       "      <th>583</th>\n",
       "      <td>DON&amp;#39;T GOOGLE THIS STUFF</td>\n",
       "      <td>NAV2laKrDv4</td>\n",
       "      <td>2017-08-28</td>\n",
       "      <td>google</td>\n",
       "      <td>-1.0</td>\n",
       "      <td>18676.0</td>\n",
       "      <td>6515548.0</td>\n",
       "    </tr>\n",
       "    <tr>\n",
       "      <th>1016</th>\n",
       "      <td>15 Kilo Zayıf Gösteren Kız Makyajı |Arkadaşlar...</td>\n",
       "      <td>-NcdEl405KY</td>\n",
       "      <td>2022-08-23</td>\n",
       "      <td>mukbang</td>\n",
       "      <td>-1.0</td>\n",
       "      <td>335.0</td>\n",
       "      <td>27451.0</td>\n",
       "    </tr>\n",
       "    <tr>\n",
       "      <th>1677</th>\n",
       "      <td>FULL Marvel Studios Panel from Hall H | San Di...</td>\n",
       "      <td>rf-NqJQJHBU</td>\n",
       "      <td>2022-07-24</td>\n",
       "      <td>marvel</td>\n",
       "      <td>-1.0</td>\n",
       "      <td>821.0</td>\n",
       "      <td>553892.0</td>\n",
       "    </tr>\n",
       "    <tr>\n",
       "      <th>1710</th>\n",
       "      <td>The Magnificent Seven - Full Movie In English ...</td>\n",
       "      <td>1MZY_0tYmrs</td>\n",
       "      <td>2021-12-29</td>\n",
       "      <td>movies</td>\n",
       "      <td>-1.0</td>\n",
       "      <td>180.0</td>\n",
       "      <td>2389222.0</td>\n",
       "    </tr>\n",
       "    <tr>\n",
       "      <th>1714</th>\n",
       "      <td>Vikram Vedha Movie Teaser Review | KRK | #krkr...</td>\n",
       "      <td>2FYvHn12pOQ</td>\n",
       "      <td>2022-08-24</td>\n",
       "      <td>movies</td>\n",
       "      <td>-1.0</td>\n",
       "      <td>105.0</td>\n",
       "      <td>1541874.0</td>\n",
       "    </tr>\n",
       "  </tbody>\n",
       "</table>\n",
       "</div>"
      ],
      "text/plain": [
       "                                                  Title     Video ID  \\\n",
       "243   How To Build A Business That Works | Brian Tra...  MN7yfV4UuCI   \n",
       "266   ตลาดถุงมือยางทรุด! ฉุดราคาร่วงลงทุนหด | BUSINE...  cG37cEi1nPc   \n",
       "583                         DON&#39;T GOOGLE THIS STUFF  NAV2laKrDv4   \n",
       "1016  15 Kilo Zayıf Gösteren Kız Makyajı |Arkadaşlar...  -NcdEl405KY   \n",
       "1677  FULL Marvel Studios Panel from Hall H | San Di...  rf-NqJQJHBU   \n",
       "1710  The Magnificent Seven - Full Movie In English ...  1MZY_0tYmrs   \n",
       "1714  Vikram Vedha Movie Teaser Review | KRK | #krkr...  2FYvHn12pOQ   \n",
       "\n",
       "     Published At   Keyword  Likes  Comments      Views  \n",
       "243    2021-02-09  business   -1.0    1144.0   676300.0  \n",
       "266    2022-08-23  business   -1.0      13.0    12332.0  \n",
       "583    2017-08-28    google   -1.0   18676.0  6515548.0  \n",
       "1016   2022-08-23   mukbang   -1.0     335.0    27451.0  \n",
       "1677   2022-07-24    marvel   -1.0     821.0   553892.0  \n",
       "1710   2021-12-29    movies   -1.0     180.0  2389222.0  \n",
       "1714   2022-08-24    movies   -1.0     105.0  1541874.0  "
      ]
     },
     "execution_count": 17,
     "metadata": {},
     "output_type": "execute_result"
    }
   ],
   "source": [
    "#display the rows which have -1 values in likes \n",
    "vd.loc[vd.Likes == -1]"
   ]
  },
  {
   "cell_type": "code",
   "execution_count": 18,
   "id": "3cff08f5",
   "metadata": {},
   "outputs": [
    {
     "data": {
      "text/html": [
       "<div>\n",
       "<style scoped>\n",
       "    .dataframe tbody tr th:only-of-type {\n",
       "        vertical-align: middle;\n",
       "    }\n",
       "\n",
       "    .dataframe tbody tr th {\n",
       "        vertical-align: top;\n",
       "    }\n",
       "\n",
       "    .dataframe thead th {\n",
       "        text-align: right;\n",
       "    }\n",
       "</style>\n",
       "<table border=\"1\" class=\"dataframe\">\n",
       "  <thead>\n",
       "    <tr style=\"text-align: right;\">\n",
       "      <th></th>\n",
       "      <th>Title</th>\n",
       "      <th>Video ID</th>\n",
       "      <th>Published At</th>\n",
       "      <th>Keyword</th>\n",
       "      <th>Likes</th>\n",
       "      <th>Comments</th>\n",
       "      <th>Views</th>\n",
       "    </tr>\n",
       "  </thead>\n",
       "  <tbody>\n",
       "    <tr>\n",
       "      <th>1701</th>\n",
       "      <td>SURVIVOR 🦀🦂 Best Action Movies 2022 🦀🦂 Latest ...</td>\n",
       "      <td>__7MkaWFObQ</td>\n",
       "      <td>2022-08-20</td>\n",
       "      <td>movies</td>\n",
       "      <td>105.0</td>\n",
       "      <td>-1.0</td>\n",
       "      <td>28219.0</td>\n",
       "    </tr>\n",
       "    <tr>\n",
       "      <th>1709</th>\n",
       "      <td>BEST Auditions Of Songs From Movies | Amazing ...</td>\n",
       "      <td>ZcBBGC8_mfU</td>\n",
       "      <td>2022-07-25</td>\n",
       "      <td>movies</td>\n",
       "      <td>20138.0</td>\n",
       "      <td>-1.0</td>\n",
       "      <td>5351960.0</td>\n",
       "    </tr>\n",
       "  </tbody>\n",
       "</table>\n",
       "</div>"
      ],
      "text/plain": [
       "                                                  Title     Video ID  \\\n",
       "1701  SURVIVOR 🦀🦂 Best Action Movies 2022 🦀🦂 Latest ...  __7MkaWFObQ   \n",
       "1709  BEST Auditions Of Songs From Movies | Amazing ...  ZcBBGC8_mfU   \n",
       "\n",
       "     Published At Keyword    Likes  Comments      Views  \n",
       "1701   2022-08-20  movies    105.0      -1.0    28219.0  \n",
       "1709   2022-07-25  movies  20138.0      -1.0  5351960.0  "
      ]
     },
     "execution_count": 18,
     "metadata": {},
     "output_type": "execute_result"
    }
   ],
   "source": [
    "#display the rows which have -1 values in Comments \n",
    "vd.loc[vd.Comments == -1]"
   ]
  },
  {
   "cell_type": "code",
   "execution_count": 19,
   "id": "4cf743fd",
   "metadata": {},
   "outputs": [
    {
     "data": {
      "text/html": [
       "<div>\n",
       "<style scoped>\n",
       "    .dataframe tbody tr th:only-of-type {\n",
       "        vertical-align: middle;\n",
       "    }\n",
       "\n",
       "    .dataframe tbody tr th {\n",
       "        vertical-align: top;\n",
       "    }\n",
       "\n",
       "    .dataframe thead th {\n",
       "        text-align: right;\n",
       "    }\n",
       "</style>\n",
       "<table border=\"1\" class=\"dataframe\">\n",
       "  <thead>\n",
       "    <tr style=\"text-align: right;\">\n",
       "      <th></th>\n",
       "      <th>Video ID</th>\n",
       "      <th>Comment</th>\n",
       "      <th>Likes</th>\n",
       "      <th>Sentiment</th>\n",
       "    </tr>\n",
       "  </thead>\n",
       "  <tbody>\n",
       "    <tr>\n",
       "      <th>16640</th>\n",
       "      <td>__7MkaWFObQ</td>\n",
       "      <td>[  ]  [v] ¡EXCELENTE\\n Western Clásico y me en...</td>\n",
       "      <td>1.0</td>\n",
       "      <td>1.0</td>\n",
       "    </tr>\n",
       "    <tr>\n",
       "      <th>16641</th>\n",
       "      <td>__7MkaWFObQ</td>\n",
       "      <td>It would have been a nice movie only it's real...</td>\n",
       "      <td>3.0</td>\n",
       "      <td>1.0</td>\n",
       "    </tr>\n",
       "    <tr>\n",
       "      <th>16642</th>\n",
       "      <td>__7MkaWFObQ</td>\n",
       "      <td>Thanks for the movie</td>\n",
       "      <td>0.0</td>\n",
       "      <td>2.0</td>\n",
       "    </tr>\n",
       "    <tr>\n",
       "      <th>16643</th>\n",
       "      <td>__7MkaWFObQ</td>\n",
       "      <td>Worthless movie and screwed up sound track ......</td>\n",
       "      <td>6.0</td>\n",
       "      <td>0.0</td>\n",
       "    </tr>\n",
       "    <tr>\n",
       "      <th>16644</th>\n",
       "      <td>__7MkaWFObQ</td>\n",
       "      <td>👍🌹🌹🌹</td>\n",
       "      <td>0.0</td>\n",
       "      <td>2.0</td>\n",
       "    </tr>\n",
       "    <tr>\n",
       "      <th>16645</th>\n",
       "      <td>__7MkaWFObQ</td>\n",
       "      <td>NOT EVEN THE SAME MOVIE AND ITS A BUNCH OF JOC...</td>\n",
       "      <td>0.0</td>\n",
       "      <td>0.0</td>\n",
       "    </tr>\n",
       "    <tr>\n",
       "      <th>16646</th>\n",
       "      <td>__7MkaWFObQ</td>\n",
       "      <td>What a DUD movie! Voices are out of sync and t...</td>\n",
       "      <td>0.0</td>\n",
       "      <td>0.0</td>\n",
       "    </tr>\n",
       "    <tr>\n",
       "      <th>16647</th>\n",
       "      <td>__7MkaWFObQ</td>\n",
       "      <td>Not loud enough!</td>\n",
       "      <td>1.0</td>\n",
       "      <td>0.0</td>\n",
       "    </tr>\n",
       "    <tr>\n",
       "      <th>16648</th>\n",
       "      <td>__7MkaWFObQ</td>\n",
       "      <td>Rubbish Waste of Time.</td>\n",
       "      <td>0.0</td>\n",
       "      <td>0.0</td>\n",
       "    </tr>\n",
       "    <tr>\n",
       "      <th>16718</th>\n",
       "      <td>ZcBBGC8_mfU</td>\n",
       "      <td>Did you ENJOY watching this? Do you want to se...</td>\n",
       "      <td>107.0</td>\n",
       "      <td>2.0</td>\n",
       "    </tr>\n",
       "    <tr>\n",
       "      <th>16719</th>\n",
       "      <td>ZcBBGC8_mfU</td>\n",
       "      <td>That first person has unbelievable control. Un...</td>\n",
       "      <td>150.0</td>\n",
       "      <td>2.0</td>\n",
       "    </tr>\n",
       "    <tr>\n",
       "      <th>16720</th>\n",
       "      <td>ZcBBGC8_mfU</td>\n",
       "      <td>The first singer's voice was glorious-- and wh...</td>\n",
       "      <td>172.0</td>\n",
       "      <td>2.0</td>\n",
       "    </tr>\n",
       "    <tr>\n",
       "      <th>16721</th>\n",
       "      <td>ZcBBGC8_mfU</td>\n",
       "      <td>I really think the lady who sang the song from...</td>\n",
       "      <td>61.0</td>\n",
       "      <td>2.0</td>\n",
       "    </tr>\n",
       "    <tr>\n",
       "      <th>16722</th>\n",
       "      <td>ZcBBGC8_mfU</td>\n",
       "      <td>The first man is definitely, Golden Buzzer!!!!...</td>\n",
       "      <td>149.0</td>\n",
       "      <td>2.0</td>\n",
       "    </tr>\n",
       "    <tr>\n",
       "      <th>16723</th>\n",
       "      <td>ZcBBGC8_mfU</td>\n",
       "      <td>I have watched Sarah Ikumu's performance of \"A...</td>\n",
       "      <td>88.0</td>\n",
       "      <td>2.0</td>\n",
       "    </tr>\n",
       "    <tr>\n",
       "      <th>16724</th>\n",
       "      <td>ZcBBGC8_mfU</td>\n",
       "      <td>The girl who sang Never enough was showing her...</td>\n",
       "      <td>35.0</td>\n",
       "      <td>2.0</td>\n",
       "    </tr>\n",
       "    <tr>\n",
       "      <th>16725</th>\n",
       "      <td>ZcBBGC8_mfU</td>\n",
       "      <td>'Yesterday' Jimmy spent his time teaching onli...</td>\n",
       "      <td>55.0</td>\n",
       "      <td>2.0</td>\n",
       "    </tr>\n",
       "    <tr>\n",
       "      <th>16726</th>\n",
       "      <td>ZcBBGC8_mfU</td>\n",
       "      <td>Simon: \"You should sing something else\"\\nSimon...</td>\n",
       "      <td>87.0</td>\n",
       "      <td>2.0</td>\n",
       "    </tr>\n",
       "    <tr>\n",
       "      <th>16727</th>\n",
       "      <td>ZcBBGC8_mfU</td>\n",
       "      <td>The 15 year old was a superstar already. Such ...</td>\n",
       "      <td>152.0</td>\n",
       "      <td>2.0</td>\n",
       "    </tr>\n",
       "  </tbody>\n",
       "</table>\n",
       "</div>"
      ],
      "text/plain": [
       "          Video ID                                            Comment  Likes  \\\n",
       "16640  __7MkaWFObQ  [  ]  [v] ¡EXCELENTE\\n Western Clásico y me en...    1.0   \n",
       "16641  __7MkaWFObQ  It would have been a nice movie only it's real...    3.0   \n",
       "16642  __7MkaWFObQ                               Thanks for the movie    0.0   \n",
       "16643  __7MkaWFObQ  Worthless movie and screwed up sound track ......    6.0   \n",
       "16644  __7MkaWFObQ                                               👍🌹🌹🌹    0.0   \n",
       "16645  __7MkaWFObQ  NOT EVEN THE SAME MOVIE AND ITS A BUNCH OF JOC...    0.0   \n",
       "16646  __7MkaWFObQ  What a DUD movie! Voices are out of sync and t...    0.0   \n",
       "16647  __7MkaWFObQ                                   Not loud enough!    1.0   \n",
       "16648  __7MkaWFObQ                             Rubbish Waste of Time.    0.0   \n",
       "16718  ZcBBGC8_mfU  Did you ENJOY watching this? Do you want to se...  107.0   \n",
       "16719  ZcBBGC8_mfU  That first person has unbelievable control. Un...  150.0   \n",
       "16720  ZcBBGC8_mfU  The first singer's voice was glorious-- and wh...  172.0   \n",
       "16721  ZcBBGC8_mfU  I really think the lady who sang the song from...   61.0   \n",
       "16722  ZcBBGC8_mfU  The first man is definitely, Golden Buzzer!!!!...  149.0   \n",
       "16723  ZcBBGC8_mfU  I have watched Sarah Ikumu's performance of \"A...   88.0   \n",
       "16724  ZcBBGC8_mfU  The girl who sang Never enough was showing her...   35.0   \n",
       "16725  ZcBBGC8_mfU  'Yesterday' Jimmy spent his time teaching onli...   55.0   \n",
       "16726  ZcBBGC8_mfU  Simon: \"You should sing something else\"\\nSimon...   87.0   \n",
       "16727  ZcBBGC8_mfU  The 15 year old was a superstar already. Such ...  152.0   \n",
       "\n",
       "       Sentiment  \n",
       "16640        1.0  \n",
       "16641        1.0  \n",
       "16642        2.0  \n",
       "16643        0.0  \n",
       "16644        2.0  \n",
       "16645        0.0  \n",
       "16646        0.0  \n",
       "16647        0.0  \n",
       "16648        0.0  \n",
       "16718        2.0  \n",
       "16719        2.0  \n",
       "16720        2.0  \n",
       "16721        2.0  \n",
       "16722        2.0  \n",
       "16723        2.0  \n",
       "16724        2.0  \n",
       "16725        2.0  \n",
       "16726        2.0  \n",
       "16727        2.0  "
      ]
     },
     "execution_count": 19,
     "metadata": {},
     "output_type": "execute_result"
    }
   ],
   "source": [
    "#from above, the comments which are negative their video ID is taken \n",
    "#From the Comment dataset the once with same video ID is displayed \n",
    "cm.loc[(cm[\"Video ID\"] == \"__7MkaWFObQ\") | (cm[\"Video ID\"] == \"ZcBBGC8_mfU\")]"
   ]
  },
  {
   "cell_type": "code",
   "execution_count": 20,
   "id": "a493eeff",
   "metadata": {},
   "outputs": [],
   "source": [
    "#The rows with null values are dropped in both the data sets \n",
    "vd.dropna(inplace=True)\n",
    "cm.dropna(inplace=True)"
   ]
  },
  {
   "cell_type": "code",
   "execution_count": 21,
   "id": "0dc7a1ba",
   "metadata": {},
   "outputs": [],
   "source": [
    "#The rows with -1 values are dropped\n",
    "vd_droped = vd[vd['Likes']==-1].index\n",
    "vd.drop(vd_droped , inplace=True)"
   ]
  },
  {
   "cell_type": "code",
   "execution_count": 22,
   "id": "45905948",
   "metadata": {},
   "outputs": [
    {
     "data": {
      "text/html": [
       "<div>\n",
       "<style scoped>\n",
       "    .dataframe tbody tr th:only-of-type {\n",
       "        vertical-align: middle;\n",
       "    }\n",
       "\n",
       "    .dataframe tbody tr th {\n",
       "        vertical-align: top;\n",
       "    }\n",
       "\n",
       "    .dataframe thead th {\n",
       "        text-align: right;\n",
       "    }\n",
       "</style>\n",
       "<table border=\"1\" class=\"dataframe\">\n",
       "  <thead>\n",
       "    <tr style=\"text-align: right;\">\n",
       "      <th></th>\n",
       "      <th>Title</th>\n",
       "      <th>Video ID</th>\n",
       "      <th>Published At</th>\n",
       "      <th>Keyword</th>\n",
       "      <th>Likes</th>\n",
       "      <th>Comments</th>\n",
       "      <th>Views</th>\n",
       "    </tr>\n",
       "  </thead>\n",
       "  <tbody>\n",
       "  </tbody>\n",
       "</table>\n",
       "</div>"
      ],
      "text/plain": [
       "Empty DataFrame\n",
       "Columns: [Title, Video ID, Published At, Keyword, Likes, Comments, Views]\n",
       "Index: []"
      ]
     },
     "execution_count": 22,
     "metadata": {},
     "output_type": "execute_result"
    }
   ],
   "source": [
    "#As the table is empty, the -1 values have been dropped \n",
    "vd.loc[vd.Likes ==-1]"
   ]
  },
  {
   "cell_type": "code",
   "execution_count": 23,
   "id": "93c503c3",
   "metadata": {},
   "outputs": [],
   "source": [
    "vdc_c_droped = vd[vd['Comments']==-1].index\n",
    "vd.drop(vdc_c_droped , inplace=True)"
   ]
  },
  {
   "cell_type": "code",
   "execution_count": 24,
   "id": "82797e74",
   "metadata": {},
   "outputs": [
    {
     "data": {
      "text/html": [
       "<div>\n",
       "<style scoped>\n",
       "    .dataframe tbody tr th:only-of-type {\n",
       "        vertical-align: middle;\n",
       "    }\n",
       "\n",
       "    .dataframe tbody tr th {\n",
       "        vertical-align: top;\n",
       "    }\n",
       "\n",
       "    .dataframe thead th {\n",
       "        text-align: right;\n",
       "    }\n",
       "</style>\n",
       "<table border=\"1\" class=\"dataframe\">\n",
       "  <thead>\n",
       "    <tr style=\"text-align: right;\">\n",
       "      <th></th>\n",
       "      <th>Title</th>\n",
       "      <th>Video ID</th>\n",
       "      <th>Published At</th>\n",
       "      <th>Keyword</th>\n",
       "      <th>Likes</th>\n",
       "      <th>Comments</th>\n",
       "      <th>Views</th>\n",
       "    </tr>\n",
       "  </thead>\n",
       "  <tbody>\n",
       "  </tbody>\n",
       "</table>\n",
       "</div>"
      ],
      "text/plain": [
       "Empty DataFrame\n",
       "Columns: [Title, Video ID, Published At, Keyword, Likes, Comments, Views]\n",
       "Index: []"
      ]
     },
     "execution_count": 24,
     "metadata": {},
     "output_type": "execute_result"
    }
   ],
   "source": [
    "vd.loc[vd.Comments==-1]"
   ]
  },
  {
   "cell_type": "code",
   "execution_count": 25,
   "id": "fe52eb24",
   "metadata": {},
   "outputs": [],
   "source": [
    "#converting the data types of certain columns to int64\n",
    "vd[[\"Likes\",\"Comments\",\"Views\"]] = vd[[\"Likes\",\"Comments\",\"Views\"]].astype(np.int64)\n",
    "cm[[\"Sentiment\",\"Likes\"]]= cm[[\"Sentiment\",\"Likes\"]].astype(np.int64)"
   ]
  },
  {
   "cell_type": "code",
   "execution_count": 26,
   "id": "72a89b27",
   "metadata": {
    "scrolled": false
   },
   "outputs": [
    {
     "data": {
      "application/vnd.plotly.v1+json": {
       "config": {
        "plotlyServerURL": "https://plot.ly"
       },
       "data": [
        {
         "domain": {
          "x": [
           0,
           1
          ],
          "y": [
           0,
           1
          ]
         },
         "hovertemplate": "label=%{label}<br>value=%{value}<extra></extra>",
         "labels": [
          "minecraft",
          "asmr",
          "mrbeast",
          "cnn",
          "history",
          "interview",
          "physics",
          "reaction",
          "cubes",
          "crypto",
          "tutorial",
          "data science",
          "game development",
          "trolling",
          "xbox",
          "sat",
          "marvel",
          "sports",
          "tech",
          "computer science",
          "nintendo",
          "food",
          "machine learning",
          "how-to",
          "chess",
          "biology",
          "music",
          "literature",
          "business",
          "bed",
          "google",
          "mukbang",
          "gaming",
          "apple",
          "lofi",
          "movies",
          "news",
          "finance",
          "animals",
          "education",
          "mathchemistry"
         ],
         "legendgroup": "",
         "name": "",
         "showlegend": true,
         "type": "pie",
         "values": [
          50,
          50,
          50,
          50,
          50,
          50,
          50,
          50,
          50,
          50,
          50,
          50,
          50,
          50,
          49,
          49,
          49,
          49,
          48,
          48,
          48,
          48,
          48,
          48,
          47,
          47,
          46,
          46,
          46,
          44,
          44,
          44,
          43,
          42,
          41,
          41,
          39,
          39,
          38,
          24,
          15
         ]
        }
       ],
       "layout": {
        "legend": {
         "tracegroupgap": 0
        },
        "template": {
         "data": {
          "bar": [
           {
            "error_x": {
             "color": "#2a3f5f"
            },
            "error_y": {
             "color": "#2a3f5f"
            },
            "marker": {
             "line": {
              "color": "#E5ECF6",
              "width": 0.5
             },
             "pattern": {
              "fillmode": "overlay",
              "size": 10,
              "solidity": 0.2
             }
            },
            "type": "bar"
           }
          ],
          "barpolar": [
           {
            "marker": {
             "line": {
              "color": "#E5ECF6",
              "width": 0.5
             },
             "pattern": {
              "fillmode": "overlay",
              "size": 10,
              "solidity": 0.2
             }
            },
            "type": "barpolar"
           }
          ],
          "carpet": [
           {
            "aaxis": {
             "endlinecolor": "#2a3f5f",
             "gridcolor": "white",
             "linecolor": "white",
             "minorgridcolor": "white",
             "startlinecolor": "#2a3f5f"
            },
            "baxis": {
             "endlinecolor": "#2a3f5f",
             "gridcolor": "white",
             "linecolor": "white",
             "minorgridcolor": "white",
             "startlinecolor": "#2a3f5f"
            },
            "type": "carpet"
           }
          ],
          "choropleth": [
           {
            "colorbar": {
             "outlinewidth": 0,
             "ticks": ""
            },
            "type": "choropleth"
           }
          ],
          "contour": [
           {
            "colorbar": {
             "outlinewidth": 0,
             "ticks": ""
            },
            "colorscale": [
             [
              0,
              "#0d0887"
             ],
             [
              0.1111111111111111,
              "#46039f"
             ],
             [
              0.2222222222222222,
              "#7201a8"
             ],
             [
              0.3333333333333333,
              "#9c179e"
             ],
             [
              0.4444444444444444,
              "#bd3786"
             ],
             [
              0.5555555555555556,
              "#d8576b"
             ],
             [
              0.6666666666666666,
              "#ed7953"
             ],
             [
              0.7777777777777778,
              "#fb9f3a"
             ],
             [
              0.8888888888888888,
              "#fdca26"
             ],
             [
              1,
              "#f0f921"
             ]
            ],
            "type": "contour"
           }
          ],
          "contourcarpet": [
           {
            "colorbar": {
             "outlinewidth": 0,
             "ticks": ""
            },
            "type": "contourcarpet"
           }
          ],
          "heatmap": [
           {
            "colorbar": {
             "outlinewidth": 0,
             "ticks": ""
            },
            "colorscale": [
             [
              0,
              "#0d0887"
             ],
             [
              0.1111111111111111,
              "#46039f"
             ],
             [
              0.2222222222222222,
              "#7201a8"
             ],
             [
              0.3333333333333333,
              "#9c179e"
             ],
             [
              0.4444444444444444,
              "#bd3786"
             ],
             [
              0.5555555555555556,
              "#d8576b"
             ],
             [
              0.6666666666666666,
              "#ed7953"
             ],
             [
              0.7777777777777778,
              "#fb9f3a"
             ],
             [
              0.8888888888888888,
              "#fdca26"
             ],
             [
              1,
              "#f0f921"
             ]
            ],
            "type": "heatmap"
           }
          ],
          "heatmapgl": [
           {
            "colorbar": {
             "outlinewidth": 0,
             "ticks": ""
            },
            "colorscale": [
             [
              0,
              "#0d0887"
             ],
             [
              0.1111111111111111,
              "#46039f"
             ],
             [
              0.2222222222222222,
              "#7201a8"
             ],
             [
              0.3333333333333333,
              "#9c179e"
             ],
             [
              0.4444444444444444,
              "#bd3786"
             ],
             [
              0.5555555555555556,
              "#d8576b"
             ],
             [
              0.6666666666666666,
              "#ed7953"
             ],
             [
              0.7777777777777778,
              "#fb9f3a"
             ],
             [
              0.8888888888888888,
              "#fdca26"
             ],
             [
              1,
              "#f0f921"
             ]
            ],
            "type": "heatmapgl"
           }
          ],
          "histogram": [
           {
            "marker": {
             "pattern": {
              "fillmode": "overlay",
              "size": 10,
              "solidity": 0.2
             }
            },
            "type": "histogram"
           }
          ],
          "histogram2d": [
           {
            "colorbar": {
             "outlinewidth": 0,
             "ticks": ""
            },
            "colorscale": [
             [
              0,
              "#0d0887"
             ],
             [
              0.1111111111111111,
              "#46039f"
             ],
             [
              0.2222222222222222,
              "#7201a8"
             ],
             [
              0.3333333333333333,
              "#9c179e"
             ],
             [
              0.4444444444444444,
              "#bd3786"
             ],
             [
              0.5555555555555556,
              "#d8576b"
             ],
             [
              0.6666666666666666,
              "#ed7953"
             ],
             [
              0.7777777777777778,
              "#fb9f3a"
             ],
             [
              0.8888888888888888,
              "#fdca26"
             ],
             [
              1,
              "#f0f921"
             ]
            ],
            "type": "histogram2d"
           }
          ],
          "histogram2dcontour": [
           {
            "colorbar": {
             "outlinewidth": 0,
             "ticks": ""
            },
            "colorscale": [
             [
              0,
              "#0d0887"
             ],
             [
              0.1111111111111111,
              "#46039f"
             ],
             [
              0.2222222222222222,
              "#7201a8"
             ],
             [
              0.3333333333333333,
              "#9c179e"
             ],
             [
              0.4444444444444444,
              "#bd3786"
             ],
             [
              0.5555555555555556,
              "#d8576b"
             ],
             [
              0.6666666666666666,
              "#ed7953"
             ],
             [
              0.7777777777777778,
              "#fb9f3a"
             ],
             [
              0.8888888888888888,
              "#fdca26"
             ],
             [
              1,
              "#f0f921"
             ]
            ],
            "type": "histogram2dcontour"
           }
          ],
          "mesh3d": [
           {
            "colorbar": {
             "outlinewidth": 0,
             "ticks": ""
            },
            "type": "mesh3d"
           }
          ],
          "parcoords": [
           {
            "line": {
             "colorbar": {
              "outlinewidth": 0,
              "ticks": ""
             }
            },
            "type": "parcoords"
           }
          ],
          "pie": [
           {
            "automargin": true,
            "type": "pie"
           }
          ],
          "scatter": [
           {
            "fillpattern": {
             "fillmode": "overlay",
             "size": 10,
             "solidity": 0.2
            },
            "type": "scatter"
           }
          ],
          "scatter3d": [
           {
            "line": {
             "colorbar": {
              "outlinewidth": 0,
              "ticks": ""
             }
            },
            "marker": {
             "colorbar": {
              "outlinewidth": 0,
              "ticks": ""
             }
            },
            "type": "scatter3d"
           }
          ],
          "scattercarpet": [
           {
            "marker": {
             "colorbar": {
              "outlinewidth": 0,
              "ticks": ""
             }
            },
            "type": "scattercarpet"
           }
          ],
          "scattergeo": [
           {
            "marker": {
             "colorbar": {
              "outlinewidth": 0,
              "ticks": ""
             }
            },
            "type": "scattergeo"
           }
          ],
          "scattergl": [
           {
            "marker": {
             "colorbar": {
              "outlinewidth": 0,
              "ticks": ""
             }
            },
            "type": "scattergl"
           }
          ],
          "scattermapbox": [
           {
            "marker": {
             "colorbar": {
              "outlinewidth": 0,
              "ticks": ""
             }
            },
            "type": "scattermapbox"
           }
          ],
          "scatterpolar": [
           {
            "marker": {
             "colorbar": {
              "outlinewidth": 0,
              "ticks": ""
             }
            },
            "type": "scatterpolar"
           }
          ],
          "scatterpolargl": [
           {
            "marker": {
             "colorbar": {
              "outlinewidth": 0,
              "ticks": ""
             }
            },
            "type": "scatterpolargl"
           }
          ],
          "scatterternary": [
           {
            "marker": {
             "colorbar": {
              "outlinewidth": 0,
              "ticks": ""
             }
            },
            "type": "scatterternary"
           }
          ],
          "surface": [
           {
            "colorbar": {
             "outlinewidth": 0,
             "ticks": ""
            },
            "colorscale": [
             [
              0,
              "#0d0887"
             ],
             [
              0.1111111111111111,
              "#46039f"
             ],
             [
              0.2222222222222222,
              "#7201a8"
             ],
             [
              0.3333333333333333,
              "#9c179e"
             ],
             [
              0.4444444444444444,
              "#bd3786"
             ],
             [
              0.5555555555555556,
              "#d8576b"
             ],
             [
              0.6666666666666666,
              "#ed7953"
             ],
             [
              0.7777777777777778,
              "#fb9f3a"
             ],
             [
              0.8888888888888888,
              "#fdca26"
             ],
             [
              1,
              "#f0f921"
             ]
            ],
            "type": "surface"
           }
          ],
          "table": [
           {
            "cells": {
             "fill": {
              "color": "#EBF0F8"
             },
             "line": {
              "color": "white"
             }
            },
            "header": {
             "fill": {
              "color": "#C8D4E3"
             },
             "line": {
              "color": "white"
             }
            },
            "type": "table"
           }
          ]
         },
         "layout": {
          "annotationdefaults": {
           "arrowcolor": "#2a3f5f",
           "arrowhead": 0,
           "arrowwidth": 1
          },
          "autotypenumbers": "strict",
          "coloraxis": {
           "colorbar": {
            "outlinewidth": 0,
            "ticks": ""
           }
          },
          "colorscale": {
           "diverging": [
            [
             0,
             "#8e0152"
            ],
            [
             0.1,
             "#c51b7d"
            ],
            [
             0.2,
             "#de77ae"
            ],
            [
             0.3,
             "#f1b6da"
            ],
            [
             0.4,
             "#fde0ef"
            ],
            [
             0.5,
             "#f7f7f7"
            ],
            [
             0.6,
             "#e6f5d0"
            ],
            [
             0.7,
             "#b8e186"
            ],
            [
             0.8,
             "#7fbc41"
            ],
            [
             0.9,
             "#4d9221"
            ],
            [
             1,
             "#276419"
            ]
           ],
           "sequential": [
            [
             0,
             "#0d0887"
            ],
            [
             0.1111111111111111,
             "#46039f"
            ],
            [
             0.2222222222222222,
             "#7201a8"
            ],
            [
             0.3333333333333333,
             "#9c179e"
            ],
            [
             0.4444444444444444,
             "#bd3786"
            ],
            [
             0.5555555555555556,
             "#d8576b"
            ],
            [
             0.6666666666666666,
             "#ed7953"
            ],
            [
             0.7777777777777778,
             "#fb9f3a"
            ],
            [
             0.8888888888888888,
             "#fdca26"
            ],
            [
             1,
             "#f0f921"
            ]
           ],
           "sequentialminus": [
            [
             0,
             "#0d0887"
            ],
            [
             0.1111111111111111,
             "#46039f"
            ],
            [
             0.2222222222222222,
             "#7201a8"
            ],
            [
             0.3333333333333333,
             "#9c179e"
            ],
            [
             0.4444444444444444,
             "#bd3786"
            ],
            [
             0.5555555555555556,
             "#d8576b"
            ],
            [
             0.6666666666666666,
             "#ed7953"
            ],
            [
             0.7777777777777778,
             "#fb9f3a"
            ],
            [
             0.8888888888888888,
             "#fdca26"
            ],
            [
             1,
             "#f0f921"
            ]
           ]
          },
          "colorway": [
           "#636efa",
           "#EF553B",
           "#00cc96",
           "#ab63fa",
           "#FFA15A",
           "#19d3f3",
           "#FF6692",
           "#B6E880",
           "#FF97FF",
           "#FECB52"
          ],
          "font": {
           "color": "#2a3f5f"
          },
          "geo": {
           "bgcolor": "white",
           "lakecolor": "white",
           "landcolor": "#E5ECF6",
           "showlakes": true,
           "showland": true,
           "subunitcolor": "white"
          },
          "hoverlabel": {
           "align": "left"
          },
          "hovermode": "closest",
          "mapbox": {
           "style": "light"
          },
          "paper_bgcolor": "white",
          "plot_bgcolor": "#E5ECF6",
          "polar": {
           "angularaxis": {
            "gridcolor": "white",
            "linecolor": "white",
            "ticks": ""
           },
           "bgcolor": "#E5ECF6",
           "radialaxis": {
            "gridcolor": "white",
            "linecolor": "white",
            "ticks": ""
           }
          },
          "scene": {
           "xaxis": {
            "backgroundcolor": "#E5ECF6",
            "gridcolor": "white",
            "gridwidth": 2,
            "linecolor": "white",
            "showbackground": true,
            "ticks": "",
            "zerolinecolor": "white"
           },
           "yaxis": {
            "backgroundcolor": "#E5ECF6",
            "gridcolor": "white",
            "gridwidth": 2,
            "linecolor": "white",
            "showbackground": true,
            "ticks": "",
            "zerolinecolor": "white"
           },
           "zaxis": {
            "backgroundcolor": "#E5ECF6",
            "gridcolor": "white",
            "gridwidth": 2,
            "linecolor": "white",
            "showbackground": true,
            "ticks": "",
            "zerolinecolor": "white"
           }
          },
          "shapedefaults": {
           "line": {
            "color": "#2a3f5f"
           }
          },
          "ternary": {
           "aaxis": {
            "gridcolor": "white",
            "linecolor": "white",
            "ticks": ""
           },
           "baxis": {
            "gridcolor": "white",
            "linecolor": "white",
            "ticks": ""
           },
           "bgcolor": "#E5ECF6",
           "caxis": {
            "gridcolor": "white",
            "linecolor": "white",
            "ticks": ""
           }
          },
          "title": {
           "x": 0.05
          },
          "xaxis": {
           "automargin": true,
           "gridcolor": "white",
           "linecolor": "white",
           "ticks": "",
           "title": {
            "standoff": 15
           },
           "zerolinecolor": "white",
           "zerolinewidth": 2
          },
          "yaxis": {
           "automargin": true,
           "gridcolor": "white",
           "linecolor": "white",
           "ticks": "",
           "title": {
            "standoff": 15
           },
           "zerolinecolor": "white",
           "zerolinewidth": 2
          }
         }
        },
        "title": {
         "text": "Category Breakdown"
        }
       }
      },
      "text/html": [
       "<div>                            <div id=\"1a3fb7cf-a25a-4c0f-a1b6-7917c2035872\" class=\"plotly-graph-div\" style=\"height:525px; width:100%;\"></div>            <script type=\"text/javascript\">                require([\"plotly\"], function(Plotly) {                    window.PLOTLYENV=window.PLOTLYENV || {};                                    if (document.getElementById(\"1a3fb7cf-a25a-4c0f-a1b6-7917c2035872\")) {                    Plotly.newPlot(                        \"1a3fb7cf-a25a-4c0f-a1b6-7917c2035872\",                        [{\"domain\":{\"x\":[0.0,1.0],\"y\":[0.0,1.0]},\"hovertemplate\":\"label=%{label}<br>value=%{value}<extra></extra>\",\"labels\":[\"minecraft\",\"asmr\",\"mrbeast\",\"cnn\",\"history\",\"interview\",\"physics\",\"reaction\",\"cubes\",\"crypto\",\"tutorial\",\"data science\",\"game development\",\"trolling\",\"xbox\",\"sat\",\"marvel\",\"sports\",\"tech\",\"computer science\",\"nintendo\",\"food\",\"machine learning\",\"how-to\",\"chess\",\"biology\",\"music\",\"literature\",\"business\",\"bed\",\"google\",\"mukbang\",\"gaming\",\"apple\",\"lofi\",\"movies\",\"news\",\"finance\",\"animals\",\"education\",\"mathchemistry\"],\"legendgroup\":\"\",\"name\":\"\",\"showlegend\":true,\"values\":[50,50,50,50,50,50,50,50,50,50,50,50,50,50,49,49,49,49,48,48,48,48,48,48,47,47,46,46,46,44,44,44,43,42,41,41,39,39,38,24,15],\"type\":\"pie\"}],                        {\"template\":{\"data\":{\"histogram2dcontour\":[{\"type\":\"histogram2dcontour\",\"colorbar\":{\"outlinewidth\":0,\"ticks\":\"\"},\"colorscale\":[[0.0,\"#0d0887\"],[0.1111111111111111,\"#46039f\"],[0.2222222222222222,\"#7201a8\"],[0.3333333333333333,\"#9c179e\"],[0.4444444444444444,\"#bd3786\"],[0.5555555555555556,\"#d8576b\"],[0.6666666666666666,\"#ed7953\"],[0.7777777777777778,\"#fb9f3a\"],[0.8888888888888888,\"#fdca26\"],[1.0,\"#f0f921\"]]}],\"choropleth\":[{\"type\":\"choropleth\",\"colorbar\":{\"outlinewidth\":0,\"ticks\":\"\"}}],\"histogram2d\":[{\"type\":\"histogram2d\",\"colorbar\":{\"outlinewidth\":0,\"ticks\":\"\"},\"colorscale\":[[0.0,\"#0d0887\"],[0.1111111111111111,\"#46039f\"],[0.2222222222222222,\"#7201a8\"],[0.3333333333333333,\"#9c179e\"],[0.4444444444444444,\"#bd3786\"],[0.5555555555555556,\"#d8576b\"],[0.6666666666666666,\"#ed7953\"],[0.7777777777777778,\"#fb9f3a\"],[0.8888888888888888,\"#fdca26\"],[1.0,\"#f0f921\"]]}],\"heatmap\":[{\"type\":\"heatmap\",\"colorbar\":{\"outlinewidth\":0,\"ticks\":\"\"},\"colorscale\":[[0.0,\"#0d0887\"],[0.1111111111111111,\"#46039f\"],[0.2222222222222222,\"#7201a8\"],[0.3333333333333333,\"#9c179e\"],[0.4444444444444444,\"#bd3786\"],[0.5555555555555556,\"#d8576b\"],[0.6666666666666666,\"#ed7953\"],[0.7777777777777778,\"#fb9f3a\"],[0.8888888888888888,\"#fdca26\"],[1.0,\"#f0f921\"]]}],\"heatmapgl\":[{\"type\":\"heatmapgl\",\"colorbar\":{\"outlinewidth\":0,\"ticks\":\"\"},\"colorscale\":[[0.0,\"#0d0887\"],[0.1111111111111111,\"#46039f\"],[0.2222222222222222,\"#7201a8\"],[0.3333333333333333,\"#9c179e\"],[0.4444444444444444,\"#bd3786\"],[0.5555555555555556,\"#d8576b\"],[0.6666666666666666,\"#ed7953\"],[0.7777777777777778,\"#fb9f3a\"],[0.8888888888888888,\"#fdca26\"],[1.0,\"#f0f921\"]]}],\"contourcarpet\":[{\"type\":\"contourcarpet\",\"colorbar\":{\"outlinewidth\":0,\"ticks\":\"\"}}],\"contour\":[{\"type\":\"contour\",\"colorbar\":{\"outlinewidth\":0,\"ticks\":\"\"},\"colorscale\":[[0.0,\"#0d0887\"],[0.1111111111111111,\"#46039f\"],[0.2222222222222222,\"#7201a8\"],[0.3333333333333333,\"#9c179e\"],[0.4444444444444444,\"#bd3786\"],[0.5555555555555556,\"#d8576b\"],[0.6666666666666666,\"#ed7953\"],[0.7777777777777778,\"#fb9f3a\"],[0.8888888888888888,\"#fdca26\"],[1.0,\"#f0f921\"]]}],\"surface\":[{\"type\":\"surface\",\"colorbar\":{\"outlinewidth\":0,\"ticks\":\"\"},\"colorscale\":[[0.0,\"#0d0887\"],[0.1111111111111111,\"#46039f\"],[0.2222222222222222,\"#7201a8\"],[0.3333333333333333,\"#9c179e\"],[0.4444444444444444,\"#bd3786\"],[0.5555555555555556,\"#d8576b\"],[0.6666666666666666,\"#ed7953\"],[0.7777777777777778,\"#fb9f3a\"],[0.8888888888888888,\"#fdca26\"],[1.0,\"#f0f921\"]]}],\"mesh3d\":[{\"type\":\"mesh3d\",\"colorbar\":{\"outlinewidth\":0,\"ticks\":\"\"}}],\"scatter\":[{\"fillpattern\":{\"fillmode\":\"overlay\",\"size\":10,\"solidity\":0.2},\"type\":\"scatter\"}],\"parcoords\":[{\"type\":\"parcoords\",\"line\":{\"colorbar\":{\"outlinewidth\":0,\"ticks\":\"\"}}}],\"scatterpolargl\":[{\"type\":\"scatterpolargl\",\"marker\":{\"colorbar\":{\"outlinewidth\":0,\"ticks\":\"\"}}}],\"bar\":[{\"error_x\":{\"color\":\"#2a3f5f\"},\"error_y\":{\"color\":\"#2a3f5f\"},\"marker\":{\"line\":{\"color\":\"#E5ECF6\",\"width\":0.5},\"pattern\":{\"fillmode\":\"overlay\",\"size\":10,\"solidity\":0.2}},\"type\":\"bar\"}],\"scattergeo\":[{\"type\":\"scattergeo\",\"marker\":{\"colorbar\":{\"outlinewidth\":0,\"ticks\":\"\"}}}],\"scatterpolar\":[{\"type\":\"scatterpolar\",\"marker\":{\"colorbar\":{\"outlinewidth\":0,\"ticks\":\"\"}}}],\"histogram\":[{\"marker\":{\"pattern\":{\"fillmode\":\"overlay\",\"size\":10,\"solidity\":0.2}},\"type\":\"histogram\"}],\"scattergl\":[{\"type\":\"scattergl\",\"marker\":{\"colorbar\":{\"outlinewidth\":0,\"ticks\":\"\"}}}],\"scatter3d\":[{\"type\":\"scatter3d\",\"line\":{\"colorbar\":{\"outlinewidth\":0,\"ticks\":\"\"}},\"marker\":{\"colorbar\":{\"outlinewidth\":0,\"ticks\":\"\"}}}],\"scattermapbox\":[{\"type\":\"scattermapbox\",\"marker\":{\"colorbar\":{\"outlinewidth\":0,\"ticks\":\"\"}}}],\"scatterternary\":[{\"type\":\"scatterternary\",\"marker\":{\"colorbar\":{\"outlinewidth\":0,\"ticks\":\"\"}}}],\"scattercarpet\":[{\"type\":\"scattercarpet\",\"marker\":{\"colorbar\":{\"outlinewidth\":0,\"ticks\":\"\"}}}],\"carpet\":[{\"aaxis\":{\"endlinecolor\":\"#2a3f5f\",\"gridcolor\":\"white\",\"linecolor\":\"white\",\"minorgridcolor\":\"white\",\"startlinecolor\":\"#2a3f5f\"},\"baxis\":{\"endlinecolor\":\"#2a3f5f\",\"gridcolor\":\"white\",\"linecolor\":\"white\",\"minorgridcolor\":\"white\",\"startlinecolor\":\"#2a3f5f\"},\"type\":\"carpet\"}],\"table\":[{\"cells\":{\"fill\":{\"color\":\"#EBF0F8\"},\"line\":{\"color\":\"white\"}},\"header\":{\"fill\":{\"color\":\"#C8D4E3\"},\"line\":{\"color\":\"white\"}},\"type\":\"table\"}],\"barpolar\":[{\"marker\":{\"line\":{\"color\":\"#E5ECF6\",\"width\":0.5},\"pattern\":{\"fillmode\":\"overlay\",\"size\":10,\"solidity\":0.2}},\"type\":\"barpolar\"}],\"pie\":[{\"automargin\":true,\"type\":\"pie\"}]},\"layout\":{\"autotypenumbers\":\"strict\",\"colorway\":[\"#636efa\",\"#EF553B\",\"#00cc96\",\"#ab63fa\",\"#FFA15A\",\"#19d3f3\",\"#FF6692\",\"#B6E880\",\"#FF97FF\",\"#FECB52\"],\"font\":{\"color\":\"#2a3f5f\"},\"hovermode\":\"closest\",\"hoverlabel\":{\"align\":\"left\"},\"paper_bgcolor\":\"white\",\"plot_bgcolor\":\"#E5ECF6\",\"polar\":{\"bgcolor\":\"#E5ECF6\",\"angularaxis\":{\"gridcolor\":\"white\",\"linecolor\":\"white\",\"ticks\":\"\"},\"radialaxis\":{\"gridcolor\":\"white\",\"linecolor\":\"white\",\"ticks\":\"\"}},\"ternary\":{\"bgcolor\":\"#E5ECF6\",\"aaxis\":{\"gridcolor\":\"white\",\"linecolor\":\"white\",\"ticks\":\"\"},\"baxis\":{\"gridcolor\":\"white\",\"linecolor\":\"white\",\"ticks\":\"\"},\"caxis\":{\"gridcolor\":\"white\",\"linecolor\":\"white\",\"ticks\":\"\"}},\"coloraxis\":{\"colorbar\":{\"outlinewidth\":0,\"ticks\":\"\"}},\"colorscale\":{\"sequential\":[[0.0,\"#0d0887\"],[0.1111111111111111,\"#46039f\"],[0.2222222222222222,\"#7201a8\"],[0.3333333333333333,\"#9c179e\"],[0.4444444444444444,\"#bd3786\"],[0.5555555555555556,\"#d8576b\"],[0.6666666666666666,\"#ed7953\"],[0.7777777777777778,\"#fb9f3a\"],[0.8888888888888888,\"#fdca26\"],[1.0,\"#f0f921\"]],\"sequentialminus\":[[0.0,\"#0d0887\"],[0.1111111111111111,\"#46039f\"],[0.2222222222222222,\"#7201a8\"],[0.3333333333333333,\"#9c179e\"],[0.4444444444444444,\"#bd3786\"],[0.5555555555555556,\"#d8576b\"],[0.6666666666666666,\"#ed7953\"],[0.7777777777777778,\"#fb9f3a\"],[0.8888888888888888,\"#fdca26\"],[1.0,\"#f0f921\"]],\"diverging\":[[0,\"#8e0152\"],[0.1,\"#c51b7d\"],[0.2,\"#de77ae\"],[0.3,\"#f1b6da\"],[0.4,\"#fde0ef\"],[0.5,\"#f7f7f7\"],[0.6,\"#e6f5d0\"],[0.7,\"#b8e186\"],[0.8,\"#7fbc41\"],[0.9,\"#4d9221\"],[1,\"#276419\"]]},\"xaxis\":{\"gridcolor\":\"white\",\"linecolor\":\"white\",\"ticks\":\"\",\"title\":{\"standoff\":15},\"zerolinecolor\":\"white\",\"automargin\":true,\"zerolinewidth\":2},\"yaxis\":{\"gridcolor\":\"white\",\"linecolor\":\"white\",\"ticks\":\"\",\"title\":{\"standoff\":15},\"zerolinecolor\":\"white\",\"automargin\":true,\"zerolinewidth\":2},\"scene\":{\"xaxis\":{\"backgroundcolor\":\"#E5ECF6\",\"gridcolor\":\"white\",\"linecolor\":\"white\",\"showbackground\":true,\"ticks\":\"\",\"zerolinecolor\":\"white\",\"gridwidth\":2},\"yaxis\":{\"backgroundcolor\":\"#E5ECF6\",\"gridcolor\":\"white\",\"linecolor\":\"white\",\"showbackground\":true,\"ticks\":\"\",\"zerolinecolor\":\"white\",\"gridwidth\":2},\"zaxis\":{\"backgroundcolor\":\"#E5ECF6\",\"gridcolor\":\"white\",\"linecolor\":\"white\",\"showbackground\":true,\"ticks\":\"\",\"zerolinecolor\":\"white\",\"gridwidth\":2}},\"shapedefaults\":{\"line\":{\"color\":\"#2a3f5f\"}},\"annotationdefaults\":{\"arrowcolor\":\"#2a3f5f\",\"arrowhead\":0,\"arrowwidth\":1},\"geo\":{\"bgcolor\":\"white\",\"landcolor\":\"#E5ECF6\",\"subunitcolor\":\"white\",\"showland\":true,\"showlakes\":true,\"lakecolor\":\"white\"},\"title\":{\"x\":0.05},\"mapbox\":{\"style\":\"light\"}}},\"legend\":{\"tracegroupgap\":0},\"title\":{\"text\":\"Category Breakdown\"}},                        {\"responsive\": true}                    ).then(function(){\n",
       "                            \n",
       "var gd = document.getElementById('1a3fb7cf-a25a-4c0f-a1b6-7917c2035872');\n",
       "var x = new MutationObserver(function (mutations, observer) {{\n",
       "        var display = window.getComputedStyle(gd).display;\n",
       "        if (!display || display === 'none') {{\n",
       "            console.log([gd, 'removed!']);\n",
       "            Plotly.purge(gd);\n",
       "            observer.disconnect();\n",
       "        }}\n",
       "}});\n",
       "\n",
       "// Listen for the removal of the full notebook cells\n",
       "var notebookContainer = gd.closest('#notebook-container');\n",
       "if (notebookContainer) {{\n",
       "    x.observe(notebookContainer, {childList: true});\n",
       "}}\n",
       "\n",
       "// Listen for the clearing of the current output cell\n",
       "var outputEl = gd.closest('.output');\n",
       "if (outputEl) {{\n",
       "    x.observe(outputEl, {childList: true});\n",
       "}}\n",
       "\n",
       "                        })                };                });            </script>        </div>"
      ]
     },
     "metadata": {},
     "output_type": "display_data"
    }
   ],
   "source": [
    "#ploting a pie chart based on the catagory \n",
    "px.pie(values=vd.Keyword.value_counts(),\n",
    "       names=vd.Keyword.value_counts().index,title=\"Category Breakdown\")"
   ]
  },
  {
   "cell_type": "code",
   "execution_count": 27,
   "id": "a1c01125",
   "metadata": {},
   "outputs": [
    {
     "data": {
      "text/plain": [
       "<AxesSubplot:xlabel='Sentiment', ylabel='Count'>"
      ]
     },
     "execution_count": 27,
     "metadata": {},
     "output_type": "execute_result"
    },
    {
     "data": {
      "image/png": "[encoded data removed]",
      "text/plain": [
       "<Figure size 640x480 with 1 Axes>"
      ]
     },
     "metadata": {},
     "output_type": "display_data"
    }
   ],
   "source": [
    "#histogram to show the sentiment values and the number of videos for each sentiment value\n",
    "avg = cm.groupby(\"Video ID\").aggregate({\"Sentiment\": \"mean\"})\n",
    "sns.histplot(avg['Sentiment'], color='blue')"
   ]
  },
  {
   "cell_type": "code",
   "execution_count": 28,
   "id": "0753aa97",
   "metadata": {},
   "outputs": [],
   "source": [
    "#observation \n",
    "#The majority of the videos have high level of positive sentiment.\n",
    "#The distribution is highly right skewed"
   ]
  },
  {
   "cell_type": "code",
   "execution_count": 29,
   "id": "76c7f928",
   "metadata": {},
   "outputs": [],
   "source": [
    "#regression plot to show the deviation of likes/views for the videos based on the sentiments of the videos.\n",
    "avg.reset_index(inplace=True)\n",
    "avg['Likes/Views'] = 1000 * (vd['Likes'] / vd['Views'])"
   ]
  },
  {
   "cell_type": "code",
   "execution_count": 30,
   "id": "e107c218",
   "metadata": {},
   "outputs": [
    {
     "data": {
      "text/plain": [
       "<AxesSubplot:xlabel='Sentiment', ylabel='Likes/Views'>"
      ]
     },
     "execution_count": 30,
     "metadata": {},
     "output_type": "execute_result"
    },
    {
     "data": {
      "image/png": "[encoded data removed]",
      "text/plain": [
       "<Figure size 640x480 with 1 Axes>"
      ]
     },
     "metadata": {},
     "output_type": "display_data"
    }
   ],
   "source": [
    "sns.regplot(data=avg, x='Sentiment', y='Likes/Views')"
   ]
  },
  {
   "cell_type": "code",
   "execution_count": 31,
   "id": "fec59d4b",
   "metadata": {},
   "outputs": [],
   "source": [
    "#observation \n",
    "#the data is well deviated "
   ]
  },
  {
   "cell_type": "code",
   "execution_count": 32,
   "id": "9bdf703f",
   "metadata": {},
   "outputs": [
    {
     "data": {
      "text/html": [
       "<div>\n",
       "<style scoped>\n",
       "    .dataframe tbody tr th:only-of-type {\n",
       "        vertical-align: middle;\n",
       "    }\n",
       "\n",
       "    .dataframe tbody tr th {\n",
       "        vertical-align: top;\n",
       "    }\n",
       "\n",
       "    .dataframe thead th {\n",
       "        text-align: right;\n",
       "    }\n",
       "</style>\n",
       "<table border=\"1\" class=\"dataframe\">\n",
       "  <thead>\n",
       "    <tr style=\"text-align: right;\">\n",
       "      <th></th>\n",
       "      <th>Sentiment</th>\n",
       "      <th>Likes/Views</th>\n",
       "    </tr>\n",
       "  </thead>\n",
       "  <tbody>\n",
       "    <tr>\n",
       "      <th>Sentiment</th>\n",
       "      <td>1.000000</td>\n",
       "      <td>-0.010988</td>\n",
       "    </tr>\n",
       "    <tr>\n",
       "      <th>Likes/Views</th>\n",
       "      <td>-0.010988</td>\n",
       "      <td>1.000000</td>\n",
       "    </tr>\n",
       "  </tbody>\n",
       "</table>\n",
       "</div>"
      ],
      "text/plain": [
       "             Sentiment  Likes/Views\n",
       "Sentiment     1.000000    -0.010988\n",
       "Likes/Views  -0.010988     1.000000"
      ]
     },
     "execution_count": 32,
     "metadata": {},
     "output_type": "execute_result"
    }
   ],
   "source": [
    "#correlation of all columns \n",
    "avg.corr()"
   ]
  },
  {
   "cell_type": "code",
   "execution_count": 33,
   "id": "4193d475",
   "metadata": {},
   "outputs": [],
   "source": [
    "#surprisingly,the avg sentiment of top 10 most liked comments\n",
    "#reveals very little about the popularity or performance of the video \n",
    "#Perhaps a higher association between the average emotion and the like/dislike ratio of each\n",
    "#YouTube video would be observed if it were possible to access the dislikes of each video.\n",
    "#We can only sumrise as to what impact the a fore mentioned exploration would have had because YouTube has since erased dislikes\n"
   ]
  },
  {
   "cell_type": "code",
   "execution_count": 34,
   "id": "b40855cf",
   "metadata": {},
   "outputs": [
    {
     "data": {
      "application/vnd.plotly.v1+json": {
       "config": {
        "plotlyServerURL": "https://plot.ly"
       },
       "data": [
        {
         "alignmentgroup": "True",
         "hovertemplate": "x=%{x}<br>y=%{y}<br>text=%{text}<extra></extra>",
         "legendgroup": "",
         "marker": {
          "color": "#636efa",
          "pattern": {
           "shape": ""
          }
         },
         "name": "",
         "offsetgroup": "",
         "orientation": "v",
         "showlegend": false,
         "text": [
          "Count: 11432",
          "Count: 4638",
          "Count: 2338"
         ],
         "textposition": "auto",
         "type": "bar",
         "x": [
          2,
          1,
          0
         ],
         "xaxis": "x",
         "y": [
          11432,
          4638,
          2338
         ],
         "yaxis": "y"
        }
       ],
       "layout": {
        "barmode": "relative",
        "height": 400,
        "legend": {
         "tracegroupgap": 0
        },
        "template": {
         "data": {
          "bar": [
           {
            "error_x": {
             "color": "#2a3f5f"
            },
            "error_y": {
             "color": "#2a3f5f"
            },
            "marker": {
             "line": {
              "color": "#E5ECF6",
              "width": 0.5
             },
             "pattern": {
              "fillmode": "overlay",
              "size": 10,
              "solidity": 0.2
             }
            },
            "type": "bar"
           }
          ],
          "barpolar": [
           {
            "marker": {
             "line": {
              "color": "#E5ECF6",
              "width": 0.5
             },
             "pattern": {
              "fillmode": "overlay",
              "size": 10,
              "solidity": 0.2
             }
            },
            "type": "barpolar"
           }
          ],
          "carpet": [
           {
            "aaxis": {
             "endlinecolor": "#2a3f5f",
             "gridcolor": "white",
             "linecolor": "white",
             "minorgridcolor": "white",
             "startlinecolor": "#2a3f5f"
            },
            "baxis": {
             "endlinecolor": "#2a3f5f",
             "gridcolor": "white",
             "linecolor": "white",
             "minorgridcolor": "white",
             "startlinecolor": "#2a3f5f"
            },
            "type": "carpet"
           }
          ],
          "choropleth": [
           {
            "colorbar": {
             "outlinewidth": 0,
             "ticks": ""
            },
            "type": "choropleth"
           }
          ],
          "contour": [
           {
            "colorbar": {
             "outlinewidth": 0,
             "ticks": ""
            },
            "colorscale": [
             [
              0,
              "#0d0887"
             ],
             [
              0.1111111111111111,
              "#46039f"
             ],
             [
              0.2222222222222222,
              "#7201a8"
             ],
             [
              0.3333333333333333,
              "#9c179e"
             ],
             [
              0.4444444444444444,
              "#bd3786"
             ],
             [
              0.5555555555555556,
              "#d8576b"
             ],
             [
              0.6666666666666666,
              "#ed7953"
             ],
             [
              0.7777777777777778,
              "#fb9f3a"
             ],
             [
              0.8888888888888888,
              "#fdca26"
             ],
             [
              1,
              "#f0f921"
             ]
            ],
            "type": "contour"
           }
          ],
          "contourcarpet": [
           {
            "colorbar": {
             "outlinewidth": 0,
             "ticks": ""
            },
            "type": "contourcarpet"
           }
          ],
          "heatmap": [
           {
            "colorbar": {
             "outlinewidth": 0,
             "ticks": ""
            },
            "colorscale": [
             [
              0,
              "#0d0887"
             ],
             [
              0.1111111111111111,
              "#46039f"
             ],
             [
              0.2222222222222222,
              "#7201a8"
             ],
             [
              0.3333333333333333,
              "#9c179e"
             ],
             [
              0.4444444444444444,
              "#bd3786"
             ],
             [
              0.5555555555555556,
              "#d8576b"
             ],
             [
              0.6666666666666666,
              "#ed7953"
             ],
             [
              0.7777777777777778,
              "#fb9f3a"
             ],
             [
              0.8888888888888888,
              "#fdca26"
             ],
             [
              1,
              "#f0f921"
             ]
            ],
            "type": "heatmap"
           }
          ],
          "heatmapgl": [
           {
            "colorbar": {
             "outlinewidth": 0,
             "ticks": ""
            },
            "colorscale": [
             [
              0,
              "#0d0887"
             ],
             [
              0.1111111111111111,
              "#46039f"
             ],
             [
              0.2222222222222222,
              "#7201a8"
             ],
             [
              0.3333333333333333,
              "#9c179e"
             ],
             [
              0.4444444444444444,
              "#bd3786"
             ],
             [
              0.5555555555555556,
              "#d8576b"
             ],
             [
              0.6666666666666666,
              "#ed7953"
             ],
             [
              0.7777777777777778,
              "#fb9f3a"
             ],
             [
              0.8888888888888888,
              "#fdca26"
             ],
             [
              1,
              "#f0f921"
             ]
            ],
            "type": "heatmapgl"
           }
          ],
          "histogram": [
           {
            "marker": {
             "pattern": {
              "fillmode": "overlay",
              "size": 10,
              "solidity": 0.2
             }
            },
            "type": "histogram"
           }
          ],
          "histogram2d": [
           {
            "colorbar": {
             "outlinewidth": 0,
             "ticks": ""
            },
            "colorscale": [
             [
              0,
              "#0d0887"
             ],
             [
              0.1111111111111111,
              "#46039f"
             ],
             [
              0.2222222222222222,
              "#7201a8"
             ],
             [
              0.3333333333333333,
              "#9c179e"
             ],
             [
              0.4444444444444444,
              "#bd3786"
             ],
             [
              0.5555555555555556,
              "#d8576b"
             ],
             [
              0.6666666666666666,
              "#ed7953"
             ],
             [
              0.7777777777777778,
              "#fb9f3a"
             ],
             [
              0.8888888888888888,
              "#fdca26"
             ],
             [
              1,
              "#f0f921"
             ]
            ],
            "type": "histogram2d"
           }
          ],
          "histogram2dcontour": [
           {
            "colorbar": {
             "outlinewidth": 0,
             "ticks": ""
            },
            "colorscale": [
             [
              0,
              "#0d0887"
             ],
             [
              0.1111111111111111,
              "#46039f"
             ],
             [
              0.2222222222222222,
              "#7201a8"
             ],
             [
              0.3333333333333333,
              "#9c179e"
             ],
             [
              0.4444444444444444,
              "#bd3786"
             ],
             [
              0.5555555555555556,
              "#d8576b"
             ],
             [
              0.6666666666666666,
              "#ed7953"
             ],
             [
              0.7777777777777778,
              "#fb9f3a"
             ],
             [
              0.8888888888888888,
              "#fdca26"
             ],
             [
              1,
              "#f0f921"
             ]
            ],
            "type": "histogram2dcontour"
           }
          ],
          "mesh3d": [
           {
            "colorbar": {
             "outlinewidth": 0,
             "ticks": ""
            },
            "type": "mesh3d"
           }
          ],
          "parcoords": [
           {
            "line": {
             "colorbar": {
              "outlinewidth": 0,
              "ticks": ""
             }
            },
            "type": "parcoords"
           }
          ],
          "pie": [
           {
            "automargin": true,
            "type": "pie"
           }
          ],
          "scatter": [
           {
            "fillpattern": {
             "fillmode": "overlay",
             "size": 10,
             "solidity": 0.2
            },
            "type": "scatter"
           }
          ],
          "scatter3d": [
           {
            "line": {
             "colorbar": {
              "outlinewidth": 0,
              "ticks": ""
             }
            },
            "marker": {
             "colorbar": {
              "outlinewidth": 0,
              "ticks": ""
             }
            },
            "type": "scatter3d"
           }
          ],
          "scattercarpet": [
           {
            "marker": {
             "colorbar": {
              "outlinewidth": 0,
              "ticks": ""
             }
            },
            "type": "scattercarpet"
           }
          ],
          "scattergeo": [
           {
            "marker": {
             "colorbar": {
              "outlinewidth": 0,
              "ticks": ""
             }
            },
            "type": "scattergeo"
           }
          ],
          "scattergl": [
           {
            "marker": {
             "colorbar": {
              "outlinewidth": 0,
              "ticks": ""
             }
            },
            "type": "scattergl"
           }
          ],
          "scattermapbox": [
           {
            "marker": {
             "colorbar": {
              "outlinewidth": 0,
              "ticks": ""
             }
            },
            "type": "scattermapbox"
           }
          ],
          "scatterpolar": [
           {
            "marker": {
             "colorbar": {
              "outlinewidth": 0,
              "ticks": ""
             }
            },
            "type": "scatterpolar"
           }
          ],
          "scatterpolargl": [
           {
            "marker": {
             "colorbar": {
              "outlinewidth": 0,
              "ticks": ""
             }
            },
            "type": "scatterpolargl"
           }
          ],
          "scatterternary": [
           {
            "marker": {
             "colorbar": {
              "outlinewidth": 0,
              "ticks": ""
             }
            },
            "type": "scatterternary"
           }
          ],
          "surface": [
           {
            "colorbar": {
             "outlinewidth": 0,
             "ticks": ""
            },
            "colorscale": [
             [
              0,
              "#0d0887"
             ],
             [
              0.1111111111111111,
              "#46039f"
             ],
             [
              0.2222222222222222,
              "#7201a8"
             ],
             [
              0.3333333333333333,
              "#9c179e"
             ],
             [
              0.4444444444444444,
              "#bd3786"
             ],
             [
              0.5555555555555556,
              "#d8576b"
             ],
             [
              0.6666666666666666,
              "#ed7953"
             ],
             [
              0.7777777777777778,
              "#fb9f3a"
             ],
             [
              0.8888888888888888,
              "#fdca26"
             ],
             [
              1,
              "#f0f921"
             ]
            ],
            "type": "surface"
           }
          ],
          "table": [
           {
            "cells": {
             "fill": {
              "color": "#EBF0F8"
             },
             "line": {
              "color": "white"
             }
            },
            "header": {
             "fill": {
              "color": "#C8D4E3"
             },
             "line": {
              "color": "white"
             }
            },
            "type": "table"
           }
          ]
         },
         "layout": {
          "annotationdefaults": {
           "arrowcolor": "#2a3f5f",
           "arrowhead": 0,
           "arrowwidth": 1
          },
          "autotypenumbers": "strict",
          "coloraxis": {
           "colorbar": {
            "outlinewidth": 0,
            "ticks": ""
           }
          },
          "colorscale": {
           "diverging": [
            [
             0,
             "#8e0152"
            ],
            [
             0.1,
             "#c51b7d"
            ],
            [
             0.2,
             "#de77ae"
            ],
            [
             0.3,
             "#f1b6da"
            ],
            [
             0.4,
             "#fde0ef"
            ],
            [
             0.5,
             "#f7f7f7"
            ],
            [
             0.6,
             "#e6f5d0"
            ],
            [
             0.7,
             "#b8e186"
            ],
            [
             0.8,
             "#7fbc41"
            ],
            [
             0.9,
             "#4d9221"
            ],
            [
             1,
             "#276419"
            ]
           ],
           "sequential": [
            [
             0,
             "#0d0887"
            ],
            [
             0.1111111111111111,
             "#46039f"
            ],
            [
             0.2222222222222222,
             "#7201a8"
            ],
            [
             0.3333333333333333,
             "#9c179e"
            ],
            [
             0.4444444444444444,
             "#bd3786"
            ],
            [
             0.5555555555555556,
             "#d8576b"
            ],
            [
             0.6666666666666666,
             "#ed7953"
            ],
            [
             0.7777777777777778,
             "#fb9f3a"
            ],
            [
             0.8888888888888888,
             "#fdca26"
            ],
            [
             1,
             "#f0f921"
            ]
           ],
           "sequentialminus": [
            [
             0,
             "#0d0887"
            ],
            [
             0.1111111111111111,
             "#46039f"
            ],
            [
             0.2222222222222222,
             "#7201a8"
            ],
            [
             0.3333333333333333,
             "#9c179e"
            ],
            [
             0.4444444444444444,
             "#bd3786"
            ],
            [
             0.5555555555555556,
             "#d8576b"
            ],
            [
             0.6666666666666666,
             "#ed7953"
            ],
            [
             0.7777777777777778,
             "#fb9f3a"
            ],
            [
             0.8888888888888888,
             "#fdca26"
            ],
            [
             1,
             "#f0f921"
            ]
           ]
          },
          "colorway": [
           "#636efa",
           "#EF553B",
           "#00cc96",
           "#ab63fa",
           "#FFA15A",
           "#19d3f3",
           "#FF6692",
           "#B6E880",
           "#FF97FF",
           "#FECB52"
          ],
          "font": {
           "color": "#2a3f5f"
          },
          "geo": {
           "bgcolor": "white",
           "lakecolor": "white",
           "landcolor": "#E5ECF6",
           "showlakes": true,
           "showland": true,
           "subunitcolor": "white"
          },
          "hoverlabel": {
           "align": "left"
          },
          "hovermode": "closest",
          "mapbox": {
           "style": "light"
          },
          "paper_bgcolor": "white",
          "plot_bgcolor": "#E5ECF6",
          "polar": {
           "angularaxis": {
            "gridcolor": "white",
            "linecolor": "white",
            "ticks": ""
           },
           "bgcolor": "#E5ECF6",
           "radialaxis": {
            "gridcolor": "white",
            "linecolor": "white",
            "ticks": ""
           }
          },
          "scene": {
           "xaxis": {
            "backgroundcolor": "#E5ECF6",
            "gridcolor": "white",
            "gridwidth": 2,
            "linecolor": "white",
            "showbackground": true,
            "ticks": "",
            "zerolinecolor": "white"
           },
           "yaxis": {
            "backgroundcolor": "#E5ECF6",
            "gridcolor": "white",
            "gridwidth": 2,
            "linecolor": "white",
            "showbackground": true,
            "ticks": "",
            "zerolinecolor": "white"
           },
           "zaxis": {
            "backgroundcolor": "#E5ECF6",
            "gridcolor": "white",
            "gridwidth": 2,
            "linecolor": "white",
            "showbackground": true,
            "ticks": "",
            "zerolinecolor": "white"
           }
          },
          "shapedefaults": {
           "line": {
            "color": "#2a3f5f"
           }
          },
          "ternary": {
           "aaxis": {
            "gridcolor": "white",
            "linecolor": "white",
            "ticks": ""
           },
           "baxis": {
            "gridcolor": "white",
            "linecolor": "white",
            "ticks": ""
           },
           "bgcolor": "#E5ECF6",
           "caxis": {
            "gridcolor": "white",
            "linecolor": "white",
            "ticks": ""
           }
          },
          "title": {
           "x": 0.05
          },
          "xaxis": {
           "automargin": true,
           "gridcolor": "white",
           "linecolor": "white",
           "ticks": "",
           "title": {
            "standoff": 15
           },
           "zerolinecolor": "white",
           "zerolinewidth": 2
          },
          "yaxis": {
           "automargin": true,
           "gridcolor": "white",
           "linecolor": "white",
           "ticks": "",
           "title": {
            "standoff": 15
           },
           "zerolinecolor": "white",
           "zerolinewidth": 2
          }
         }
        },
        "title": {
         "text": "Sentiment Scores Bar Plot"
        },
        "width": 800,
        "xaxis": {
         "anchor": "y",
         "domain": [
          0,
          1
         ],
         "title": {
          "text": "x"
         }
        },
        "yaxis": {
         "anchor": "x",
         "domain": [
          0,
          1
         ],
         "title": {
          "text": "y"
         }
        }
       }
      },
      "text/html": [
       "<div>                            <div id=\"4204a0ee-8d98-429d-8c21-c29a89bb8865\" class=\"plotly-graph-div\" style=\"height:400px; width:800px;\"></div>            <script type=\"text/javascript\">                require([\"plotly\"], function(Plotly) {                    window.PLOTLYENV=window.PLOTLYENV || {};                                    if (document.getElementById(\"4204a0ee-8d98-429d-8c21-c29a89bb8865\")) {                    Plotly.newPlot(                        \"4204a0ee-8d98-429d-8c21-c29a89bb8865\",                        [{\"alignmentgroup\":\"True\",\"hovertemplate\":\"x=%{x}<br>y=%{y}<br>text=%{text}<extra></extra>\",\"legendgroup\":\"\",\"marker\":{\"color\":\"#636efa\",\"pattern\":{\"shape\":\"\"}},\"name\":\"\",\"offsetgroup\":\"\",\"orientation\":\"v\",\"showlegend\":false,\"text\":[\"Count: 11432\",\"Count: 4638\",\"Count: 2338\"],\"textposition\":\"auto\",\"x\":[2,1,0],\"xaxis\":\"x\",\"y\":[11432,4638,2338],\"yaxis\":\"y\",\"type\":\"bar\"}],                        {\"template\":{\"data\":{\"histogram2dcontour\":[{\"type\":\"histogram2dcontour\",\"colorbar\":{\"outlinewidth\":0,\"ticks\":\"\"},\"colorscale\":[[0.0,\"#0d0887\"],[0.1111111111111111,\"#46039f\"],[0.2222222222222222,\"#7201a8\"],[0.3333333333333333,\"#9c179e\"],[0.4444444444444444,\"#bd3786\"],[0.5555555555555556,\"#d8576b\"],[0.6666666666666666,\"#ed7953\"],[0.7777777777777778,\"#fb9f3a\"],[0.8888888888888888,\"#fdca26\"],[1.0,\"#f0f921\"]]}],\"choropleth\":[{\"type\":\"choropleth\",\"colorbar\":{\"outlinewidth\":0,\"ticks\":\"\"}}],\"histogram2d\":[{\"type\":\"histogram2d\",\"colorbar\":{\"outlinewidth\":0,\"ticks\":\"\"},\"colorscale\":[[0.0,\"#0d0887\"],[0.1111111111111111,\"#46039f\"],[0.2222222222222222,\"#7201a8\"],[0.3333333333333333,\"#9c179e\"],[0.4444444444444444,\"#bd3786\"],[0.5555555555555556,\"#d8576b\"],[0.6666666666666666,\"#ed7953\"],[0.7777777777777778,\"#fb9f3a\"],[0.8888888888888888,\"#fdca26\"],[1.0,\"#f0f921\"]]}],\"heatmap\":[{\"type\":\"heatmap\",\"colorbar\":{\"outlinewidth\":0,\"ticks\":\"\"},\"colorscale\":[[0.0,\"#0d0887\"],[0.1111111111111111,\"#46039f\"],[0.2222222222222222,\"#7201a8\"],[0.3333333333333333,\"#9c179e\"],[0.4444444444444444,\"#bd3786\"],[0.5555555555555556,\"#d8576b\"],[0.6666666666666666,\"#ed7953\"],[0.7777777777777778,\"#fb9f3a\"],[0.8888888888888888,\"#fdca26\"],[1.0,\"#f0f921\"]]}],\"heatmapgl\":[{\"type\":\"heatmapgl\",\"colorbar\":{\"outlinewidth\":0,\"ticks\":\"\"},\"colorscale\":[[0.0,\"#0d0887\"],[0.1111111111111111,\"#46039f\"],[0.2222222222222222,\"#7201a8\"],[0.3333333333333333,\"#9c179e\"],[0.4444444444444444,\"#bd3786\"],[0.5555555555555556,\"#d8576b\"],[0.6666666666666666,\"#ed7953\"],[0.7777777777777778,\"#fb9f3a\"],[0.8888888888888888,\"#fdca26\"],[1.0,\"#f0f921\"]]}],\"contourcarpet\":[{\"type\":\"contourcarpet\",\"colorbar\":{\"outlinewidth\":0,\"ticks\":\"\"}}],\"contour\":[{\"type\":\"contour\",\"colorbar\":{\"outlinewidth\":0,\"ticks\":\"\"},\"colorscale\":[[0.0,\"#0d0887\"],[0.1111111111111111,\"#46039f\"],[0.2222222222222222,\"#7201a8\"],[0.3333333333333333,\"#9c179e\"],[0.4444444444444444,\"#bd3786\"],[0.5555555555555556,\"#d8576b\"],[0.6666666666666666,\"#ed7953\"],[0.7777777777777778,\"#fb9f3a\"],[0.8888888888888888,\"#fdca26\"],[1.0,\"#f0f921\"]]}],\"surface\":[{\"type\":\"surface\",\"colorbar\":{\"outlinewidth\":0,\"ticks\":\"\"},\"colorscale\":[[0.0,\"#0d0887\"],[0.1111111111111111,\"#46039f\"],[0.2222222222222222,\"#7201a8\"],[0.3333333333333333,\"#9c179e\"],[0.4444444444444444,\"#bd3786\"],[0.5555555555555556,\"#d8576b\"],[0.6666666666666666,\"#ed7953\"],[0.7777777777777778,\"#fb9f3a\"],[0.8888888888888888,\"#fdca26\"],[1.0,\"#f0f921\"]]}],\"mesh3d\":[{\"type\":\"mesh3d\",\"colorbar\":{\"outlinewidth\":0,\"ticks\":\"\"}}],\"scatter\":[{\"fillpattern\":{\"fillmode\":\"overlay\",\"size\":10,\"solidity\":0.2},\"type\":\"scatter\"}],\"parcoords\":[{\"type\":\"parcoords\",\"line\":{\"colorbar\":{\"outlinewidth\":0,\"ticks\":\"\"}}}],\"scatterpolargl\":[{\"type\":\"scatterpolargl\",\"marker\":{\"colorbar\":{\"outlinewidth\":0,\"ticks\":\"\"}}}],\"bar\":[{\"error_x\":{\"color\":\"#2a3f5f\"},\"error_y\":{\"color\":\"#2a3f5f\"},\"marker\":{\"line\":{\"color\":\"#E5ECF6\",\"width\":0.5},\"pattern\":{\"fillmode\":\"overlay\",\"size\":10,\"solidity\":0.2}},\"type\":\"bar\"}],\"scattergeo\":[{\"type\":\"scattergeo\",\"marker\":{\"colorbar\":{\"outlinewidth\":0,\"ticks\":\"\"}}}],\"scatterpolar\":[{\"type\":\"scatterpolar\",\"marker\":{\"colorbar\":{\"outlinewidth\":0,\"ticks\":\"\"}}}],\"histogram\":[{\"marker\":{\"pattern\":{\"fillmode\":\"overlay\",\"size\":10,\"solidity\":0.2}},\"type\":\"histogram\"}],\"scattergl\":[{\"type\":\"scattergl\",\"marker\":{\"colorbar\":{\"outlinewidth\":0,\"ticks\":\"\"}}}],\"scatter3d\":[{\"type\":\"scatter3d\",\"line\":{\"colorbar\":{\"outlinewidth\":0,\"ticks\":\"\"}},\"marker\":{\"colorbar\":{\"outlinewidth\":0,\"ticks\":\"\"}}}],\"scattermapbox\":[{\"type\":\"scattermapbox\",\"marker\":{\"colorbar\":{\"outlinewidth\":0,\"ticks\":\"\"}}}],\"scatterternary\":[{\"type\":\"scatterternary\",\"marker\":{\"colorbar\":{\"outlinewidth\":0,\"ticks\":\"\"}}}],\"scattercarpet\":[{\"type\":\"scattercarpet\",\"marker\":{\"colorbar\":{\"outlinewidth\":0,\"ticks\":\"\"}}}],\"carpet\":[{\"aaxis\":{\"endlinecolor\":\"#2a3f5f\",\"gridcolor\":\"white\",\"linecolor\":\"white\",\"minorgridcolor\":\"white\",\"startlinecolor\":\"#2a3f5f\"},\"baxis\":{\"endlinecolor\":\"#2a3f5f\",\"gridcolor\":\"white\",\"linecolor\":\"white\",\"minorgridcolor\":\"white\",\"startlinecolor\":\"#2a3f5f\"},\"type\":\"carpet\"}],\"table\":[{\"cells\":{\"fill\":{\"color\":\"#EBF0F8\"},\"line\":{\"color\":\"white\"}},\"header\":{\"fill\":{\"color\":\"#C8D4E3\"},\"line\":{\"color\":\"white\"}},\"type\":\"table\"}],\"barpolar\":[{\"marker\":{\"line\":{\"color\":\"#E5ECF6\",\"width\":0.5},\"pattern\":{\"fillmode\":\"overlay\",\"size\":10,\"solidity\":0.2}},\"type\":\"barpolar\"}],\"pie\":[{\"automargin\":true,\"type\":\"pie\"}]},\"layout\":{\"autotypenumbers\":\"strict\",\"colorway\":[\"#636efa\",\"#EF553B\",\"#00cc96\",\"#ab63fa\",\"#FFA15A\",\"#19d3f3\",\"#FF6692\",\"#B6E880\",\"#FF97FF\",\"#FECB52\"],\"font\":{\"color\":\"#2a3f5f\"},\"hovermode\":\"closest\",\"hoverlabel\":{\"align\":\"left\"},\"paper_bgcolor\":\"white\",\"plot_bgcolor\":\"#E5ECF6\",\"polar\":{\"bgcolor\":\"#E5ECF6\",\"angularaxis\":{\"gridcolor\":\"white\",\"linecolor\":\"white\",\"ticks\":\"\"},\"radialaxis\":{\"gridcolor\":\"white\",\"linecolor\":\"white\",\"ticks\":\"\"}},\"ternary\":{\"bgcolor\":\"#E5ECF6\",\"aaxis\":{\"gridcolor\":\"white\",\"linecolor\":\"white\",\"ticks\":\"\"},\"baxis\":{\"gridcolor\":\"white\",\"linecolor\":\"white\",\"ticks\":\"\"},\"caxis\":{\"gridcolor\":\"white\",\"linecolor\":\"white\",\"ticks\":\"\"}},\"coloraxis\":{\"colorbar\":{\"outlinewidth\":0,\"ticks\":\"\"}},\"colorscale\":{\"sequential\":[[0.0,\"#0d0887\"],[0.1111111111111111,\"#46039f\"],[0.2222222222222222,\"#7201a8\"],[0.3333333333333333,\"#9c179e\"],[0.4444444444444444,\"#bd3786\"],[0.5555555555555556,\"#d8576b\"],[0.6666666666666666,\"#ed7953\"],[0.7777777777777778,\"#fb9f3a\"],[0.8888888888888888,\"#fdca26\"],[1.0,\"#f0f921\"]],\"sequentialminus\":[[0.0,\"#0d0887\"],[0.1111111111111111,\"#46039f\"],[0.2222222222222222,\"#7201a8\"],[0.3333333333333333,\"#9c179e\"],[0.4444444444444444,\"#bd3786\"],[0.5555555555555556,\"#d8576b\"],[0.6666666666666666,\"#ed7953\"],[0.7777777777777778,\"#fb9f3a\"],[0.8888888888888888,\"#fdca26\"],[1.0,\"#f0f921\"]],\"diverging\":[[0,\"#8e0152\"],[0.1,\"#c51b7d\"],[0.2,\"#de77ae\"],[0.3,\"#f1b6da\"],[0.4,\"#fde0ef\"],[0.5,\"#f7f7f7\"],[0.6,\"#e6f5d0\"],[0.7,\"#b8e186\"],[0.8,\"#7fbc41\"],[0.9,\"#4d9221\"],[1,\"#276419\"]]},\"xaxis\":{\"gridcolor\":\"white\",\"linecolor\":\"white\",\"ticks\":\"\",\"title\":{\"standoff\":15},\"zerolinecolor\":\"white\",\"automargin\":true,\"zerolinewidth\":2},\"yaxis\":{\"gridcolor\":\"white\",\"linecolor\":\"white\",\"ticks\":\"\",\"title\":{\"standoff\":15},\"zerolinecolor\":\"white\",\"automargin\":true,\"zerolinewidth\":2},\"scene\":{\"xaxis\":{\"backgroundcolor\":\"#E5ECF6\",\"gridcolor\":\"white\",\"linecolor\":\"white\",\"showbackground\":true,\"ticks\":\"\",\"zerolinecolor\":\"white\",\"gridwidth\":2},\"yaxis\":{\"backgroundcolor\":\"#E5ECF6\",\"gridcolor\":\"white\",\"linecolor\":\"white\",\"showbackground\":true,\"ticks\":\"\",\"zerolinecolor\":\"white\",\"gridwidth\":2},\"zaxis\":{\"backgroundcolor\":\"#E5ECF6\",\"gridcolor\":\"white\",\"linecolor\":\"white\",\"showbackground\":true,\"ticks\":\"\",\"zerolinecolor\":\"white\",\"gridwidth\":2}},\"shapedefaults\":{\"line\":{\"color\":\"#2a3f5f\"}},\"annotationdefaults\":{\"arrowcolor\":\"#2a3f5f\",\"arrowhead\":0,\"arrowwidth\":1},\"geo\":{\"bgcolor\":\"white\",\"landcolor\":\"#E5ECF6\",\"subunitcolor\":\"white\",\"showland\":true,\"showlakes\":true,\"lakecolor\":\"white\"},\"title\":{\"x\":0.05},\"mapbox\":{\"style\":\"light\"}}},\"xaxis\":{\"anchor\":\"y\",\"domain\":[0.0,1.0],\"title\":{\"text\":\"x\"}},\"yaxis\":{\"anchor\":\"x\",\"domain\":[0.0,1.0],\"title\":{\"text\":\"y\"}},\"legend\":{\"tracegroupgap\":0},\"title\":{\"text\":\"Sentiment Scores Bar Plot\"},\"barmode\":\"relative\",\"height\":400,\"width\":800},                        {\"responsive\": true}                    ).then(function(){\n",
       "                            \n",
       "var gd = document.getElementById('4204a0ee-8d98-429d-8c21-c29a89bb8865');\n",
       "var x = new MutationObserver(function (mutations, observer) {{\n",
       "        var display = window.getComputedStyle(gd).display;\n",
       "        if (!display || display === 'none') {{\n",
       "            console.log([gd, 'removed!']);\n",
       "            Plotly.purge(gd);\n",
       "            observer.disconnect();\n",
       "        }}\n",
       "}});\n",
       "\n",
       "// Listen for the removal of the full notebook cells\n",
       "var notebookContainer = gd.closest('#notebook-container');\n",
       "if (notebookContainer) {{\n",
       "    x.observe(notebookContainer, {childList: true});\n",
       "}}\n",
       "\n",
       "// Listen for the clearing of the current output cell\n",
       "var outputEl = gd.closest('.output');\n",
       "if (outputEl) {{\n",
       "    x.observe(outputEl, {childList: true});\n",
       "}}\n",
       "\n",
       "                        })                };                });            </script>        </div>"
      ]
     },
     "metadata": {},
     "output_type": "display_data"
    }
   ],
   "source": [
    "#This graph depicts the count of videos for each sentiment score\n",
    "SentimentScores = cm.Sentiment.value_counts().index\n",
    "frequencies = cm.Sentiment.value_counts().values\n",
    "\n",
    "px.bar(x=SentimentScores, y=frequencies,text=[f\"Count: {frequencies[0]}\",f\"Count: {frequencies[1]}\",f\"Count: {frequencies[2]}\"],\n",
    "      title=\"Sentiment Scores Bar Plot\",width=800,height=400)"
   ]
  },
  {
   "cell_type": "code",
   "execution_count": 35,
   "id": "9dd02b6c",
   "metadata": {},
   "outputs": [],
   "source": [
    "#bar graph to  deals with the average number of likes for each category of videos\n",
    "gnr = vd.groupby(\"Keyword\").aggregate({\"Likes\": \"mean\", \"Views\": \"mean\", \"Comments\": \"mean\"})\n",
    "gnr.reset_index(inplace=True)"
   ]
  },
  {
   "cell_type": "code",
   "execution_count": 36,
   "id": "af91bd36",
   "metadata": {},
   "outputs": [
    {
     "data": {
      "text/plain": [
       "<AxesSubplot:xlabel='Keyword', ylabel='Likes'>"
      ]
     },
     "execution_count": 36,
     "metadata": {},
     "output_type": "execute_result"
    },
    {
     "data": {
      "image/png": "[encoded data removed]",
      "text/plain": [
       "<Figure size 4000x1000 with 1 Axes>"
      ]
     },
     "metadata": {},
     "output_type": "display_data"
    }
   ],
   "source": [
    "plt.figure(figsize=(40, 10))\n",
    "sns.barplot(data=gnr, x='Keyword', y='Likes', palette='viridis')"
   ]
  },
  {
   "cell_type": "code",
   "execution_count": 37,
   "id": "8bf5bb7a",
   "metadata": {},
   "outputs": [
    {
     "data": {
      "text/plain": [
       "<AxesSubplot:xlabel='Keyword', ylabel='Views'>"
      ]
     },
     "execution_count": 37,
     "metadata": {},
     "output_type": "execute_result"
    },
    {
     "data": {
      "image/png": "[encoded data removed]",
      "text/plain": [
       "<Figure size 4000x1000 with 1 Axes>"
      ]
     },
     "metadata": {},
     "output_type": "display_data"
    }
   ],
   "source": [
    "#bar graph to  deals with the average number of views for each category of videos\n",
    "plt.figure(figsize=(40, 10))\n",
    "sns.barplot(data=gnr, x='Keyword', y='Views', palette='viridis')"
   ]
  },
  {
   "cell_type": "code",
   "execution_count": 38,
   "id": "71da3d4e",
   "metadata": {},
   "outputs": [
    {
     "data": {
      "text/plain": [
       "<AxesSubplot:xlabel='Keyword', ylabel='Comments'>"
      ]
     },
     "execution_count": 38,
     "metadata": {},
     "output_type": "execute_result"
    },
    {
     "data": {
      "image/png": "[encoded data removed]",
      "text/plain": [
       "<Figure size 4000x1000 with 1 Axes>"
      ]
     },
     "metadata": {},
     "output_type": "display_data"
    }
   ],
   "source": [
    "#bar graph to deals with the average number of likes for each category of Comments\n",
    "plt.figure(figsize=(40, 10))\n",
    "sns.barplot(data=gnr, x='Keyword', y='Comments', palette='viridis')"
   ]
  },
  {
   "cell_type": "code",
   "execution_count": 39,
   "id": "ce73e11b",
   "metadata": {},
   "outputs": [],
   "source": [
    "#In practically all of these categories, the keyword \n",
    "#\"Mr. Beast\" is at the top of the list.\n",
    "#The Google and animal keywords are ranked top in terms of views. \n",
    "#Additionally, these two categories are remarkably similar to one \n",
    "#another in every way."
   ]
  },
  {
   "cell_type": "code",
   "execution_count": 40,
   "id": "b1241b96",
   "metadata": {},
   "outputs": [
    {
     "data": {
      "application/vnd.plotly.v1+json": {
       "config": {
        "plotlyServerURL": "https://plot.ly"
       },
       "data": [
        {
         "alignmentgroup": "True",
         "bingroup": "x",
         "hovertemplate": "Published At=%{x}<br>count=%{y}<extra></extra>",
         "legendgroup": "",
         "marker": {
          "color": "blue",
          "pattern": {
           "shape": ""
          }
         },
         "name": "",
         "offsetgroup": "",
         "orientation": "v",
         "showlegend": false,
         "type": "histogram",
         "x": [
          "2022-08-23",
          "2022-08-24",
          "2022-08-23",
          "2022-08-23",
          "2022-08-08",
          "2021-11-05",
          "2022-06-13",
          "2022-08-07",
          "2021-12-08",
          "2022-07-14",
          "2022-08-15",
          "2022-08-06",
          "2022-08-13",
          "2021-12-15",
          "2022-07-09",
          "2021-06-04",
          "2021-08-13",
          "2022-07-21",
          "2022-08-14",
          "2022-03-25",
          "2022-08-24",
          "2022-05-12",
          "2022-07-02",
          "2021-06-18",
          "2022-07-31",
          "2022-08-24",
          "2022-08-10",
          "2022-05-27",
          "2022-06-03",
          "2022-08-19",
          "2021-11-30",
          "2022-05-28",
          "2022-04-02",
          "2022-05-14",
          "2022-05-05",
          "2022-08-24",
          "2022-01-07",
          "2022-03-16",
          "2022-08-24",
          "2022-07-23",
          "2022-06-04",
          "2022-07-02",
          "2021-12-04",
          "2022-08-04",
          "2022-05-26",
          "2022-08-24",
          "2022-07-30",
          "2022-06-08",
          "2022-08-24",
          "2022-08-24",
          "2022-08-24",
          "2022-08-24",
          "2022-08-24",
          "2022-08-24",
          "2022-08-24",
          "2022-08-24",
          "2022-08-23",
          "2022-08-24",
          "2022-08-23",
          "2022-08-23",
          "2022-08-24",
          "2022-08-24",
          "2022-08-23",
          "2022-08-24",
          "2022-08-20",
          "2022-08-21",
          "2022-08-24",
          "2022-08-24",
          "2022-08-24",
          "2022-08-24",
          "2022-08-23",
          "2022-08-22",
          "2022-08-23",
          "2022-08-22",
          "2022-08-24",
          "2022-08-19",
          "2022-08-19",
          "2022-08-20",
          "2022-08-22",
          "2022-08-24",
          "2022-08-18",
          "2022-08-23",
          "2022-08-21",
          "2022-08-21",
          "2022-08-24",
          "2022-08-21",
          "2022-08-23",
          "2022-08-23",
          "2022-08-23",
          "2022-08-24",
          "2022-08-24",
          "2022-08-24",
          "2022-08-24",
          "2022-08-22",
          "2022-08-23",
          "2022-08-24",
          "2022-08-24",
          "2022-08-24",
          "2022-08-20",
          "2022-08-24",
          "2022-08-24",
          "2022-08-24",
          "2022-08-24",
          "2022-08-24",
          "2022-08-24",
          "2022-08-24",
          "2022-08-24",
          "2022-08-23",
          "2022-08-24",
          "2022-08-23",
          "2022-08-23",
          "2022-08-22",
          "2022-01-18",
          "2022-08-24",
          "2022-08-23",
          "2022-08-23",
          "2022-08-22",
          "2022-08-24",
          "2022-08-22",
          "2022-08-23",
          "2022-08-24",
          "2022-08-23",
          "2022-08-22",
          "2020-11-14",
          "2022-05-06",
          "2022-08-24",
          "2022-08-22",
          "2022-08-23",
          "2022-08-22",
          "2022-08-24",
          "2022-03-31",
          "2022-08-14",
          "2018-01-09",
          "2022-07-24",
          "2022-04-18",
          "2019-04-22",
          "2021-06-20",
          "2022-08-22",
          "2019-12-22",
          "2021-08-06",
          "2022-04-02",
          "2022-08-20",
          "2021-08-30",
          "2022-08-16",
          "2022-02-22",
          "2022-01-02",
          "2021-08-09",
          "2022-08-21",
          "2019-10-07",
          "2020-10-03",
          "2022-05-07",
          "2021-01-08",
          "2021-10-24",
          "2020-12-28",
          "2022-08-21",
          "2022-08-23",
          "2022-08-20",
          "2017-12-04",
          "2022-08-13",
          "2021-09-21",
          "2022-06-12",
          "2022-08-20",
          "2018-08-13",
          "2022-08-22",
          "2022-08-24",
          "2022-03-31",
          "2021-12-26",
          "2022-08-23",
          "2021-10-05",
          "2022-08-18",
          "2022-08-21",
          "2022-08-22",
          "2022-08-21",
          "2022-08-20",
          "2022-08-15",
          "2022-05-31",
          "2022-08-20",
          "2020-06-14",
          "2022-08-13",
          "2022-07-04",
          "2022-08-23",
          "2019-04-05",
          "2022-07-21",
          "2021-12-12",
          "2021-10-18",
          "2019-05-21",
          "2019-10-11",
          "2022-08-22",
          "2017-02-07",
          "2018-10-18",
          "2016-10-04",
          "2022-07-31",
          "2020-08-18",
          "2020-11-07",
          "2018-06-12",
          "2022-08-14",
          "2022-06-15",
          "2022-08-24",
          "2013-03-14",
          "2016-03-07",
          "2018-02-24",
          "2022-08-23",
          "2021-12-03",
          "2019-07-29",
          "2022-04-17",
          "2022-08-23",
          "2022-08-23",
          "2022-07-29",
          "2019-01-18",
          "2018-01-12",
          "2020-05-07",
          "2022-05-20",
          "2021-11-20",
          "2022-08-15",
          "2022-08-11",
          "2022-08-12",
          "2022-08-21",
          "2022-08-23",
          "2022-06-21",
          "2022-08-13",
          "2021-11-23",
          "2022-03-31",
          "2021-10-20",
          "2022-08-18",
          "2022-08-24",
          "2019-09-05",
          "2022-08-24",
          "2020-09-25",
          "2020-09-25",
          "2020-09-25",
          "2020-11-04",
          "2020-12-20",
          "2020-12-09",
          "2020-11-02",
          "2022-08-23",
          "2009-10-25",
          "2022-07-11",
          "2018-09-14",
          "2022-08-01",
          "2022-02-15",
          "2022-08-22",
          "2019-10-16",
          "2022-08-23",
          "2022-02-13",
          "2022-05-16",
          "2022-02-08",
          "2022-08-24",
          "2021-11-12",
          "2022-08-23",
          "2022-08-24",
          "2021-03-15",
          "2021-01-21",
          "2022-08-24",
          "2021-08-25",
          "2019-12-11",
          "2018-12-15",
          "2022-01-12",
          "2022-08-23",
          "2022-05-09",
          "2022-08-24",
          "2022-07-14",
          "2022-08-24",
          "2022-08-24",
          "2021-10-01",
          "2022-07-26",
          "2022-08-24",
          "2022-08-24",
          "2022-02-19",
          "2022-08-24",
          "2022-06-03",
          "2022-07-20",
          "2022-08-24",
          "2021-03-24",
          "2021-01-07",
          "2019-06-29",
          "2020-10-28",
          "2019-12-17",
          "2019-03-20",
          "2022-06-20",
          "2020-12-08",
          "2022-08-22",
          "2022-05-20",
          "2019-07-15",
          "2020-11-06",
          "2018-08-24",
          "2022-08-17",
          "2022-07-05",
          "2020-10-18",
          "2019-02-18",
          "2018-07-11",
          "2017-05-24",
          "2021-01-11",
          "2020-08-06",
          "2022-01-30",
          "2022-07-03",
          "2019-11-07",
          "2022-08-12",
          "2018-06-01",
          "2022-02-04",
          "2022-08-05",
          "2022-07-06",
          "2022-05-23",
          "2022-05-23",
          "2020-11-19",
          "2018-02-01",
          "2021-03-05",
          "2021-08-20",
          "2020-12-01",
          "2022-01-09",
          "2022-07-28",
          "2022-06-15",
          "2022-01-03",
          "2019-09-17",
          "2022-08-14",
          "2019-07-30",
          "2022-08-23",
          "2017-02-01",
          "2022-08-21",
          "2019-07-18",
          "2021-09-08",
          "2022-07-25",
          "2022-03-29",
          "2021-01-22",
          "2022-08-23",
          "2022-08-24",
          "2022-08-22",
          "2022-08-22",
          "2022-08-23",
          "2022-08-24",
          "2022-08-20",
          "2022-08-18",
          "2022-08-22",
          "2022-08-24",
          "2022-08-21",
          "2022-08-22",
          "2022-08-21",
          "2015-01-06",
          "2022-08-23",
          "2012-11-27",
          "2015-10-14",
          "2022-08-19",
          "2022-08-18",
          "2022-08-24",
          "2022-08-21",
          "2022-08-17",
          "2022-08-19",
          "2017-12-31",
          "2022-08-19",
          "2022-08-20",
          "2022-08-17",
          "2021-07-11",
          "2022-08-20",
          "2021-11-03",
          "2022-08-18",
          "2022-07-14",
          "2017-08-02",
          "2022-08-20",
          "2022-08-19",
          "2016-11-19",
          "2022-08-22",
          "2020-09-23",
          "2022-08-17",
          "2022-08-24",
          "2022-08-23",
          "2022-08-24",
          "2022-08-23",
          "2022-08-24",
          "2022-08-24",
          "2022-08-23",
          "2022-08-24",
          "2022-08-24",
          "2022-08-23",
          "2022-08-24",
          "2022-08-24",
          "2022-08-23",
          "2022-08-23",
          "2022-08-23",
          "2022-08-24",
          "2022-08-24",
          "2022-08-24",
          "2022-08-24",
          "2022-08-24",
          "2022-08-24",
          "2022-08-23",
          "2022-08-24",
          "2022-08-23",
          "2022-08-23",
          "2022-03-11",
          "2022-08-23",
          "2022-08-24",
          "2022-08-24",
          "2022-08-23",
          "2022-08-23",
          "2022-08-24",
          "2022-08-24",
          "2022-08-23",
          "2022-08-23",
          "2022-08-24",
          "2022-08-24",
          "2022-08-22",
          "2022-08-23",
          "2022-03-12",
          "2022-08-23",
          "2022-08-22",
          "2022-08-23",
          "2022-08-23",
          "2022-08-24",
          "2022-08-23",
          "2022-08-23",
          "2022-08-23",
          "2022-08-24",
          "2022-08-23",
          "2022-08-23",
          "2021-02-27",
          "2020-12-21",
          "2019-05-24",
          "2021-12-22",
          "2022-08-23",
          "2021-11-26",
          "2021-07-10",
          "2020-02-17",
          "2019-09-05",
          "2022-08-24",
          "2022-06-22",
          "2021-12-03",
          "2022-05-08",
          "2020-07-04",
          "2022-08-21",
          "2022-02-26",
          "2020-06-16",
          "2022-04-07",
          "2021-02-23",
          "2022-04-18",
          "2021-02-06",
          "2021-04-29",
          "2020-02-08",
          "2021-04-03",
          "2022-07-13",
          "2022-04-17",
          "2022-05-28",
          "2020-03-24",
          "2020-03-13",
          "2022-01-11",
          "2021-11-07",
          "2020-11-17",
          "2022-07-24",
          "2022-08-03",
          "2022-04-20",
          "2021-09-17",
          "2018-11-29",
          "2022-08-02",
          "2022-06-12",
          "2022-07-15",
          "2021-11-10",
          "2022-05-21",
          "2022-06-24",
          "2018-09-19",
          "2009-02-24",
          "2021-11-02",
          "2016-09-29",
          "2022-07-02",
          "2021-07-26",
          "2022-08-24",
          "2022-08-24",
          "2022-08-23",
          "2022-08-24",
          "2022-08-23",
          "2022-08-20",
          "2022-08-24",
          "2019-09-12",
          "2022-08-21",
          "2022-08-04",
          "2022-06-25",
          "2020-12-17",
          "2022-08-24",
          "2022-08-24",
          "2022-08-24",
          "2022-08-15",
          "2022-08-24",
          "2022-08-22",
          "2020-12-02",
          "2021-07-02",
          "2022-08-24",
          "2022-08-20",
          "2022-08-21",
          "2022-08-18",
          "2022-08-21",
          "2022-08-21",
          "2022-08-16",
          "2021-09-14",
          "2021-11-23",
          "2022-08-16",
          "2022-04-05",
          "2022-08-18",
          "2022-08-20",
          "2022-06-10",
          "2022-08-18",
          "2022-08-23",
          "2021-12-12",
          "2022-08-17",
          "2022-08-19",
          "2021-04-22",
          "2020-09-02",
          "2021-01-18",
          "2022-03-04",
          "2021-10-07",
          "2020-08-12",
          "2022-08-24",
          "2022-08-24",
          "2022-08-24",
          "2022-08-24",
          "2022-08-24",
          "2022-08-23",
          "2022-08-24",
          "2022-08-20",
          "2022-08-24",
          "2022-08-24",
          "2022-08-20",
          "2022-08-24",
          "2022-08-16",
          "2022-08-24",
          "2022-08-24",
          "2022-05-13",
          "2022-07-30",
          "2022-08-20",
          "2016-11-02",
          "2022-08-22",
          "2022-08-08",
          "2022-08-20",
          "2022-08-22",
          "2022-07-27",
          "2022-08-17",
          "2022-08-02",
          "2022-08-05",
          "2022-07-11",
          "2022-08-06",
          "2022-07-23",
          "2022-08-19",
          "2022-08-11",
          "2021-09-05",
          "2022-08-18",
          "2022-08-24",
          "2022-06-16",
          "2022-08-17",
          "2022-07-10",
          "2022-08-23",
          "2022-08-02",
          "2022-06-21",
          "2022-08-23",
          "2022-08-18",
          "2022-08-19",
          "2022-06-23",
          "2019-12-10",
          "2019-11-26",
          "2020-11-18",
          "2018-04-05",
          "2022-08-24",
          "2016-04-28",
          "2020-10-17",
          "2022-05-01",
          "2022-04-10",
          "2022-03-14",
          "2022-06-05",
          "2018-07-11",
          "2022-05-11",
          "2022-06-23",
          "2022-01-16",
          "2021-08-08",
          "2022-06-11",
          "2018-01-26",
          "2022-01-07",
          "2021-04-26",
          "2022-07-06",
          "2021-10-18",
          "2021-12-02",
          "2021-12-19",
          "2021-08-25",
          "2022-05-03",
          "2022-06-19",
          "2017-10-25",
          "2021-05-21",
          "2022-08-21",
          "2022-08-23",
          "2022-08-24",
          "2022-08-20",
          "2020-11-28",
          "2022-08-19",
          "2021-12-31",
          "2021-12-08",
          "2022-05-12",
          "2022-08-21",
          "2019-10-24",
          "2022-08-23",
          "2022-08-12",
          "2022-08-23",
          "2022-08-24",
          "2022-04-14",
          "2020-10-08",
          "2021-08-03",
          "2022-04-18",
          "2018-10-05",
          "2020-10-23",
          "2022-08-23",
          "2016-01-05",
          "2022-08-24",
          "2021-07-04",
          "2022-05-16",
          "2016-12-14",
          "2019-02-12",
          "2018-06-10",
          "2022-08-24",
          "2021-08-03",
          "2020-09-09",
          "2019-12-25",
          "2022-08-24",
          "2022-08-04",
          "2022-08-24",
          "2022-06-24",
          "2020-01-03",
          "2022-08-22",
          "2021-12-20",
          "2022-08-24",
          "2022-08-24",
          "2019-11-21",
          "2020-05-13",
          "2022-06-09",
          "2020-05-13",
          "2022-03-11",
          "2022-08-23",
          "2019-06-11",
          "2022-04-02",
          "2022-03-08",
          "2022-02-16",
          "2022-06-07",
          "2021-09-28",
          "2020-06-28",
          "2022-08-22",
          "2017-02-17",
          "2022-08-24",
          "2022-08-05",
          "2022-07-26",
          "2022-08-23",
          "2022-08-24",
          "2022-08-12",
          "2022-08-17",
          "2022-08-23",
          "2022-08-24",
          "2022-08-23",
          "2022-08-24",
          "2016-01-26",
          "2018-10-10",
          "2020-07-29",
          "2022-08-24",
          "2022-08-23",
          "2020-08-30",
          "2022-06-19",
          "2017-05-10",
          "2022-05-31",
          "2022-07-17",
          "2020-07-19",
          "2021-09-08",
          "2022-08-23",
          "2022-08-13",
          "2018-04-25",
          "2022-04-13",
          "2022-08-20",
          "2020-03-11",
          "2022-04-06",
          "2020-03-11",
          "2022-04-22",
          "2022-08-23",
          "2022-02-22",
          "2022-04-22",
          "2020-11-30",
          "2022-08-23",
          "2022-05-02",
          "2021-05-20",
          "2019-01-28",
          "2022-08-09",
          "2022-08-21",
          "2021-12-17",
          "2022-07-02",
          "2021-10-20",
          "2020-12-12",
          "2022-07-10",
          "2022-06-19",
          "2022-08-01",
          "2021-06-16",
          "2022-08-19",
          "2022-08-23",
          "2022-07-29",
          "2022-01-15",
          "2022-08-20",
          "2022-08-23",
          "2022-04-04",
          "2012-11-15",
          "2014-09-18",
          "2016-05-27",
          "2016-04-14",
          "2020-01-07",
          "2021-04-30",
          "2015-09-18",
          "2022-01-03",
          "2016-08-05",
          "2016-01-15",
          "2017-09-18",
          "2013-05-31",
          "2016-04-22",
          "2021-03-17",
          "2016-02-05",
          "2015-11-06",
          "2021-11-05",
          "2015-10-09",
          "2020-04-17",
          "2016-06-17",
          "2017-06-11",
          "2020-09-09",
          "2021-08-24",
          "2020-10-09",
          "2016-11-15",
          "2020-03-25",
          "2016-05-13",
          "2020-05-10",
          "2022-03-01",
          "2017-03-27",
          "2021-03-14",
          "2020-04-03",
          "2016-11-25",
          "2014-07-08",
          "2014-02-27",
          "2018-08-30",
          "2020-11-07",
          "2020-10-02",
          "2021-05-28",
          "2020-03-25",
          "2021-03-09",
          "2018-04-04",
          "2014-04-09",
          "2010-06-28",
          "2010-05-18",
          "2020-04-21",
          "2017-04-17",
          "2017-02-15",
          "2007-07-16",
          "2018-07-07",
          "2021-03-05",
          "2021-02-26",
          "2017-08-16",
          "2021-03-31",
          "2020-04-01",
          "2007-12-11",
          "2021-10-12",
          "2018-06-15",
          "2020-09-17",
          "2009-12-16",
          "2017-02-16",
          "2011-09-28",
          "2021-02-25",
          "2022-04-09",
          "2022-06-21",
          "2020-03-14",
          "2009-06-17",
          "2022-08-23",
          "2019-12-13",
          "2018-09-30",
          "2021-06-25",
          "2022-01-03",
          "2022-08-24",
          "2022-08-20",
          "2021-08-18",
          "2021-01-21",
          "2021-07-18",
          "2011-05-07",
          "2021-12-09",
          "2021-11-21",
          "2017-10-31",
          "2022-06-07",
          "2021-06-27",
          "2022-05-12",
          "2020-10-02",
          "2010-09-29",
          "2022-08-18",
          "2022-04-25",
          "2009-12-23",
          "2018-06-21",
          "2022-08-23",
          "2022-08-23",
          "2022-08-24",
          "2022-08-23",
          "2021-01-07",
          "2021-09-12",
          "2022-03-26",
          "2022-04-18",
          "2022-05-21",
          "2022-07-11",
          "2022-06-16",
          "2022-03-07",
          "2022-05-16",
          "2020-06-14",
          "2022-05-25",
          "2021-09-27",
          "2022-04-11",
          "2022-01-08",
          "2021-10-02",
          "2022-04-05",
          "2022-08-24",
          "2021-01-21",
          "2022-08-23",
          "2022-07-20",
          "2021-11-17",
          "2022-07-30",
          "2022-06-04",
          "2022-03-08",
          "2022-08-09",
          "2022-04-02",
          "2021-09-12",
          "2022-01-31",
          "2022-04-07",
          "2022-06-06",
          "2022-05-13",
          "2022-08-13",
          "2021-11-22",
          "2022-08-02",
          "2022-02-11",
          "2022-08-20",
          "2022-05-01",
          "2022-08-21",
          "2022-03-14",
          "2022-08-23",
          "2022-08-24",
          "2022-08-21",
          "2021-04-16",
          "2022-08-23",
          "2022-08-21",
          "2022-08-23",
          "2022-08-24",
          "2022-08-23",
          "2022-08-24",
          "2022-08-23",
          "2022-08-24",
          "2022-08-24",
          "2022-08-24",
          "2022-08-24",
          "2022-08-23",
          "2022-08-24",
          "2022-08-24",
          "2022-08-24",
          "2022-08-24",
          "2022-08-24",
          "2022-08-24",
          "2021-12-02",
          "2022-07-23",
          "2022-08-09",
          "2022-08-24",
          "2022-08-23",
          "2022-04-09",
          "2022-08-23",
          "2022-08-24",
          "2022-08-24",
          "2021-12-22",
          "2022-08-23",
          "2022-08-24",
          "2022-07-26",
          "2022-08-23",
          "2022-08-14",
          "2022-08-14",
          "2022-08-24",
          "2020-10-15",
          "2022-08-23",
          "2022-08-24",
          "2022-08-24",
          "2021-04-10",
          "2022-08-24",
          "2022-08-13",
          "2022-07-30",
          "2022-08-03",
          "2022-08-11",
          "2022-07-30",
          "2022-05-17",
          "2022-08-24",
          "2022-08-24",
          "2022-08-23",
          "2022-08-23",
          "2022-08-23",
          "2022-08-22",
          "2022-08-23",
          "2022-08-23",
          "2021-11-28",
          "2022-08-24",
          "2022-08-24",
          "2020-08-20",
          "2022-08-24",
          "2022-08-24",
          "2022-08-24",
          "2022-08-23",
          "2022-02-08",
          "2022-08-23",
          "2022-08-24",
          "2020-03-19",
          "2022-04-07",
          "2022-05-21",
          "2022-07-15",
          "2022-08-23",
          "2022-08-24",
          "2022-08-23",
          "2022-08-22",
          "2022-08-23",
          "2022-08-24",
          "2022-08-24",
          "2022-08-24",
          "2022-08-23",
          "2022-08-23",
          "2021-11-25",
          "2022-08-24",
          "2022-08-24",
          "2022-08-24",
          "2022-08-23",
          "2022-08-23",
          "2022-08-24",
          "2021-01-05",
          "2022-08-23",
          "2022-01-25",
          "2022-08-22",
          "2022-08-23",
          "2022-08-24",
          "2021-12-09",
          "2022-08-20",
          "2022-05-13",
          "2022-08-20",
          "2022-07-11",
          "2022-08-24",
          "2020-04-05",
          "2020-10-31",
          "2022-07-13",
          "2020-07-04",
          "2022-07-31",
          "2022-08-07",
          "2021-09-19",
          "2021-10-17",
          "2019-07-16",
          "2022-08-14",
          "2022-08-03",
          "2022-08-16",
          "2022-06-25",
          "2022-07-27",
          "2022-07-03",
          "2022-07-17",
          "2019-10-20",
          "2022-08-20",
          "2022-07-09",
          "2022-05-22",
          "2022-08-09",
          "2022-07-25",
          "2022-07-10",
          "2022-04-02",
          "2022-08-20",
          "2021-11-23",
          "2017-05-31",
          "2022-04-12",
          "2022-04-30",
          "2022-08-05",
          "2020-08-04",
          "2020-08-13",
          "2022-08-14",
          "2022-08-21",
          "2022-05-04",
          "2022-07-24",
          "2022-08-24",
          "2019-11-29",
          "2022-07-16",
          "2022-08-22",
          "2022-08-23",
          "2022-06-22",
          "2022-08-12",
          "2022-02-13",
          "2022-02-26",
          "2022-08-14",
          "2022-07-07",
          "2022-08-03",
          "2022-08-23",
          "2022-08-24",
          "2021-11-08",
          "2022-05-15",
          "2020-04-18",
          "2022-07-28",
          "2021-01-29",
          "2020-02-29",
          "2022-08-23",
          "2021-11-12",
          "2022-05-19",
          "2022-05-30",
          "2022-01-06",
          "2021-12-06",
          "2022-08-24",
          "2022-08-24",
          "2022-08-18",
          "2022-08-23",
          "2022-08-18",
          "2022-05-21",
          "2022-08-24",
          "2022-08-23",
          "2022-08-17",
          "2022-08-13",
          "2022-08-24",
          "2022-08-15",
          "2022-08-03",
          "2022-08-17",
          "2022-08-24",
          "2022-06-23",
          "2022-08-24",
          "2022-08-06",
          "2022-08-23",
          "2022-08-24",
          "2022-08-22",
          "2022-08-21",
          "2022-05-09",
          "2022-08-23",
          "2022-07-24",
          "2022-08-24",
          "2021-04-09",
          "2022-05-03",
          "2020-07-28",
          "2022-08-22",
          "2022-08-23",
          "2022-08-24",
          "2022-08-24",
          "2022-08-23",
          "2022-08-23",
          "2022-08-24",
          "2022-08-24",
          "2022-08-24",
          "2022-08-24",
          "2022-08-23",
          "2022-08-24",
          "2022-08-23",
          "2022-08-24",
          "2022-08-23",
          "2022-08-24",
          "2022-08-24",
          "2022-08-23",
          "2022-08-23",
          "2022-08-24",
          "2022-08-23",
          "2022-08-23",
          "2022-08-23",
          "2022-08-23",
          "2022-08-23",
          "2022-08-24",
          "2022-08-24",
          "2022-08-24",
          "2022-08-24",
          "2022-08-24",
          "2022-08-23",
          "2022-08-24",
          "2022-08-24",
          "2022-08-23",
          "2022-08-23",
          "2022-08-23",
          "2022-08-23",
          "2022-08-24",
          "2022-08-24",
          "2022-08-24",
          "2022-08-23",
          "2022-08-24",
          "2022-08-24",
          "2022-08-24",
          "2022-08-23",
          "2022-08-24",
          "2022-08-23",
          "2022-08-24",
          "2022-08-24",
          "2022-08-23",
          "2022-08-24",
          "2022-08-24",
          "2021-12-31",
          "2022-03-06",
          "2022-08-24",
          "2022-04-11",
          "2019-12-08",
          "2022-08-15",
          "2022-08-19",
          "2022-08-08",
          "2022-02-27",
          "2022-08-24",
          "2022-04-29",
          "2022-08-10",
          "2022-05-22",
          "2022-06-21",
          "2022-01-23",
          "2021-04-26",
          "2022-06-01",
          "2022-06-07",
          "2022-06-22",
          "2022-05-07",
          "2022-08-05",
          "2022-05-25",
          "2022-04-24",
          "2022-03-05",
          "2021-01-16",
          "2021-08-26",
          "2022-07-03",
          "2021-12-21",
          "2022-05-08",
          "2022-02-23",
          "2022-06-19",
          "2022-08-24",
          "2022-08-17",
          "2020-07-19",
          "2022-08-24",
          "2022-08-24",
          "2022-02-18",
          "2022-03-31",
          "2022-08-17",
          "2021-12-20",
          "2014-09-29",
          "2019-07-22",
          "2020-08-16",
          "2013-06-17",
          "2021-04-25",
          "2022-08-23",
          "2009-07-03",
          "2022-05-12",
          "2010-05-30",
          "2021-08-15",
          "2020-10-20",
          "2014-08-22",
          "2020-11-18",
          "2021-11-28",
          "2020-09-21",
          "2021-02-27",
          "2022-08-24",
          "2021-05-20",
          "2022-06-13",
          "2022-06-12",
          "2020-06-07",
          "2010-03-03",
          "2022-05-14",
          "2022-01-08",
          "2022-04-14",
          "2022-03-04",
          "2020-05-25",
          "2020-06-29",
          "2022-07-30",
          "2020-09-11",
          "2021-03-26",
          "2021-09-08",
          "2020-02-04",
          "2021-07-02",
          "2022-07-24",
          "2022-07-02",
          "2022-08-24",
          "2022-08-11",
          "2013-05-10",
          "2018-01-15",
          "2021-07-09",
          "2015-05-13",
          "2022-08-21",
          "2017-12-08",
          "2021-01-30",
          "2022-01-24",
          "2020-08-27",
          "2019-05-30",
          "2022-06-11",
          "2008-07-25",
          "2020-07-29",
          "2010-10-14",
          "2021-02-05",
          "2015-02-06",
          "2019-04-01",
          "2022-08-16",
          "2022-08-24",
          "2022-08-23",
          "2022-08-10",
          "2015-04-20",
          "2018-10-08",
          "2022-08-23",
          "2022-08-23",
          "2022-08-24",
          "2022-08-24",
          "2022-08-23",
          "2022-08-24",
          "2022-08-24",
          "2022-08-23",
          "2022-08-24",
          "2022-08-24",
          "2021-02-07",
          "2022-08-24",
          "2022-08-24",
          "2022-08-24",
          "2022-08-24",
          "2022-08-24",
          "2022-08-23",
          "2022-08-11",
          "2022-08-24",
          "2022-02-23",
          "2022-08-24",
          "2022-08-24",
          "2022-08-24",
          "2022-08-24",
          "2022-08-21",
          "2022-08-24",
          "2022-08-23",
          "2022-08-24",
          "2022-08-20",
          "2022-08-24",
          "2022-08-24",
          "2022-08-24",
          "2022-08-24",
          "2022-08-13",
          "2022-07-24",
          "2022-08-24",
          "2022-08-24",
          "2022-08-24",
          "2022-08-23",
          "2022-07-30",
          "2022-08-23",
          "2022-08-21",
          "2022-08-23",
          "2022-08-23",
          "2022-08-14",
          "2022-08-24",
          "2022-08-23",
          "2022-08-24",
          "2022-08-24",
          "2022-08-24",
          "2022-08-24",
          "2022-08-24",
          "2022-08-19",
          "2021-08-16",
          "2022-08-16",
          "2020-11-28",
          "2019-12-01",
          "2021-03-30",
          "2020-07-26",
          "2019-11-23",
          "2016-06-16",
          "2022-07-13",
          "2020-08-13",
          "2019-07-12",
          "2020-02-22",
          "2022-07-08",
          "2021-11-22",
          "2020-09-28",
          "2022-05-05",
          "2019-10-25",
          "2020-11-28",
          "2020-03-03",
          "2022-08-02",
          "2015-05-24",
          "2021-03-06",
          "2020-08-16",
          "2022-03-11",
          "2019-01-05",
          "2018-11-08",
          "2018-03-08",
          "2022-08-05",
          "2020-11-28",
          "2022-05-23",
          "2020-10-17",
          "2022-07-23",
          "2021-11-04",
          "2022-01-19",
          "2019-08-12",
          "2021-10-02",
          "2021-09-22",
          "2019-07-22",
          "2020-05-31",
          "2019-06-12",
          "2022-01-06",
          "2021-07-14",
          "2016-06-11",
          "2021-05-27",
          "2021-04-23",
          "2018-01-15",
          "2011-10-07",
          "2022-08-20",
          "2022-08-04",
          "2022-06-04",
          "2022-07-23",
          "2022-08-22",
          "2022-04-09",
          "2022-08-24",
          "2021-11-24",
          "2022-03-19",
          "2022-08-20",
          "2022-08-15",
          "2022-01-29",
          "2020-12-19",
          "2021-03-27",
          "2022-07-25",
          "2022-08-20",
          "2021-03-13",
          "2019-05-30",
          "2021-10-23",
          "2019-10-05",
          "2022-05-22",
          "2019-10-12",
          "2019-11-30",
          "2019-06-15",
          "2022-05-21",
          "2022-08-23",
          "2022-06-14",
          "2020-12-15",
          "2019-05-15",
          "2021-08-31",
          "2022-08-02",
          "2019-06-08",
          "2019-06-01",
          "2019-02-15",
          "2022-05-27",
          "2019-03-16",
          "2022-07-12",
          "2020-07-03",
          "2021-09-04",
          "2022-07-09",
          "2019-08-17",
          "2020-02-29",
          "2022-05-09",
          "2019-01-31",
          "2022-07-16",
          "2022-07-05",
          "2022-07-28",
          "2022-07-30",
          "2022-08-12",
          "2022-08-17",
          "2022-08-24",
          "2022-08-24",
          "2022-08-23",
          "2022-08-24",
          "2022-08-24",
          "2022-08-17",
          "2022-08-20",
          "2022-08-11",
          "2022-08-06",
          "2022-08-10",
          "2022-08-23",
          "2022-07-31",
          "2022-08-14",
          "2022-08-24",
          "2022-08-09",
          "2022-08-17",
          "2022-08-02",
          "2022-08-17",
          "2022-08-13",
          "2022-08-24",
          "2022-08-12",
          "2022-08-17",
          "2022-08-11",
          "2022-08-09",
          "2022-08-10",
          "2022-08-17",
          "2022-08-08",
          "2022-08-14",
          "2022-08-11",
          "2022-08-21",
          "2022-08-10",
          "2022-08-18",
          "2022-08-13",
          "2022-08-13",
          "2022-08-12",
          "2022-08-18",
          "2022-08-21",
          "2022-08-07",
          "2022-08-15",
          "2022-08-19",
          "2022-08-20",
          "2022-08-14",
          "2022-08-18",
          "2022-08-12",
          "2022-08-11",
          "2022-08-18",
          "2022-08-05",
          "2022-07-14",
          "2022-08-09",
          "2022-08-05",
          "2020-08-11",
          "2022-05-03",
          "2019-12-03",
          "2015-08-28",
          "2016-08-13",
          "2016-02-04",
          "2018-09-10",
          "2015-12-04",
          "2016-08-30",
          "2018-08-19",
          "2019-10-04",
          "2013-04-15",
          "2017-02-01",
          "2020-04-03",
          "2013-04-15",
          "2020-07-16",
          "2017-01-11",
          "2015-03-18",
          "2018-09-30",
          "2019-04-15",
          "2017-11-19",
          "2020-11-14",
          "2021-11-25",
          "2017-05-24",
          "2015-09-17",
          "2021-08-28",
          "2021-12-21",
          "2021-05-01",
          "2022-06-22",
          "2017-12-09",
          "2012-04-02",
          "2011-02-01",
          "2021-12-18",
          "2021-06-19",
          "2021-09-09",
          "2021-10-16",
          "2016-02-12",
          "2019-06-06",
          "2022-01-29",
          "2021-02-06",
          "2021-06-26",
          "2012-01-30",
          "2021-06-11",
          "2022-07-30",
          "2022-03-04",
          "2012-02-13",
          "2009-06-26",
          "2022-06-24",
          "2012-03-19",
          "2022-04-30",
          "2012-03-12",
          "2020-06-20",
          "2022-04-01",
          "2019-08-18",
          "2009-02-16",
          "2012-02-20",
          "2021-10-07",
          "2012-02-06",
          "2021-03-29",
          "2017-09-23",
          "2022-02-01",
          "2012-06-04",
          "2020-12-30",
          "2018-03-20",
          "2020-08-07",
          "2021-12-22",
          "2016-01-24",
          "2022-06-01",
          "2021-07-29",
          "2018-08-28",
          "2019-10-16",
          "2016-11-28",
          "2021-03-13",
          "2022-08-24",
          "2016-05-24",
          "2014-08-06",
          "2021-10-20",
          "2017-01-02",
          "2022-07-10",
          "2019-11-20",
          "2022-03-31",
          "2021-06-06",
          "2012-08-15",
          "2020-06-23",
          "2021-09-18",
          "2019-11-19",
          "2021-05-01",
          "2016-09-15",
          "2018-01-26",
          "2022-08-11",
          "2022-08-16",
          "2022-07-20",
          "2022-06-12",
          "2022-04-08",
          "2020-09-14",
          "2016-09-29",
          "2016-03-04",
          "2022-02-26",
          "2021-08-06",
          "2022-04-14",
          "2022-07-04",
          "2022-04-14",
          "2020-12-28",
          "2021-05-31",
          "2021-05-29",
          "2022-02-26",
          "2016-08-29",
          "2022-07-28",
          "2017-01-09",
          "2022-06-18",
          "2012-10-30",
          "2020-01-26",
          "2017-02-28",
          "2022-05-04",
          "2020-04-21",
          "2017-09-06",
          "2018-07-24",
          "2022-08-06",
          "2022-01-18",
          "2017-02-22",
          "2020-09-21",
          "2020-06-01",
          "2021-08-18",
          "2021-11-08",
          "2017-08-21",
          "2019-07-03",
          "2016-07-15",
          "2014-12-08",
          "2020-03-05",
          "2021-12-23",
          "2022-06-16",
          "2017-03-08",
          "2009-08-20",
          "2020-11-06",
          "2022-06-18",
          "2020-07-14",
          "2020-09-07",
          "2018-04-21",
          "2022-05-17",
          "2015-07-21",
          "2019-08-27",
          "2017-05-24",
          "2020-11-24",
          "2020-06-14",
          "2022-08-12",
          "2022-02-06",
          "2022-02-08",
          "2022-04-10",
          "2018-11-08",
          "2021-12-27",
          "2017-03-15",
          "2017-03-29",
          "2022-02-24",
          "2019-11-22",
          "2022-07-26",
          "2021-01-20",
          "2017-03-01",
          "2020-06-10",
          "2020-09-08",
          "2018-08-10",
          "2022-08-11",
          "2022-08-23",
          "2022-08-24",
          "2022-08-10",
          "2022-08-24",
          "2022-06-28",
          "2022-08-24",
          "2022-07-28",
          "2022-08-24",
          "2022-06-22",
          "2022-08-24",
          "2022-08-24",
          "2022-08-24",
          "2022-08-23",
          "2022-08-10",
          "2022-08-24",
          "2022-08-23",
          "2022-08-23",
          "2022-08-10",
          "2017-03-09",
          "2022-08-24",
          "2022-07-31",
          "2021-11-03",
          "2022-08-03",
          "2021-03-06",
          "2022-08-24",
          "2021-11-15",
          "2021-09-29",
          "2021-02-28",
          "2021-02-26",
          "2022-08-23",
          "2022-05-17",
          "2022-07-13",
          "2022-08-16",
          "2022-08-24",
          "2022-08-24",
          "2022-06-08",
          "2022-04-22",
          "2022-08-17",
          "2022-08-24",
          "2022-08-03",
          "2022-08-18",
          "2022-07-19",
          "2021-12-22",
          "2022-08-22",
          "2022-08-21",
          "2022-07-20",
          "2022-05-23",
          "2022-08-24",
          "2022-08-24",
          "2022-06-12",
          "2022-08-24",
          "2022-08-24",
          "2021-10-14",
          "2020-08-14",
          "2022-08-24",
          "2022-08-24",
          "2020-11-24",
          "2022-08-23",
          "2022-01-15",
          "2022-08-21",
          "2022-08-20",
          "2022-08-12",
          "2019-05-07",
          "2022-08-12",
          "2022-07-16",
          "2022-02-19",
          "2022-08-24",
          "2022-08-24",
          "2022-08-24",
          "2022-08-24",
          "2021-01-06",
          "2018-11-19",
          "2022-08-23",
          "2022-03-01",
          "2020-11-21",
          "2022-08-23",
          "2022-08-11",
          "2021-08-24",
          "2021-10-08",
          "2022-08-24",
          "2020-03-13",
          "2022-08-23",
          "2022-08-19",
          "2022-06-05",
          "2022-08-23",
          "2022-04-19",
          "2022-08-17",
          "2022-07-29",
          "2022-08-11",
          "2022-08-10",
          "2022-08-09",
          "2022-08-22",
          "2022-08-16",
          "2020-10-11",
          "2022-08-05",
          "2022-08-19",
          "2022-08-24",
          "2022-08-24",
          "2022-08-23",
          "2022-07-24",
          "2022-08-23",
          "2022-07-24",
          "2022-05-24",
          "2022-07-22",
          "2022-03-15",
          "2022-07-24",
          "2022-06-09",
          "2022-07-24",
          "2022-07-24",
          "2022-05-24",
          "2022-07-27",
          "2022-07-24",
          "2022-08-01",
          "2022-07-24",
          "2022-03-15",
          "2022-05-24",
          "2022-08-24",
          "2022-07-24",
          "2022-04-18",
          "2022-08-24",
          "2021-05-03",
          "2022-05-17",
          "2022-05-24",
          "2021-04-15",
          "2022-04-18",
          "2022-08-11",
          "2022-08-24",
          "2022-05-17",
          "2022-08-23",
          "2022-08-12",
          "2022-04-18",
          "2022-07-23",
          "2022-08-24",
          "2018-01-26",
          "2022-07-23",
          "2022-08-24",
          "2022-08-23",
          "2020-03-10",
          "2022-08-24",
          "2022-08-23",
          "2022-08-23",
          "2022-07-24",
          "2022-08-22",
          "2022-03-14",
          "2022-08-18",
          "2022-08-20",
          "2022-07-05",
          "2022-03-09",
          "2022-05-27",
          "2022-08-24",
          "2022-06-28",
          "2021-09-23",
          "2022-06-17",
          "2022-08-23",
          "2021-05-10",
          "2022-08-24",
          "2022-08-23",
          "2022-08-17",
          "2022-06-12",
          "2022-07-28",
          "2022-08-23",
          "2022-08-21",
          "2022-08-17",
          "2022-08-18",
          "2022-06-18",
          "2022-07-27",
          "2022-08-23",
          "2022-07-18",
          "2022-08-24",
          "2022-08-20",
          "2022-07-17",
          "2022-06-17",
          "2022-08-23",
          "2022-04-22",
          "2022-08-09",
          "2022-08-21",
          "2014-04-04",
          "2016-05-04",
          "2022-08-23",
          "2019-01-15",
          "2022-08-12",
          "2022-06-03",
          "2014-07-10",
          "2022-07-26",
          "2022-08-11",
          "2022-01-02",
          "2018-12-04",
          "2022-06-13",
          "2019-08-18",
          "2019-05-30",
          "2018-06-23",
          "2019-03-04",
          "2021-09-19",
          "2022-02-09",
          "2022-08-03",
          "2021-05-20",
          "2022-02-25",
          "2020-06-10",
          "2021-12-27",
          "2022-01-14",
          "2022-05-13",
          "2022-07-09",
          "2021-12-23",
          "2020-06-02",
          "2022-02-14",
          "2019-07-23",
          "2021-01-24",
          "2022-06-01",
          "2019-12-20",
          "2020-05-07",
          "2021-04-26",
          "2019-03-17",
          "2022-07-11",
          "2021-08-06",
          "2022-02-20",
          "2020-07-22",
          "2022-05-21",
          "2020-09-17",
          "2021-11-19",
          "2022-05-19",
          "2022-02-24",
          "2022-04-29",
          "2018-07-01",
          "2022-01-05",
          "2021-11-11",
          "2020-12-26",
          "2021-06-07",
          "2022-08-24",
          "2022-05-06",
          "2020-12-27",
          "2019-11-26",
          "2022-05-09",
          "2021-09-02",
          "2021-01-10",
          "2022-01-22",
          "2022-01-01",
          "2022-04-06",
          "2022-01-21",
          "2021-04-23",
          "2020-04-03",
          "2022-01-26",
          "2022-06-18",
          "2022-06-19",
          "2022-07-16",
          "2021-10-15",
          "2022-05-31",
          "2021-11-10",
          "2022-08-22",
          "2022-04-30",
          "2021-04-15",
          "2022-08-11",
          "2021-10-19",
          "2022-05-26",
          "2022-08-17",
          "2018-10-21",
          "2022-05-11",
          "2022-04-26",
          "2020-08-24",
          "2022-06-08",
          "2020-07-22",
          "2022-08-01",
          "2022-08-16",
          "2020-03-18",
          "2022-03-30",
          "2021-07-25",
          "2021-12-21",
          "2021-08-23",
          "2022-03-17",
          "2020-04-28",
          "2020-10-24",
          "2020-05-23",
          "2022-05-11",
          "2022-07-22",
          "2022-02-10",
          "2022-07-30",
          "2022-07-02",
          "2022-06-29",
          "2022-06-10",
          "2020-12-01",
          "2022-04-28",
          "2022-08-13",
          "2020-04-24",
          "2021-05-19",
          "2022-07-27",
          "2021-06-15",
          "2022-07-10",
          "2018-09-19",
          "2021-08-18",
          "2019-09-22",
          "2017-08-24",
          "2020-09-17",
          "2017-08-31",
          "2022-03-31",
          "2021-08-30",
          "2017-05-19",
          "2017-10-05",
          "2021-09-09",
          "2017-11-01",
          "2020-05-16",
          "2018-02-20",
          "2021-07-14",
          "2019-09-29",
          "2019-08-30",
          "2020-10-01",
          "2019-05-09",
          "2018-11-30",
          "2020-07-12",
          "2019-01-11",
          "2015-06-13",
          "2018-03-21",
          "2020-02-13",
          "2022-05-28",
          "2019-06-20",
          "2019-10-23",
          "2020-07-30",
          "2017-12-18",
          "2020-04-17",
          "2020-06-25",
          "2018-09-17",
          "2022-01-12",
          "2017-10-16",
          "2022-03-02",
          "2018-06-22",
          "2018-02-22",
          "2021-02-12",
          "2019-06-03",
          "2018-12-19",
          "2021-05-28",
          "2018-02-13",
          "2022-02-01",
          "2021-05-11",
          "2021-06-14",
          "2017-10-08",
          "2020-02-20"
         ],
         "xaxis": "x",
         "yaxis": "y"
        }
       ],
       "layout": {
        "barmode": "relative",
        "legend": {
         "tracegroupgap": 0
        },
        "margin": {
         "t": 60
        },
        "template": {
         "data": {
          "bar": [
           {
            "error_x": {
             "color": "#2a3f5f"
            },
            "error_y": {
             "color": "#2a3f5f"
            },
            "marker": {
             "line": {
              "color": "#E5ECF6",
              "width": 0.5
             },
             "pattern": {
              "fillmode": "overlay",
              "size": 10,
              "solidity": 0.2
             }
            },
            "type": "bar"
           }
          ],
          "barpolar": [
           {
            "marker": {
             "line": {
              "color": "#E5ECF6",
              "width": 0.5
             },
             "pattern": {
              "fillmode": "overlay",
              "size": 10,
              "solidity": 0.2
             }
            },
            "type": "barpolar"
           }
          ],
          "carpet": [
           {
            "aaxis": {
             "endlinecolor": "#2a3f5f",
             "gridcolor": "white",
             "linecolor": "white",
             "minorgridcolor": "white",
             "startlinecolor": "#2a3f5f"
            },
            "baxis": {
             "endlinecolor": "#2a3f5f",
             "gridcolor": "white",
             "linecolor": "white",
             "minorgridcolor": "white",
             "startlinecolor": "#2a3f5f"
            },
            "type": "carpet"
           }
          ],
          "choropleth": [
           {
            "colorbar": {
             "outlinewidth": 0,
             "ticks": ""
            },
            "type": "choropleth"
           }
          ],
          "contour": [
           {
            "colorbar": {
             "outlinewidth": 0,
             "ticks": ""
            },
            "colorscale": [
             [
              0,
              "#0d0887"
             ],
             [
              0.1111111111111111,
              "#46039f"
             ],
             [
              0.2222222222222222,
              "#7201a8"
             ],
             [
              0.3333333333333333,
              "#9c179e"
             ],
             [
              0.4444444444444444,
              "#bd3786"
             ],
             [
              0.5555555555555556,
              "#d8576b"
             ],
             [
              0.6666666666666666,
              "#ed7953"
             ],
             [
              0.7777777777777778,
              "#fb9f3a"
             ],
             [
              0.8888888888888888,
              "#fdca26"
             ],
             [
              1,
              "#f0f921"
             ]
            ],
            "type": "contour"
           }
          ],
          "contourcarpet": [
           {
            "colorbar": {
             "outlinewidth": 0,
             "ticks": ""
            },
            "type": "contourcarpet"
           }
          ],
          "heatmap": [
           {
            "colorbar": {
             "outlinewidth": 0,
             "ticks": ""
            },
            "colorscale": [
             [
              0,
              "#0d0887"
             ],
             [
              0.1111111111111111,
              "#46039f"
             ],
             [
              0.2222222222222222,
              "#7201a8"
             ],
             [
              0.3333333333333333,
              "#9c179e"
             ],
             [
              0.4444444444444444,
              "#bd3786"
             ],
             [
              0.5555555555555556,
              "#d8576b"
             ],
             [
              0.6666666666666666,
              "#ed7953"
             ],
             [
              0.7777777777777778,
              "#fb9f3a"
             ],
             [
              0.8888888888888888,
              "#fdca26"
             ],
             [
              1,
              "#f0f921"
             ]
            ],
            "type": "heatmap"
           }
          ],
          "heatmapgl": [
           {
            "colorbar": {
             "outlinewidth": 0,
             "ticks": ""
            },
            "colorscale": [
             [
              0,
              "#0d0887"
             ],
             [
              0.1111111111111111,
              "#46039f"
             ],
             [
              0.2222222222222222,
              "#7201a8"
             ],
             [
              0.3333333333333333,
              "#9c179e"
             ],
             [
              0.4444444444444444,
              "#bd3786"
             ],
             [
              0.5555555555555556,
              "#d8576b"
             ],
             [
              0.6666666666666666,
              "#ed7953"
             ],
             [
              0.7777777777777778,
              "#fb9f3a"
             ],
             [
              0.8888888888888888,
              "#fdca26"
             ],
             [
              1,
              "#f0f921"
             ]
            ],
            "type": "heatmapgl"
           }
          ],
          "histogram": [
           {
            "marker": {
             "pattern": {
              "fillmode": "overlay",
              "size": 10,
              "solidity": 0.2
             }
            },
            "type": "histogram"
           }
          ],
          "histogram2d": [
           {
            "colorbar": {
             "outlinewidth": 0,
             "ticks": ""
            },
            "colorscale": [
             [
              0,
              "#0d0887"
             ],
             [
              0.1111111111111111,
              "#46039f"
             ],
             [
              0.2222222222222222,
              "#7201a8"
             ],
             [
              0.3333333333333333,
              "#9c179e"
             ],
             [
              0.4444444444444444,
              "#bd3786"
             ],
             [
              0.5555555555555556,
              "#d8576b"
             ],
             [
              0.6666666666666666,
              "#ed7953"
             ],
             [
              0.7777777777777778,
              "#fb9f3a"
             ],
             [
              0.8888888888888888,
              "#fdca26"
             ],
             [
              1,
              "#f0f921"
             ]
            ],
            "type": "histogram2d"
           }
          ],
          "histogram2dcontour": [
           {
            "colorbar": {
             "outlinewidth": 0,
             "ticks": ""
            },
            "colorscale": [
             [
              0,
              "#0d0887"
             ],
             [
              0.1111111111111111,
              "#46039f"
             ],
             [
              0.2222222222222222,
              "#7201a8"
             ],
             [
              0.3333333333333333,
              "#9c179e"
             ],
             [
              0.4444444444444444,
              "#bd3786"
             ],
             [
              0.5555555555555556,
              "#d8576b"
             ],
             [
              0.6666666666666666,
              "#ed7953"
             ],
             [
              0.7777777777777778,
              "#fb9f3a"
             ],
             [
              0.8888888888888888,
              "#fdca26"
             ],
             [
              1,
              "#f0f921"
             ]
            ],
            "type": "histogram2dcontour"
           }
          ],
          "mesh3d": [
           {
            "colorbar": {
             "outlinewidth": 0,
             "ticks": ""
            },
            "type": "mesh3d"
           }
          ],
          "parcoords": [
           {
            "line": {
             "colorbar": {
              "outlinewidth": 0,
              "ticks": ""
             }
            },
            "type": "parcoords"
           }
          ],
          "pie": [
           {
            "automargin": true,
            "type": "pie"
           }
          ],
          "scatter": [
           {
            "fillpattern": {
             "fillmode": "overlay",
             "size": 10,
             "solidity": 0.2
            },
            "type": "scatter"
           }
          ],
          "scatter3d": [
           {
            "line": {
             "colorbar": {
              "outlinewidth": 0,
              "ticks": ""
             }
            },
            "marker": {
             "colorbar": {
              "outlinewidth": 0,
              "ticks": ""
             }
            },
            "type": "scatter3d"
           }
          ],
          "scattercarpet": [
           {
            "marker": {
             "colorbar": {
              "outlinewidth": 0,
              "ticks": ""
             }
            },
            "type": "scattercarpet"
           }
          ],
          "scattergeo": [
           {
            "marker": {
             "colorbar": {
              "outlinewidth": 0,
              "ticks": ""
             }
            },
            "type": "scattergeo"
           }
          ],
          "scattergl": [
           {
            "marker": {
             "colorbar": {
              "outlinewidth": 0,
              "ticks": ""
             }
            },
            "type": "scattergl"
           }
          ],
          "scattermapbox": [
           {
            "marker": {
             "colorbar": {
              "outlinewidth": 0,
              "ticks": ""
             }
            },
            "type": "scattermapbox"
           }
          ],
          "scatterpolar": [
           {
            "marker": {
             "colorbar": {
              "outlinewidth": 0,
              "ticks": ""
             }
            },
            "type": "scatterpolar"
           }
          ],
          "scatterpolargl": [
           {
            "marker": {
             "colorbar": {
              "outlinewidth": 0,
              "ticks": ""
             }
            },
            "type": "scatterpolargl"
           }
          ],
          "scatterternary": [
           {
            "marker": {
             "colorbar": {
              "outlinewidth": 0,
              "ticks": ""
             }
            },
            "type": "scatterternary"
           }
          ],
          "surface": [
           {
            "colorbar": {
             "outlinewidth": 0,
             "ticks": ""
            },
            "colorscale": [
             [
              0,
              "#0d0887"
             ],
             [
              0.1111111111111111,
              "#46039f"
             ],
             [
              0.2222222222222222,
              "#7201a8"
             ],
             [
              0.3333333333333333,
              "#9c179e"
             ],
             [
              0.4444444444444444,
              "#bd3786"
             ],
             [
              0.5555555555555556,
              "#d8576b"
             ],
             [
              0.6666666666666666,
              "#ed7953"
             ],
             [
              0.7777777777777778,
              "#fb9f3a"
             ],
             [
              0.8888888888888888,
              "#fdca26"
             ],
             [
              1,
              "#f0f921"
             ]
            ],
            "type": "surface"
           }
          ],
          "table": [
           {
            "cells": {
             "fill": {
              "color": "#EBF0F8"
             },
             "line": {
              "color": "white"
             }
            },
            "header": {
             "fill": {
              "color": "#C8D4E3"
             },
             "line": {
              "color": "white"
             }
            },
            "type": "table"
           }
          ]
         },
         "layout": {
          "annotationdefaults": {
           "arrowcolor": "#2a3f5f",
           "arrowhead": 0,
           "arrowwidth": 1
          },
          "autotypenumbers": "strict",
          "coloraxis": {
           "colorbar": {
            "outlinewidth": 0,
            "ticks": ""
           }
          },
          "colorscale": {
           "diverging": [
            [
             0,
             "#8e0152"
            ],
            [
             0.1,
             "#c51b7d"
            ],
            [
             0.2,
             "#de77ae"
            ],
            [
             0.3,
             "#f1b6da"
            ],
            [
             0.4,
             "#fde0ef"
            ],
            [
             0.5,
             "#f7f7f7"
            ],
            [
             0.6,
             "#e6f5d0"
            ],
            [
             0.7,
             "#b8e186"
            ],
            [
             0.8,
             "#7fbc41"
            ],
            [
             0.9,
             "#4d9221"
            ],
            [
             1,
             "#276419"
            ]
           ],
           "sequential": [
            [
             0,
             "#0d0887"
            ],
            [
             0.1111111111111111,
             "#46039f"
            ],
            [
             0.2222222222222222,
             "#7201a8"
            ],
            [
             0.3333333333333333,
             "#9c179e"
            ],
            [
             0.4444444444444444,
             "#bd3786"
            ],
            [
             0.5555555555555556,
             "#d8576b"
            ],
            [
             0.6666666666666666,
             "#ed7953"
            ],
            [
             0.7777777777777778,
             "#fb9f3a"
            ],
            [
             0.8888888888888888,
             "#fdca26"
            ],
            [
             1,
             "#f0f921"
            ]
           ],
           "sequentialminus": [
            [
             0,
             "#0d0887"
            ],
            [
             0.1111111111111111,
             "#46039f"
            ],
            [
             0.2222222222222222,
             "#7201a8"
            ],
            [
             0.3333333333333333,
             "#9c179e"
            ],
            [
             0.4444444444444444,
             "#bd3786"
            ],
            [
             0.5555555555555556,
             "#d8576b"
            ],
            [
             0.6666666666666666,
             "#ed7953"
            ],
            [
             0.7777777777777778,
             "#fb9f3a"
            ],
            [
             0.8888888888888888,
             "#fdca26"
            ],
            [
             1,
             "#f0f921"
            ]
           ]
          },
          "colorway": [
           "#636efa",
           "#EF553B",
           "#00cc96",
           "#ab63fa",
           "#FFA15A",
           "#19d3f3",
           "#FF6692",
           "#B6E880",
           "#FF97FF",
           "#FECB52"
          ],
          "font": {
           "color": "#2a3f5f"
          },
          "geo": {
           "bgcolor": "white",
           "lakecolor": "white",
           "landcolor": "#E5ECF6",
           "showlakes": true,
           "showland": true,
           "subunitcolor": "white"
          },
          "hoverlabel": {
           "align": "left"
          },
          "hovermode": "closest",
          "mapbox": {
           "style": "light"
          },
          "paper_bgcolor": "white",
          "plot_bgcolor": "#E5ECF6",
          "polar": {
           "angularaxis": {
            "gridcolor": "white",
            "linecolor": "white",
            "ticks": ""
           },
           "bgcolor": "#E5ECF6",
           "radialaxis": {
            "gridcolor": "white",
            "linecolor": "white",
            "ticks": ""
           }
          },
          "scene": {
           "xaxis": {
            "backgroundcolor": "#E5ECF6",
            "gridcolor": "white",
            "gridwidth": 2,
            "linecolor": "white",
            "showbackground": true,
            "ticks": "",
            "zerolinecolor": "white"
           },
           "yaxis": {
            "backgroundcolor": "#E5ECF6",
            "gridcolor": "white",
            "gridwidth": 2,
            "linecolor": "white",
            "showbackground": true,
            "ticks": "",
            "zerolinecolor": "white"
           },
           "zaxis": {
            "backgroundcolor": "#E5ECF6",
            "gridcolor": "white",
            "gridwidth": 2,
            "linecolor": "white",
            "showbackground": true,
            "ticks": "",
            "zerolinecolor": "white"
           }
          },
          "shapedefaults": {
           "line": {
            "color": "#2a3f5f"
           }
          },
          "ternary": {
           "aaxis": {
            "gridcolor": "white",
            "linecolor": "white",
            "ticks": ""
           },
           "baxis": {
            "gridcolor": "white",
            "linecolor": "white",
            "ticks": ""
           },
           "bgcolor": "#E5ECF6",
           "caxis": {
            "gridcolor": "white",
            "linecolor": "white",
            "ticks": ""
           }
          },
          "title": {
           "x": 0.05
          },
          "xaxis": {
           "automargin": true,
           "gridcolor": "white",
           "linecolor": "white",
           "ticks": "",
           "title": {
            "standoff": 15
           },
           "zerolinecolor": "white",
           "zerolinewidth": 2
          },
          "yaxis": {
           "automargin": true,
           "gridcolor": "white",
           "linecolor": "white",
           "ticks": "",
           "title": {
            "standoff": 15
           },
           "zerolinecolor": "white",
           "zerolinewidth": 2
          }
         }
        },
        "xaxis": {
         "anchor": "y",
         "domain": [
          0,
          1
         ],
         "title": {
          "text": "Published At"
         }
        },
        "yaxis": {
         "anchor": "x",
         "domain": [
          0,
          1
         ],
         "title": {
          "text": "count"
         }
        }
       }
      },
      "text/html": [
       "<div>                            <div id=\"55192da6-f60e-4bf8-a7e4-d9e5c574b84a\" class=\"plotly-graph-div\" style=\"height:525px; width:100%;\"></div>            <script type=\"text/javascript\">                require([\"plotly\"], function(Plotly) {                    window.PLOTLYENV=window.PLOTLYENV || {};                                    if (document.getElementById(\"55192da6-f60e-4bf8-a7e4-d9e5c574b84a\")) {                    Plotly.newPlot(                        \"55192da6-f60e-4bf8-a7e4-d9e5c574b84a\",                        [{\"alignmentgroup\":\"True\",\"bingroup\":\"x\",\"hovertemplate\":\"Published At=%{x}<br>count=%{y}<extra></extra>\",\"legendgroup\":\"\",\"marker\":{\"color\":\"blue\",\"pattern\":{\"shape\":\"\"}},\"name\":\"\",\"offsetgroup\":\"\",\"orientation\":\"v\",\"showlegend\":false,\"x\":[\"2022-08-23\",\"2022-08-24\",\"2022-08-23\",\"2022-08-23\",\"2022-08-08\",\"2021-11-05\",\"2022-06-13\",\"2022-08-07\",\"2021-12-08\",\"2022-07-14\",\"2022-08-15\",\"2022-08-06\",\"2022-08-13\",\"2021-12-15\",\"2022-07-09\",\"2021-06-04\",\"2021-08-13\",\"2022-07-21\",\"2022-08-14\",\"2022-03-25\",\"2022-08-24\",\"2022-05-12\",\"2022-07-02\",\"2021-06-18\",\"2022-07-31\",\"2022-08-24\",\"2022-08-10\",\"2022-05-27\",\"2022-06-03\",\"2022-08-19\",\"2021-11-30\",\"2022-05-28\",\"2022-04-02\",\"2022-05-14\",\"2022-05-05\",\"2022-08-24\",\"2022-01-07\",\"2022-03-16\",\"2022-08-24\",\"2022-07-23\",\"2022-06-04\",\"2022-07-02\",\"2021-12-04\",\"2022-08-04\",\"2022-05-26\",\"2022-08-24\",\"2022-07-30\",\"2022-06-08\",\"2022-08-24\",\"2022-08-24\",\"2022-08-24\",\"2022-08-24\",\"2022-08-24\",\"2022-08-24\",\"2022-08-24\",\"2022-08-24\",\"2022-08-23\",\"2022-08-24\",\"2022-08-23\",\"2022-08-23\",\"2022-08-24\",\"2022-08-24\",\"2022-08-23\",\"2022-08-24\",\"2022-08-20\",\"2022-08-21\",\"2022-08-24\",\"2022-08-24\",\"2022-08-24\",\"2022-08-24\",\"2022-08-23\",\"2022-08-22\",\"2022-08-23\",\"2022-08-22\",\"2022-08-24\",\"2022-08-19\",\"2022-08-19\",\"2022-08-20\",\"2022-08-22\",\"2022-08-24\",\"2022-08-18\",\"2022-08-23\",\"2022-08-21\",\"2022-08-21\",\"2022-08-24\",\"2022-08-21\",\"2022-08-23\",\"2022-08-23\",\"2022-08-23\",\"2022-08-24\",\"2022-08-24\",\"2022-08-24\",\"2022-08-24\",\"2022-08-22\",\"2022-08-23\",\"2022-08-24\",\"2022-08-24\",\"2022-08-24\",\"2022-08-20\",\"2022-08-24\",\"2022-08-24\",\"2022-08-24\",\"2022-08-24\",\"2022-08-24\",\"2022-08-24\",\"2022-08-24\",\"2022-08-24\",\"2022-08-23\",\"2022-08-24\",\"2022-08-23\",\"2022-08-23\",\"2022-08-22\",\"2022-01-18\",\"2022-08-24\",\"2022-08-23\",\"2022-08-23\",\"2022-08-22\",\"2022-08-24\",\"2022-08-22\",\"2022-08-23\",\"2022-08-24\",\"2022-08-23\",\"2022-08-22\",\"2020-11-14\",\"2022-05-06\",\"2022-08-24\",\"2022-08-22\",\"2022-08-23\",\"2022-08-22\",\"2022-08-24\",\"2022-03-31\",\"2022-08-14\",\"2018-01-09\",\"2022-07-24\",\"2022-04-18\",\"2019-04-22\",\"2021-06-20\",\"2022-08-22\",\"2019-12-22\",\"2021-08-06\",\"2022-04-02\",\"2022-08-20\",\"2021-08-30\",\"2022-08-16\",\"2022-02-22\",\"2022-01-02\",\"2021-08-09\",\"2022-08-21\",\"2019-10-07\",\"2020-10-03\",\"2022-05-07\",\"2021-01-08\",\"2021-10-24\",\"2020-12-28\",\"2022-08-21\",\"2022-08-23\",\"2022-08-20\",\"2017-12-04\",\"2022-08-13\",\"2021-09-21\",\"2022-06-12\",\"2022-08-20\",\"2018-08-13\",\"2022-08-22\",\"2022-08-24\",\"2022-03-31\",\"2021-12-26\",\"2022-08-23\",\"2021-10-05\",\"2022-08-18\",\"2022-08-21\",\"2022-08-22\",\"2022-08-21\",\"2022-08-20\",\"2022-08-15\",\"2022-05-31\",\"2022-08-20\",\"2020-06-14\",\"2022-08-13\",\"2022-07-04\",\"2022-08-23\",\"2019-04-05\",\"2022-07-21\",\"2021-12-12\",\"2021-10-18\",\"2019-05-21\",\"2019-10-11\",\"2022-08-22\",\"2017-02-07\",\"2018-10-18\",\"2016-10-04\",\"2022-07-31\",\"2020-08-18\",\"2020-11-07\",\"2018-06-12\",\"2022-08-14\",\"2022-06-15\",\"2022-08-24\",\"2013-03-14\",\"2016-03-07\",\"2018-02-24\",\"2022-08-23\",\"2021-12-03\",\"2019-07-29\",\"2022-04-17\",\"2022-08-23\",\"2022-08-23\",\"2022-07-29\",\"2019-01-18\",\"2018-01-12\",\"2020-05-07\",\"2022-05-20\",\"2021-11-20\",\"2022-08-15\",\"2022-08-11\",\"2022-08-12\",\"2022-08-21\",\"2022-08-23\",\"2022-06-21\",\"2022-08-13\",\"2021-11-23\",\"2022-03-31\",\"2021-10-20\",\"2022-08-18\",\"2022-08-24\",\"2019-09-05\",\"2022-08-24\",\"2020-09-25\",\"2020-09-25\",\"2020-09-25\",\"2020-11-04\",\"2020-12-20\",\"2020-12-09\",\"2020-11-02\",\"2022-08-23\",\"2009-10-25\",\"2022-07-11\",\"2018-09-14\",\"2022-08-01\",\"2022-02-15\",\"2022-08-22\",\"2019-10-16\",\"2022-08-23\",\"2022-02-13\",\"2022-05-16\",\"2022-02-08\",\"2022-08-24\",\"2021-11-12\",\"2022-08-23\",\"2022-08-24\",\"2021-03-15\",\"2021-01-21\",\"2022-08-24\",\"2021-08-25\",\"2019-12-11\",\"2018-12-15\",\"2022-01-12\",\"2022-08-23\",\"2022-05-09\",\"2022-08-24\",\"2022-07-14\",\"2022-08-24\",\"2022-08-24\",\"2021-10-01\",\"2022-07-26\",\"2022-08-24\",\"2022-08-24\",\"2022-02-19\",\"2022-08-24\",\"2022-06-03\",\"2022-07-20\",\"2022-08-24\",\"2021-03-24\",\"2021-01-07\",\"2019-06-29\",\"2020-10-28\",\"2019-12-17\",\"2019-03-20\",\"2022-06-20\",\"2020-12-08\",\"2022-08-22\",\"2022-05-20\",\"2019-07-15\",\"2020-11-06\",\"2018-08-24\",\"2022-08-17\",\"2022-07-05\",\"2020-10-18\",\"2019-02-18\",\"2018-07-11\",\"2017-05-24\",\"2021-01-11\",\"2020-08-06\",\"2022-01-30\",\"2022-07-03\",\"2019-11-07\",\"2022-08-12\",\"2018-06-01\",\"2022-02-04\",\"2022-08-05\",\"2022-07-06\",\"2022-05-23\",\"2022-05-23\",\"2020-11-19\",\"2018-02-01\",\"2021-03-05\",\"2021-08-20\",\"2020-12-01\",\"2022-01-09\",\"2022-07-28\",\"2022-06-15\",\"2022-01-03\",\"2019-09-17\",\"2022-08-14\",\"2019-07-30\",\"2022-08-23\",\"2017-02-01\",\"2022-08-21\",\"2019-07-18\",\"2021-09-08\",\"2022-07-25\",\"2022-03-29\",\"2021-01-22\",\"2022-08-23\",\"2022-08-24\",\"2022-08-22\",\"2022-08-22\",\"2022-08-23\",\"2022-08-24\",\"2022-08-20\",\"2022-08-18\",\"2022-08-22\",\"2022-08-24\",\"2022-08-21\",\"2022-08-22\",\"2022-08-21\",\"2015-01-06\",\"2022-08-23\",\"2012-11-27\",\"2015-10-14\",\"2022-08-19\",\"2022-08-18\",\"2022-08-24\",\"2022-08-21\",\"2022-08-17\",\"2022-08-19\",\"2017-12-31\",\"2022-08-19\",\"2022-08-20\",\"2022-08-17\",\"2021-07-11\",\"2022-08-20\",\"2021-11-03\",\"2022-08-18\",\"2022-07-14\",\"2017-08-02\",\"2022-08-20\",\"2022-08-19\",\"2016-11-19\",\"2022-08-22\",\"2020-09-23\",\"2022-08-17\",\"2022-08-24\",\"2022-08-23\",\"2022-08-24\",\"2022-08-23\",\"2022-08-24\",\"2022-08-24\",\"2022-08-23\",\"2022-08-24\",\"2022-08-24\",\"2022-08-23\",\"2022-08-24\",\"2022-08-24\",\"2022-08-23\",\"2022-08-23\",\"2022-08-23\",\"2022-08-24\",\"2022-08-24\",\"2022-08-24\",\"2022-08-24\",\"2022-08-24\",\"2022-08-24\",\"2022-08-23\",\"2022-08-24\",\"2022-08-23\",\"2022-08-23\",\"2022-03-11\",\"2022-08-23\",\"2022-08-24\",\"2022-08-24\",\"2022-08-23\",\"2022-08-23\",\"2022-08-24\",\"2022-08-24\",\"2022-08-23\",\"2022-08-23\",\"2022-08-24\",\"2022-08-24\",\"2022-08-22\",\"2022-08-23\",\"2022-03-12\",\"2022-08-23\",\"2022-08-22\",\"2022-08-23\",\"2022-08-23\",\"2022-08-24\",\"2022-08-23\",\"2022-08-23\",\"2022-08-23\",\"2022-08-24\",\"2022-08-23\",\"2022-08-23\",\"2021-02-27\",\"2020-12-21\",\"2019-05-24\",\"2021-12-22\",\"2022-08-23\",\"2021-11-26\",\"2021-07-10\",\"2020-02-17\",\"2019-09-05\",\"2022-08-24\",\"2022-06-22\",\"2021-12-03\",\"2022-05-08\",\"2020-07-04\",\"2022-08-21\",\"2022-02-26\",\"2020-06-16\",\"2022-04-07\",\"2021-02-23\",\"2022-04-18\",\"2021-02-06\",\"2021-04-29\",\"2020-02-08\",\"2021-04-03\",\"2022-07-13\",\"2022-04-17\",\"2022-05-28\",\"2020-03-24\",\"2020-03-13\",\"2022-01-11\",\"2021-11-07\",\"2020-11-17\",\"2022-07-24\",\"2022-08-03\",\"2022-04-20\",\"2021-09-17\",\"2018-11-29\",\"2022-08-02\",\"2022-06-12\",\"2022-07-15\",\"2021-11-10\",\"2022-05-21\",\"2022-06-24\",\"2018-09-19\",\"2009-02-24\",\"2021-11-02\",\"2016-09-29\",\"2022-07-02\",\"2021-07-26\",\"2022-08-24\",\"2022-08-24\",\"2022-08-23\",\"2022-08-24\",\"2022-08-23\",\"2022-08-20\",\"2022-08-24\",\"2019-09-12\",\"2022-08-21\",\"2022-08-04\",\"2022-06-25\",\"2020-12-17\",\"2022-08-24\",\"2022-08-24\",\"2022-08-24\",\"2022-08-15\",\"2022-08-24\",\"2022-08-22\",\"2020-12-02\",\"2021-07-02\",\"2022-08-24\",\"2022-08-20\",\"2022-08-21\",\"2022-08-18\",\"2022-08-21\",\"2022-08-21\",\"2022-08-16\",\"2021-09-14\",\"2021-11-23\",\"2022-08-16\",\"2022-04-05\",\"2022-08-18\",\"2022-08-20\",\"2022-06-10\",\"2022-08-18\",\"2022-08-23\",\"2021-12-12\",\"2022-08-17\",\"2022-08-19\",\"2021-04-22\",\"2020-09-02\",\"2021-01-18\",\"2022-03-04\",\"2021-10-07\",\"2020-08-12\",\"2022-08-24\",\"2022-08-24\",\"2022-08-24\",\"2022-08-24\",\"2022-08-24\",\"2022-08-23\",\"2022-08-24\",\"2022-08-20\",\"2022-08-24\",\"2022-08-24\",\"2022-08-20\",\"2022-08-24\",\"2022-08-16\",\"2022-08-24\",\"2022-08-24\",\"2022-05-13\",\"2022-07-30\",\"2022-08-20\",\"2016-11-02\",\"2022-08-22\",\"2022-08-08\",\"2022-08-20\",\"2022-08-22\",\"2022-07-27\",\"2022-08-17\",\"2022-08-02\",\"2022-08-05\",\"2022-07-11\",\"2022-08-06\",\"2022-07-23\",\"2022-08-19\",\"2022-08-11\",\"2021-09-05\",\"2022-08-18\",\"2022-08-24\",\"2022-06-16\",\"2022-08-17\",\"2022-07-10\",\"2022-08-23\",\"2022-08-02\",\"2022-06-21\",\"2022-08-23\",\"2022-08-18\",\"2022-08-19\",\"2022-06-23\",\"2019-12-10\",\"2019-11-26\",\"2020-11-18\",\"2018-04-05\",\"2022-08-24\",\"2016-04-28\",\"2020-10-17\",\"2022-05-01\",\"2022-04-10\",\"2022-03-14\",\"2022-06-05\",\"2018-07-11\",\"2022-05-11\",\"2022-06-23\",\"2022-01-16\",\"2021-08-08\",\"2022-06-11\",\"2018-01-26\",\"2022-01-07\",\"2021-04-26\",\"2022-07-06\",\"2021-10-18\",\"2021-12-02\",\"2021-12-19\",\"2021-08-25\",\"2022-05-03\",\"2022-06-19\",\"2017-10-25\",\"2021-05-21\",\"2022-08-21\",\"2022-08-23\",\"2022-08-24\",\"2022-08-20\",\"2020-11-28\",\"2022-08-19\",\"2021-12-31\",\"2021-12-08\",\"2022-05-12\",\"2022-08-21\",\"2019-10-24\",\"2022-08-23\",\"2022-08-12\",\"2022-08-23\",\"2022-08-24\",\"2022-04-14\",\"2020-10-08\",\"2021-08-03\",\"2022-04-18\",\"2018-10-05\",\"2020-10-23\",\"2022-08-23\",\"2016-01-05\",\"2022-08-24\",\"2021-07-04\",\"2022-05-16\",\"2016-12-14\",\"2019-02-12\",\"2018-06-10\",\"2022-08-24\",\"2021-08-03\",\"2020-09-09\",\"2019-12-25\",\"2022-08-24\",\"2022-08-04\",\"2022-08-24\",\"2022-06-24\",\"2020-01-03\",\"2022-08-22\",\"2021-12-20\",\"2022-08-24\",\"2022-08-24\",\"2019-11-21\",\"2020-05-13\",\"2022-06-09\",\"2020-05-13\",\"2022-03-11\",\"2022-08-23\",\"2019-06-11\",\"2022-04-02\",\"2022-03-08\",\"2022-02-16\",\"2022-06-07\",\"2021-09-28\",\"2020-06-28\",\"2022-08-22\",\"2017-02-17\",\"2022-08-24\",\"2022-08-05\",\"2022-07-26\",\"2022-08-23\",\"2022-08-24\",\"2022-08-12\",\"2022-08-17\",\"2022-08-23\",\"2022-08-24\",\"2022-08-23\",\"2022-08-24\",\"2016-01-26\",\"2018-10-10\",\"2020-07-29\",\"2022-08-24\",\"2022-08-23\",\"2020-08-30\",\"2022-06-19\",\"2017-05-10\",\"2022-05-31\",\"2022-07-17\",\"2020-07-19\",\"2021-09-08\",\"2022-08-23\",\"2022-08-13\",\"2018-04-25\",\"2022-04-13\",\"2022-08-20\",\"2020-03-11\",\"2022-04-06\",\"2020-03-11\",\"2022-04-22\",\"2022-08-23\",\"2022-02-22\",\"2022-04-22\",\"2020-11-30\",\"2022-08-23\",\"2022-05-02\",\"2021-05-20\",\"2019-01-28\",\"2022-08-09\",\"2022-08-21\",\"2021-12-17\",\"2022-07-02\",\"2021-10-20\",\"2020-12-12\",\"2022-07-10\",\"2022-06-19\",\"2022-08-01\",\"2021-06-16\",\"2022-08-19\",\"2022-08-23\",\"2022-07-29\",\"2022-01-15\",\"2022-08-20\",\"2022-08-23\",\"2022-04-04\",\"2012-11-15\",\"2014-09-18\",\"2016-05-27\",\"2016-04-14\",\"2020-01-07\",\"2021-04-30\",\"2015-09-18\",\"2022-01-03\",\"2016-08-05\",\"2016-01-15\",\"2017-09-18\",\"2013-05-31\",\"2016-04-22\",\"2021-03-17\",\"2016-02-05\",\"2015-11-06\",\"2021-11-05\",\"2015-10-09\",\"2020-04-17\",\"2016-06-17\",\"2017-06-11\",\"2020-09-09\",\"2021-08-24\",\"2020-10-09\",\"2016-11-15\",\"2020-03-25\",\"2016-05-13\",\"2020-05-10\",\"2022-03-01\",\"2017-03-27\",\"2021-03-14\",\"2020-04-03\",\"2016-11-25\",\"2014-07-08\",\"2014-02-27\",\"2018-08-30\",\"2020-11-07\",\"2020-10-02\",\"2021-05-28\",\"2020-03-25\",\"2021-03-09\",\"2018-04-04\",\"2014-04-09\",\"2010-06-28\",\"2010-05-18\",\"2020-04-21\",\"2017-04-17\",\"2017-02-15\",\"2007-07-16\",\"2018-07-07\",\"2021-03-05\",\"2021-02-26\",\"2017-08-16\",\"2021-03-31\",\"2020-04-01\",\"2007-12-11\",\"2021-10-12\",\"2018-06-15\",\"2020-09-17\",\"2009-12-16\",\"2017-02-16\",\"2011-09-28\",\"2021-02-25\",\"2022-04-09\",\"2022-06-21\",\"2020-03-14\",\"2009-06-17\",\"2022-08-23\",\"2019-12-13\",\"2018-09-30\",\"2021-06-25\",\"2022-01-03\",\"2022-08-24\",\"2022-08-20\",\"2021-08-18\",\"2021-01-21\",\"2021-07-18\",\"2011-05-07\",\"2021-12-09\",\"2021-11-21\",\"2017-10-31\",\"2022-06-07\",\"2021-06-27\",\"2022-05-12\",\"2020-10-02\",\"2010-09-29\",\"2022-08-18\",\"2022-04-25\",\"2009-12-23\",\"2018-06-21\",\"2022-08-23\",\"2022-08-23\",\"2022-08-24\",\"2022-08-23\",\"2021-01-07\",\"2021-09-12\",\"2022-03-26\",\"2022-04-18\",\"2022-05-21\",\"2022-07-11\",\"2022-06-16\",\"2022-03-07\",\"2022-05-16\",\"2020-06-14\",\"2022-05-25\",\"2021-09-27\",\"2022-04-11\",\"2022-01-08\",\"2021-10-02\",\"2022-04-05\",\"2022-08-24\",\"2021-01-21\",\"2022-08-23\",\"2022-07-20\",\"2021-11-17\",\"2022-07-30\",\"2022-06-04\",\"2022-03-08\",\"2022-08-09\",\"2022-04-02\",\"2021-09-12\",\"2022-01-31\",\"2022-04-07\",\"2022-06-06\",\"2022-05-13\",\"2022-08-13\",\"2021-11-22\",\"2022-08-02\",\"2022-02-11\",\"2022-08-20\",\"2022-05-01\",\"2022-08-21\",\"2022-03-14\",\"2022-08-23\",\"2022-08-24\",\"2022-08-21\",\"2021-04-16\",\"2022-08-23\",\"2022-08-21\",\"2022-08-23\",\"2022-08-24\",\"2022-08-23\",\"2022-08-24\",\"2022-08-23\",\"2022-08-24\",\"2022-08-24\",\"2022-08-24\",\"2022-08-24\",\"2022-08-23\",\"2022-08-24\",\"2022-08-24\",\"2022-08-24\",\"2022-08-24\",\"2022-08-24\",\"2022-08-24\",\"2021-12-02\",\"2022-07-23\",\"2022-08-09\",\"2022-08-24\",\"2022-08-23\",\"2022-04-09\",\"2022-08-23\",\"2022-08-24\",\"2022-08-24\",\"2021-12-22\",\"2022-08-23\",\"2022-08-24\",\"2022-07-26\",\"2022-08-23\",\"2022-08-14\",\"2022-08-14\",\"2022-08-24\",\"2020-10-15\",\"2022-08-23\",\"2022-08-24\",\"2022-08-24\",\"2021-04-10\",\"2022-08-24\",\"2022-08-13\",\"2022-07-30\",\"2022-08-03\",\"2022-08-11\",\"2022-07-30\",\"2022-05-17\",\"2022-08-24\",\"2022-08-24\",\"2022-08-23\",\"2022-08-23\",\"2022-08-23\",\"2022-08-22\",\"2022-08-23\",\"2022-08-23\",\"2021-11-28\",\"2022-08-24\",\"2022-08-24\",\"2020-08-20\",\"2022-08-24\",\"2022-08-24\",\"2022-08-24\",\"2022-08-23\",\"2022-02-08\",\"2022-08-23\",\"2022-08-24\",\"2020-03-19\",\"2022-04-07\",\"2022-05-21\",\"2022-07-15\",\"2022-08-23\",\"2022-08-24\",\"2022-08-23\",\"2022-08-22\",\"2022-08-23\",\"2022-08-24\",\"2022-08-24\",\"2022-08-24\",\"2022-08-23\",\"2022-08-23\",\"2021-11-25\",\"2022-08-24\",\"2022-08-24\",\"2022-08-24\",\"2022-08-23\",\"2022-08-23\",\"2022-08-24\",\"2021-01-05\",\"2022-08-23\",\"2022-01-25\",\"2022-08-22\",\"2022-08-23\",\"2022-08-24\",\"2021-12-09\",\"2022-08-20\",\"2022-05-13\",\"2022-08-20\",\"2022-07-11\",\"2022-08-24\",\"2020-04-05\",\"2020-10-31\",\"2022-07-13\",\"2020-07-04\",\"2022-07-31\",\"2022-08-07\",\"2021-09-19\",\"2021-10-17\",\"2019-07-16\",\"2022-08-14\",\"2022-08-03\",\"2022-08-16\",\"2022-06-25\",\"2022-07-27\",\"2022-07-03\",\"2022-07-17\",\"2019-10-20\",\"2022-08-20\",\"2022-07-09\",\"2022-05-22\",\"2022-08-09\",\"2022-07-25\",\"2022-07-10\",\"2022-04-02\",\"2022-08-20\",\"2021-11-23\",\"2017-05-31\",\"2022-04-12\",\"2022-04-30\",\"2022-08-05\",\"2020-08-04\",\"2020-08-13\",\"2022-08-14\",\"2022-08-21\",\"2022-05-04\",\"2022-07-24\",\"2022-08-24\",\"2019-11-29\",\"2022-07-16\",\"2022-08-22\",\"2022-08-23\",\"2022-06-22\",\"2022-08-12\",\"2022-02-13\",\"2022-02-26\",\"2022-08-14\",\"2022-07-07\",\"2022-08-03\",\"2022-08-23\",\"2022-08-24\",\"2021-11-08\",\"2022-05-15\",\"2020-04-18\",\"2022-07-28\",\"2021-01-29\",\"2020-02-29\",\"2022-08-23\",\"2021-11-12\",\"2022-05-19\",\"2022-05-30\",\"2022-01-06\",\"2021-12-06\",\"2022-08-24\",\"2022-08-24\",\"2022-08-18\",\"2022-08-23\",\"2022-08-18\",\"2022-05-21\",\"2022-08-24\",\"2022-08-23\",\"2022-08-17\",\"2022-08-13\",\"2022-08-24\",\"2022-08-15\",\"2022-08-03\",\"2022-08-17\",\"2022-08-24\",\"2022-06-23\",\"2022-08-24\",\"2022-08-06\",\"2022-08-23\",\"2022-08-24\",\"2022-08-22\",\"2022-08-21\",\"2022-05-09\",\"2022-08-23\",\"2022-07-24\",\"2022-08-24\",\"2021-04-09\",\"2022-05-03\",\"2020-07-28\",\"2022-08-22\",\"2022-08-23\",\"2022-08-24\",\"2022-08-24\",\"2022-08-23\",\"2022-08-23\",\"2022-08-24\",\"2022-08-24\",\"2022-08-24\",\"2022-08-24\",\"2022-08-23\",\"2022-08-24\",\"2022-08-23\",\"2022-08-24\",\"2022-08-23\",\"2022-08-24\",\"2022-08-24\",\"2022-08-23\",\"2022-08-23\",\"2022-08-24\",\"2022-08-23\",\"2022-08-23\",\"2022-08-23\",\"2022-08-23\",\"2022-08-23\",\"2022-08-24\",\"2022-08-24\",\"2022-08-24\",\"2022-08-24\",\"2022-08-24\",\"2022-08-23\",\"2022-08-24\",\"2022-08-24\",\"2022-08-23\",\"2022-08-23\",\"2022-08-23\",\"2022-08-23\",\"2022-08-24\",\"2022-08-24\",\"2022-08-24\",\"2022-08-23\",\"2022-08-24\",\"2022-08-24\",\"2022-08-24\",\"2022-08-23\",\"2022-08-24\",\"2022-08-23\",\"2022-08-24\",\"2022-08-24\",\"2022-08-23\",\"2022-08-24\",\"2022-08-24\",\"2021-12-31\",\"2022-03-06\",\"2022-08-24\",\"2022-04-11\",\"2019-12-08\",\"2022-08-15\",\"2022-08-19\",\"2022-08-08\",\"2022-02-27\",\"2022-08-24\",\"2022-04-29\",\"2022-08-10\",\"2022-05-22\",\"2022-06-21\",\"2022-01-23\",\"2021-04-26\",\"2022-06-01\",\"2022-06-07\",\"2022-06-22\",\"2022-05-07\",\"2022-08-05\",\"2022-05-25\",\"2022-04-24\",\"2022-03-05\",\"2021-01-16\",\"2021-08-26\",\"2022-07-03\",\"2021-12-21\",\"2022-05-08\",\"2022-02-23\",\"2022-06-19\",\"2022-08-24\",\"2022-08-17\",\"2020-07-19\",\"2022-08-24\",\"2022-08-24\",\"2022-02-18\",\"2022-03-31\",\"2022-08-17\",\"2021-12-20\",\"2014-09-29\",\"2019-07-22\",\"2020-08-16\",\"2013-06-17\",\"2021-04-25\",\"2022-08-23\",\"2009-07-03\",\"2022-05-12\",\"2010-05-30\",\"2021-08-15\",\"2020-10-20\",\"2014-08-22\",\"2020-11-18\",\"2021-11-28\",\"2020-09-21\",\"2021-02-27\",\"2022-08-24\",\"2021-05-20\",\"2022-06-13\",\"2022-06-12\",\"2020-06-07\",\"2010-03-03\",\"2022-05-14\",\"2022-01-08\",\"2022-04-14\",\"2022-03-04\",\"2020-05-25\",\"2020-06-29\",\"2022-07-30\",\"2020-09-11\",\"2021-03-26\",\"2021-09-08\",\"2020-02-04\",\"2021-07-02\",\"2022-07-24\",\"2022-07-02\",\"2022-08-24\",\"2022-08-11\",\"2013-05-10\",\"2018-01-15\",\"2021-07-09\",\"2015-05-13\",\"2022-08-21\",\"2017-12-08\",\"2021-01-30\",\"2022-01-24\",\"2020-08-27\",\"2019-05-30\",\"2022-06-11\",\"2008-07-25\",\"2020-07-29\",\"2010-10-14\",\"2021-02-05\",\"2015-02-06\",\"2019-04-01\",\"2022-08-16\",\"2022-08-24\",\"2022-08-23\",\"2022-08-10\",\"2015-04-20\",\"2018-10-08\",\"2022-08-23\",\"2022-08-23\",\"2022-08-24\",\"2022-08-24\",\"2022-08-23\",\"2022-08-24\",\"2022-08-24\",\"2022-08-23\",\"2022-08-24\",\"2022-08-24\",\"2021-02-07\",\"2022-08-24\",\"2022-08-24\",\"2022-08-24\",\"2022-08-24\",\"2022-08-24\",\"2022-08-23\",\"2022-08-11\",\"2022-08-24\",\"2022-02-23\",\"2022-08-24\",\"2022-08-24\",\"2022-08-24\",\"2022-08-24\",\"2022-08-21\",\"2022-08-24\",\"2022-08-23\",\"2022-08-24\",\"2022-08-20\",\"2022-08-24\",\"2022-08-24\",\"2022-08-24\",\"2022-08-24\",\"2022-08-13\",\"2022-07-24\",\"2022-08-24\",\"2022-08-24\",\"2022-08-24\",\"2022-08-23\",\"2022-07-30\",\"2022-08-23\",\"2022-08-21\",\"2022-08-23\",\"2022-08-23\",\"2022-08-14\",\"2022-08-24\",\"2022-08-23\",\"2022-08-24\",\"2022-08-24\",\"2022-08-24\",\"2022-08-24\",\"2022-08-24\",\"2022-08-19\",\"2021-08-16\",\"2022-08-16\",\"2020-11-28\",\"2019-12-01\",\"2021-03-30\",\"2020-07-26\",\"2019-11-23\",\"2016-06-16\",\"2022-07-13\",\"2020-08-13\",\"2019-07-12\",\"2020-02-22\",\"2022-07-08\",\"2021-11-22\",\"2020-09-28\",\"2022-05-05\",\"2019-10-25\",\"2020-11-28\",\"2020-03-03\",\"2022-08-02\",\"2015-05-24\",\"2021-03-06\",\"2020-08-16\",\"2022-03-11\",\"2019-01-05\",\"2018-11-08\",\"2018-03-08\",\"2022-08-05\",\"2020-11-28\",\"2022-05-23\",\"2020-10-17\",\"2022-07-23\",\"2021-11-04\",\"2022-01-19\",\"2019-08-12\",\"2021-10-02\",\"2021-09-22\",\"2019-07-22\",\"2020-05-31\",\"2019-06-12\",\"2022-01-06\",\"2021-07-14\",\"2016-06-11\",\"2021-05-27\",\"2021-04-23\",\"2018-01-15\",\"2011-10-07\",\"2022-08-20\",\"2022-08-04\",\"2022-06-04\",\"2022-07-23\",\"2022-08-22\",\"2022-04-09\",\"2022-08-24\",\"2021-11-24\",\"2022-03-19\",\"2022-08-20\",\"2022-08-15\",\"2022-01-29\",\"2020-12-19\",\"2021-03-27\",\"2022-07-25\",\"2022-08-20\",\"2021-03-13\",\"2019-05-30\",\"2021-10-23\",\"2019-10-05\",\"2022-05-22\",\"2019-10-12\",\"2019-11-30\",\"2019-06-15\",\"2022-05-21\",\"2022-08-23\",\"2022-06-14\",\"2020-12-15\",\"2019-05-15\",\"2021-08-31\",\"2022-08-02\",\"2019-06-08\",\"2019-06-01\",\"2019-02-15\",\"2022-05-27\",\"2019-03-16\",\"2022-07-12\",\"2020-07-03\",\"2021-09-04\",\"2022-07-09\",\"2019-08-17\",\"2020-02-29\",\"2022-05-09\",\"2019-01-31\",\"2022-07-16\",\"2022-07-05\",\"2022-07-28\",\"2022-07-30\",\"2022-08-12\",\"2022-08-17\",\"2022-08-24\",\"2022-08-24\",\"2022-08-23\",\"2022-08-24\",\"2022-08-24\",\"2022-08-17\",\"2022-08-20\",\"2022-08-11\",\"2022-08-06\",\"2022-08-10\",\"2022-08-23\",\"2022-07-31\",\"2022-08-14\",\"2022-08-24\",\"2022-08-09\",\"2022-08-17\",\"2022-08-02\",\"2022-08-17\",\"2022-08-13\",\"2022-08-24\",\"2022-08-12\",\"2022-08-17\",\"2022-08-11\",\"2022-08-09\",\"2022-08-10\",\"2022-08-17\",\"2022-08-08\",\"2022-08-14\",\"2022-08-11\",\"2022-08-21\",\"2022-08-10\",\"2022-08-18\",\"2022-08-13\",\"2022-08-13\",\"2022-08-12\",\"2022-08-18\",\"2022-08-21\",\"2022-08-07\",\"2022-08-15\",\"2022-08-19\",\"2022-08-20\",\"2022-08-14\",\"2022-08-18\",\"2022-08-12\",\"2022-08-11\",\"2022-08-18\",\"2022-08-05\",\"2022-07-14\",\"2022-08-09\",\"2022-08-05\",\"2020-08-11\",\"2022-05-03\",\"2019-12-03\",\"2015-08-28\",\"2016-08-13\",\"2016-02-04\",\"2018-09-10\",\"2015-12-04\",\"2016-08-30\",\"2018-08-19\",\"2019-10-04\",\"2013-04-15\",\"2017-02-01\",\"2020-04-03\",\"2013-04-15\",\"2020-07-16\",\"2017-01-11\",\"2015-03-18\",\"2018-09-30\",\"2019-04-15\",\"2017-11-19\",\"2020-11-14\",\"2021-11-25\",\"2017-05-24\",\"2015-09-17\",\"2021-08-28\",\"2021-12-21\",\"2021-05-01\",\"2022-06-22\",\"2017-12-09\",\"2012-04-02\",\"2011-02-01\",\"2021-12-18\",\"2021-06-19\",\"2021-09-09\",\"2021-10-16\",\"2016-02-12\",\"2019-06-06\",\"2022-01-29\",\"2021-02-06\",\"2021-06-26\",\"2012-01-30\",\"2021-06-11\",\"2022-07-30\",\"2022-03-04\",\"2012-02-13\",\"2009-06-26\",\"2022-06-24\",\"2012-03-19\",\"2022-04-30\",\"2012-03-12\",\"2020-06-20\",\"2022-04-01\",\"2019-08-18\",\"2009-02-16\",\"2012-02-20\",\"2021-10-07\",\"2012-02-06\",\"2021-03-29\",\"2017-09-23\",\"2022-02-01\",\"2012-06-04\",\"2020-12-30\",\"2018-03-20\",\"2020-08-07\",\"2021-12-22\",\"2016-01-24\",\"2022-06-01\",\"2021-07-29\",\"2018-08-28\",\"2019-10-16\",\"2016-11-28\",\"2021-03-13\",\"2022-08-24\",\"2016-05-24\",\"2014-08-06\",\"2021-10-20\",\"2017-01-02\",\"2022-07-10\",\"2019-11-20\",\"2022-03-31\",\"2021-06-06\",\"2012-08-15\",\"2020-06-23\",\"2021-09-18\",\"2019-11-19\",\"2021-05-01\",\"2016-09-15\",\"2018-01-26\",\"2022-08-11\",\"2022-08-16\",\"2022-07-20\",\"2022-06-12\",\"2022-04-08\",\"2020-09-14\",\"2016-09-29\",\"2016-03-04\",\"2022-02-26\",\"2021-08-06\",\"2022-04-14\",\"2022-07-04\",\"2022-04-14\",\"2020-12-28\",\"2021-05-31\",\"2021-05-29\",\"2022-02-26\",\"2016-08-29\",\"2022-07-28\",\"2017-01-09\",\"2022-06-18\",\"2012-10-30\",\"2020-01-26\",\"2017-02-28\",\"2022-05-04\",\"2020-04-21\",\"2017-09-06\",\"2018-07-24\",\"2022-08-06\",\"2022-01-18\",\"2017-02-22\",\"2020-09-21\",\"2020-06-01\",\"2021-08-18\",\"2021-11-08\",\"2017-08-21\",\"2019-07-03\",\"2016-07-15\",\"2014-12-08\",\"2020-03-05\",\"2021-12-23\",\"2022-06-16\",\"2017-03-08\",\"2009-08-20\",\"2020-11-06\",\"2022-06-18\",\"2020-07-14\",\"2020-09-07\",\"2018-04-21\",\"2022-05-17\",\"2015-07-21\",\"2019-08-27\",\"2017-05-24\",\"2020-11-24\",\"2020-06-14\",\"2022-08-12\",\"2022-02-06\",\"2022-02-08\",\"2022-04-10\",\"2018-11-08\",\"2021-12-27\",\"2017-03-15\",\"2017-03-29\",\"2022-02-24\",\"2019-11-22\",\"2022-07-26\",\"2021-01-20\",\"2017-03-01\",\"2020-06-10\",\"2020-09-08\",\"2018-08-10\",\"2022-08-11\",\"2022-08-23\",\"2022-08-24\",\"2022-08-10\",\"2022-08-24\",\"2022-06-28\",\"2022-08-24\",\"2022-07-28\",\"2022-08-24\",\"2022-06-22\",\"2022-08-24\",\"2022-08-24\",\"2022-08-24\",\"2022-08-23\",\"2022-08-10\",\"2022-08-24\",\"2022-08-23\",\"2022-08-23\",\"2022-08-10\",\"2017-03-09\",\"2022-08-24\",\"2022-07-31\",\"2021-11-03\",\"2022-08-03\",\"2021-03-06\",\"2022-08-24\",\"2021-11-15\",\"2021-09-29\",\"2021-02-28\",\"2021-02-26\",\"2022-08-23\",\"2022-05-17\",\"2022-07-13\",\"2022-08-16\",\"2022-08-24\",\"2022-08-24\",\"2022-06-08\",\"2022-04-22\",\"2022-08-17\",\"2022-08-24\",\"2022-08-03\",\"2022-08-18\",\"2022-07-19\",\"2021-12-22\",\"2022-08-22\",\"2022-08-21\",\"2022-07-20\",\"2022-05-23\",\"2022-08-24\",\"2022-08-24\",\"2022-06-12\",\"2022-08-24\",\"2022-08-24\",\"2021-10-14\",\"2020-08-14\",\"2022-08-24\",\"2022-08-24\",\"2020-11-24\",\"2022-08-23\",\"2022-01-15\",\"2022-08-21\",\"2022-08-20\",\"2022-08-12\",\"2019-05-07\",\"2022-08-12\",\"2022-07-16\",\"2022-02-19\",\"2022-08-24\",\"2022-08-24\",\"2022-08-24\",\"2022-08-24\",\"2021-01-06\",\"2018-11-19\",\"2022-08-23\",\"2022-03-01\",\"2020-11-21\",\"2022-08-23\",\"2022-08-11\",\"2021-08-24\",\"2021-10-08\",\"2022-08-24\",\"2020-03-13\",\"2022-08-23\",\"2022-08-19\",\"2022-06-05\",\"2022-08-23\",\"2022-04-19\",\"2022-08-17\",\"2022-07-29\",\"2022-08-11\",\"2022-08-10\",\"2022-08-09\",\"2022-08-22\",\"2022-08-16\",\"2020-10-11\",\"2022-08-05\",\"2022-08-19\",\"2022-08-24\",\"2022-08-24\",\"2022-08-23\",\"2022-07-24\",\"2022-08-23\",\"2022-07-24\",\"2022-05-24\",\"2022-07-22\",\"2022-03-15\",\"2022-07-24\",\"2022-06-09\",\"2022-07-24\",\"2022-07-24\",\"2022-05-24\",\"2022-07-27\",\"2022-07-24\",\"2022-08-01\",\"2022-07-24\",\"2022-03-15\",\"2022-05-24\",\"2022-08-24\",\"2022-07-24\",\"2022-04-18\",\"2022-08-24\",\"2021-05-03\",\"2022-05-17\",\"2022-05-24\",\"2021-04-15\",\"2022-04-18\",\"2022-08-11\",\"2022-08-24\",\"2022-05-17\",\"2022-08-23\",\"2022-08-12\",\"2022-04-18\",\"2022-07-23\",\"2022-08-24\",\"2018-01-26\",\"2022-07-23\",\"2022-08-24\",\"2022-08-23\",\"2020-03-10\",\"2022-08-24\",\"2022-08-23\",\"2022-08-23\",\"2022-07-24\",\"2022-08-22\",\"2022-03-14\",\"2022-08-18\",\"2022-08-20\",\"2022-07-05\",\"2022-03-09\",\"2022-05-27\",\"2022-08-24\",\"2022-06-28\",\"2021-09-23\",\"2022-06-17\",\"2022-08-23\",\"2021-05-10\",\"2022-08-24\",\"2022-08-23\",\"2022-08-17\",\"2022-06-12\",\"2022-07-28\",\"2022-08-23\",\"2022-08-21\",\"2022-08-17\",\"2022-08-18\",\"2022-06-18\",\"2022-07-27\",\"2022-08-23\",\"2022-07-18\",\"2022-08-24\",\"2022-08-20\",\"2022-07-17\",\"2022-06-17\",\"2022-08-23\",\"2022-04-22\",\"2022-08-09\",\"2022-08-21\",\"2014-04-04\",\"2016-05-04\",\"2022-08-23\",\"2019-01-15\",\"2022-08-12\",\"2022-06-03\",\"2014-07-10\",\"2022-07-26\",\"2022-08-11\",\"2022-01-02\",\"2018-12-04\",\"2022-06-13\",\"2019-08-18\",\"2019-05-30\",\"2018-06-23\",\"2019-03-04\",\"2021-09-19\",\"2022-02-09\",\"2022-08-03\",\"2021-05-20\",\"2022-02-25\",\"2020-06-10\",\"2021-12-27\",\"2022-01-14\",\"2022-05-13\",\"2022-07-09\",\"2021-12-23\",\"2020-06-02\",\"2022-02-14\",\"2019-07-23\",\"2021-01-24\",\"2022-06-01\",\"2019-12-20\",\"2020-05-07\",\"2021-04-26\",\"2019-03-17\",\"2022-07-11\",\"2021-08-06\",\"2022-02-20\",\"2020-07-22\",\"2022-05-21\",\"2020-09-17\",\"2021-11-19\",\"2022-05-19\",\"2022-02-24\",\"2022-04-29\",\"2018-07-01\",\"2022-01-05\",\"2021-11-11\",\"2020-12-26\",\"2021-06-07\",\"2022-08-24\",\"2022-05-06\",\"2020-12-27\",\"2019-11-26\",\"2022-05-09\",\"2021-09-02\",\"2021-01-10\",\"2022-01-22\",\"2022-01-01\",\"2022-04-06\",\"2022-01-21\",\"2021-04-23\",\"2020-04-03\",\"2022-01-26\",\"2022-06-18\",\"2022-06-19\",\"2022-07-16\",\"2021-10-15\",\"2022-05-31\",\"2021-11-10\",\"2022-08-22\",\"2022-04-30\",\"2021-04-15\",\"2022-08-11\",\"2021-10-19\",\"2022-05-26\",\"2022-08-17\",\"2018-10-21\",\"2022-05-11\",\"2022-04-26\",\"2020-08-24\",\"2022-06-08\",\"2020-07-22\",\"2022-08-01\",\"2022-08-16\",\"2020-03-18\",\"2022-03-30\",\"2021-07-25\",\"2021-12-21\",\"2021-08-23\",\"2022-03-17\",\"2020-04-28\",\"2020-10-24\",\"2020-05-23\",\"2022-05-11\",\"2022-07-22\",\"2022-02-10\",\"2022-07-30\",\"2022-07-02\",\"2022-06-29\",\"2022-06-10\",\"2020-12-01\",\"2022-04-28\",\"2022-08-13\",\"2020-04-24\",\"2021-05-19\",\"2022-07-27\",\"2021-06-15\",\"2022-07-10\",\"2018-09-19\",\"2021-08-18\",\"2019-09-22\",\"2017-08-24\",\"2020-09-17\",\"2017-08-31\",\"2022-03-31\",\"2021-08-30\",\"2017-05-19\",\"2017-10-05\",\"2021-09-09\",\"2017-11-01\",\"2020-05-16\",\"2018-02-20\",\"2021-07-14\",\"2019-09-29\",\"2019-08-30\",\"2020-10-01\",\"2019-05-09\",\"2018-11-30\",\"2020-07-12\",\"2019-01-11\",\"2015-06-13\",\"2018-03-21\",\"2020-02-13\",\"2022-05-28\",\"2019-06-20\",\"2019-10-23\",\"2020-07-30\",\"2017-12-18\",\"2020-04-17\",\"2020-06-25\",\"2018-09-17\",\"2022-01-12\",\"2017-10-16\",\"2022-03-02\",\"2018-06-22\",\"2018-02-22\",\"2021-02-12\",\"2019-06-03\",\"2018-12-19\",\"2021-05-28\",\"2018-02-13\",\"2022-02-01\",\"2021-05-11\",\"2021-06-14\",\"2017-10-08\",\"2020-02-20\"],\"xaxis\":\"x\",\"yaxis\":\"y\",\"type\":\"histogram\"}],                        {\"template\":{\"data\":{\"histogram2dcontour\":[{\"type\":\"histogram2dcontour\",\"colorbar\":{\"outlinewidth\":0,\"ticks\":\"\"},\"colorscale\":[[0.0,\"#0d0887\"],[0.1111111111111111,\"#46039f\"],[0.2222222222222222,\"#7201a8\"],[0.3333333333333333,\"#9c179e\"],[0.4444444444444444,\"#bd3786\"],[0.5555555555555556,\"#d8576b\"],[0.6666666666666666,\"#ed7953\"],[0.7777777777777778,\"#fb9f3a\"],[0.8888888888888888,\"#fdca26\"],[1.0,\"#f0f921\"]]}],\"choropleth\":[{\"type\":\"choropleth\",\"colorbar\":{\"outlinewidth\":0,\"ticks\":\"\"}}],\"histogram2d\":[{\"type\":\"histogram2d\",\"colorbar\":{\"outlinewidth\":0,\"ticks\":\"\"},\"colorscale\":[[0.0,\"#0d0887\"],[0.1111111111111111,\"#46039f\"],[0.2222222222222222,\"#7201a8\"],[0.3333333333333333,\"#9c179e\"],[0.4444444444444444,\"#bd3786\"],[0.5555555555555556,\"#d8576b\"],[0.6666666666666666,\"#ed7953\"],[0.7777777777777778,\"#fb9f3a\"],[0.8888888888888888,\"#fdca26\"],[1.0,\"#f0f921\"]]}],\"heatmap\":[{\"type\":\"heatmap\",\"colorbar\":{\"outlinewidth\":0,\"ticks\":\"\"},\"colorscale\":[[0.0,\"#0d0887\"],[0.1111111111111111,\"#46039f\"],[0.2222222222222222,\"#7201a8\"],[0.3333333333333333,\"#9c179e\"],[0.4444444444444444,\"#bd3786\"],[0.5555555555555556,\"#d8576b\"],[0.6666666666666666,\"#ed7953\"],[0.7777777777777778,\"#fb9f3a\"],[0.8888888888888888,\"#fdca26\"],[1.0,\"#f0f921\"]]}],\"heatmapgl\":[{\"type\":\"heatmapgl\",\"colorbar\":{\"outlinewidth\":0,\"ticks\":\"\"},\"colorscale\":[[0.0,\"#0d0887\"],[0.1111111111111111,\"#46039f\"],[0.2222222222222222,\"#7201a8\"],[0.3333333333333333,\"#9c179e\"],[0.4444444444444444,\"#bd3786\"],[0.5555555555555556,\"#d8576b\"],[0.6666666666666666,\"#ed7953\"],[0.7777777777777778,\"#fb9f3a\"],[0.8888888888888888,\"#fdca26\"],[1.0,\"#f0f921\"]]}],\"contourcarpet\":[{\"type\":\"contourcarpet\",\"colorbar\":{\"outlinewidth\":0,\"ticks\":\"\"}}],\"contour\":[{\"type\":\"contour\",\"colorbar\":{\"outlinewidth\":0,\"ticks\":\"\"},\"colorscale\":[[0.0,\"#0d0887\"],[0.1111111111111111,\"#46039f\"],[0.2222222222222222,\"#7201a8\"],[0.3333333333333333,\"#9c179e\"],[0.4444444444444444,\"#bd3786\"],[0.5555555555555556,\"#d8576b\"],[0.6666666666666666,\"#ed7953\"],[0.7777777777777778,\"#fb9f3a\"],[0.8888888888888888,\"#fdca26\"],[1.0,\"#f0f921\"]]}],\"surface\":[{\"type\":\"surface\",\"colorbar\":{\"outlinewidth\":0,\"ticks\":\"\"},\"colorscale\":[[0.0,\"#0d0887\"],[0.1111111111111111,\"#46039f\"],[0.2222222222222222,\"#7201a8\"],[0.3333333333333333,\"#9c179e\"],[0.4444444444444444,\"#bd3786\"],[0.5555555555555556,\"#d8576b\"],[0.6666666666666666,\"#ed7953\"],[0.7777777777777778,\"#fb9f3a\"],[0.8888888888888888,\"#fdca26\"],[1.0,\"#f0f921\"]]}],\"mesh3d\":[{\"type\":\"mesh3d\",\"colorbar\":{\"outlinewidth\":0,\"ticks\":\"\"}}],\"scatter\":[{\"fillpattern\":{\"fillmode\":\"overlay\",\"size\":10,\"solidity\":0.2},\"type\":\"scatter\"}],\"parcoords\":[{\"type\":\"parcoords\",\"line\":{\"colorbar\":{\"outlinewidth\":0,\"ticks\":\"\"}}}],\"scatterpolargl\":[{\"type\":\"scatterpolargl\",\"marker\":{\"colorbar\":{\"outlinewidth\":0,\"ticks\":\"\"}}}],\"bar\":[{\"error_x\":{\"color\":\"#2a3f5f\"},\"error_y\":{\"color\":\"#2a3f5f\"},\"marker\":{\"line\":{\"color\":\"#E5ECF6\",\"width\":0.5},\"pattern\":{\"fillmode\":\"overlay\",\"size\":10,\"solidity\":0.2}},\"type\":\"bar\"}],\"scattergeo\":[{\"type\":\"scattergeo\",\"marker\":{\"colorbar\":{\"outlinewidth\":0,\"ticks\":\"\"}}}],\"scatterpolar\":[{\"type\":\"scatterpolar\",\"marker\":{\"colorbar\":{\"outlinewidth\":0,\"ticks\":\"\"}}}],\"histogram\":[{\"marker\":{\"pattern\":{\"fillmode\":\"overlay\",\"size\":10,\"solidity\":0.2}},\"type\":\"histogram\"}],\"scattergl\":[{\"type\":\"scattergl\",\"marker\":{\"colorbar\":{\"outlinewidth\":0,\"ticks\":\"\"}}}],\"scatter3d\":[{\"type\":\"scatter3d\",\"line\":{\"colorbar\":{\"outlinewidth\":0,\"ticks\":\"\"}},\"marker\":{\"colorbar\":{\"outlinewidth\":0,\"ticks\":\"\"}}}],\"scattermapbox\":[{\"type\":\"scattermapbox\",\"marker\":{\"colorbar\":{\"outlinewidth\":0,\"ticks\":\"\"}}}],\"scatterternary\":[{\"type\":\"scatterternary\",\"marker\":{\"colorbar\":{\"outlinewidth\":0,\"ticks\":\"\"}}}],\"scattercarpet\":[{\"type\":\"scattercarpet\",\"marker\":{\"colorbar\":{\"outlinewidth\":0,\"ticks\":\"\"}}}],\"carpet\":[{\"aaxis\":{\"endlinecolor\":\"#2a3f5f\",\"gridcolor\":\"white\",\"linecolor\":\"white\",\"minorgridcolor\":\"white\",\"startlinecolor\":\"#2a3f5f\"},\"baxis\":{\"endlinecolor\":\"#2a3f5f\",\"gridcolor\":\"white\",\"linecolor\":\"white\",\"minorgridcolor\":\"white\",\"startlinecolor\":\"#2a3f5f\"},\"type\":\"carpet\"}],\"table\":[{\"cells\":{\"fill\":{\"color\":\"#EBF0F8\"},\"line\":{\"color\":\"white\"}},\"header\":{\"fill\":{\"color\":\"#C8D4E3\"},\"line\":{\"color\":\"white\"}},\"type\":\"table\"}],\"barpolar\":[{\"marker\":{\"line\":{\"color\":\"#E5ECF6\",\"width\":0.5},\"pattern\":{\"fillmode\":\"overlay\",\"size\":10,\"solidity\":0.2}},\"type\":\"barpolar\"}],\"pie\":[{\"automargin\":true,\"type\":\"pie\"}]},\"layout\":{\"autotypenumbers\":\"strict\",\"colorway\":[\"#636efa\",\"#EF553B\",\"#00cc96\",\"#ab63fa\",\"#FFA15A\",\"#19d3f3\",\"#FF6692\",\"#B6E880\",\"#FF97FF\",\"#FECB52\"],\"font\":{\"color\":\"#2a3f5f\"},\"hovermode\":\"closest\",\"hoverlabel\":{\"align\":\"left\"},\"paper_bgcolor\":\"white\",\"plot_bgcolor\":\"#E5ECF6\",\"polar\":{\"bgcolor\":\"#E5ECF6\",\"angularaxis\":{\"gridcolor\":\"white\",\"linecolor\":\"white\",\"ticks\":\"\"},\"radialaxis\":{\"gridcolor\":\"white\",\"linecolor\":\"white\",\"ticks\":\"\"}},\"ternary\":{\"bgcolor\":\"#E5ECF6\",\"aaxis\":{\"gridcolor\":\"white\",\"linecolor\":\"white\",\"ticks\":\"\"},\"baxis\":{\"gridcolor\":\"white\",\"linecolor\":\"white\",\"ticks\":\"\"},\"caxis\":{\"gridcolor\":\"white\",\"linecolor\":\"white\",\"ticks\":\"\"}},\"coloraxis\":{\"colorbar\":{\"outlinewidth\":0,\"ticks\":\"\"}},\"colorscale\":{\"sequential\":[[0.0,\"#0d0887\"],[0.1111111111111111,\"#46039f\"],[0.2222222222222222,\"#7201a8\"],[0.3333333333333333,\"#9c179e\"],[0.4444444444444444,\"#bd3786\"],[0.5555555555555556,\"#d8576b\"],[0.6666666666666666,\"#ed7953\"],[0.7777777777777778,\"#fb9f3a\"],[0.8888888888888888,\"#fdca26\"],[1.0,\"#f0f921\"]],\"sequentialminus\":[[0.0,\"#0d0887\"],[0.1111111111111111,\"#46039f\"],[0.2222222222222222,\"#7201a8\"],[0.3333333333333333,\"#9c179e\"],[0.4444444444444444,\"#bd3786\"],[0.5555555555555556,\"#d8576b\"],[0.6666666666666666,\"#ed7953\"],[0.7777777777777778,\"#fb9f3a\"],[0.8888888888888888,\"#fdca26\"],[1.0,\"#f0f921\"]],\"diverging\":[[0,\"#8e0152\"],[0.1,\"#c51b7d\"],[0.2,\"#de77ae\"],[0.3,\"#f1b6da\"],[0.4,\"#fde0ef\"],[0.5,\"#f7f7f7\"],[0.6,\"#e6f5d0\"],[0.7,\"#b8e186\"],[0.8,\"#7fbc41\"],[0.9,\"#4d9221\"],[1,\"#276419\"]]},\"xaxis\":{\"gridcolor\":\"white\",\"linecolor\":\"white\",\"ticks\":\"\",\"title\":{\"standoff\":15},\"zerolinecolor\":\"white\",\"automargin\":true,\"zerolinewidth\":2},\"yaxis\":{\"gridcolor\":\"white\",\"linecolor\":\"white\",\"ticks\":\"\",\"title\":{\"standoff\":15},\"zerolinecolor\":\"white\",\"automargin\":true,\"zerolinewidth\":2},\"scene\":{\"xaxis\":{\"backgroundcolor\":\"#E5ECF6\",\"gridcolor\":\"white\",\"linecolor\":\"white\",\"showbackground\":true,\"ticks\":\"\",\"zerolinecolor\":\"white\",\"gridwidth\":2},\"yaxis\":{\"backgroundcolor\":\"#E5ECF6\",\"gridcolor\":\"white\",\"linecolor\":\"white\",\"showbackground\":true,\"ticks\":\"\",\"zerolinecolor\":\"white\",\"gridwidth\":2},\"zaxis\":{\"backgroundcolor\":\"#E5ECF6\",\"gridcolor\":\"white\",\"linecolor\":\"white\",\"showbackground\":true,\"ticks\":\"\",\"zerolinecolor\":\"white\",\"gridwidth\":2}},\"shapedefaults\":{\"line\":{\"color\":\"#2a3f5f\"}},\"annotationdefaults\":{\"arrowcolor\":\"#2a3f5f\",\"arrowhead\":0,\"arrowwidth\":1},\"geo\":{\"bgcolor\":\"white\",\"landcolor\":\"#E5ECF6\",\"subunitcolor\":\"white\",\"showland\":true,\"showlakes\":true,\"lakecolor\":\"white\"},\"title\":{\"x\":0.05},\"mapbox\":{\"style\":\"light\"}}},\"xaxis\":{\"anchor\":\"y\",\"domain\":[0.0,1.0],\"title\":{\"text\":\"Published At\"}},\"yaxis\":{\"anchor\":\"x\",\"domain\":[0.0,1.0],\"title\":{\"text\":\"count\"}},\"legend\":{\"tracegroupgap\":0},\"margin\":{\"t\":60},\"barmode\":\"relative\"},                        {\"responsive\": true}                    ).then(function(){\n",
       "                            \n",
       "var gd = document.getElementById('55192da6-f60e-4bf8-a7e4-d9e5c574b84a');\n",
       "var x = new MutationObserver(function (mutations, observer) {{\n",
       "        var display = window.getComputedStyle(gd).display;\n",
       "        if (!display || display === 'none') {{\n",
       "            console.log([gd, 'removed!']);\n",
       "            Plotly.purge(gd);\n",
       "            observer.disconnect();\n",
       "        }}\n",
       "}});\n",
       "\n",
       "// Listen for the removal of the full notebook cells\n",
       "var notebookContainer = gd.closest('#notebook-container');\n",
       "if (notebookContainer) {{\n",
       "    x.observe(notebookContainer, {childList: true});\n",
       "}}\n",
       "\n",
       "// Listen for the clearing of the current output cell\n",
       "var outputEl = gd.closest('.output');\n",
       "if (outputEl) {{\n",
       "    x.observe(outputEl, {childList: true});\n",
       "}}\n",
       "\n",
       "                        })                };                });            </script>        </div>"
      ]
     },
     "metadata": {},
     "output_type": "display_data"
    }
   ],
   "source": [
    "#histogram indicating the number of videos published year wise\n",
    "px.histogram(vd, x='Published At',color_discrete_sequence=[\"blue\"])"
   ]
  },
  {
   "cell_type": "code",
   "execution_count": 41,
   "id": "76a751ec",
   "metadata": {
    "scrolled": true
   },
   "outputs": [
    {
     "data": {
      "text/html": [
       "<div>\n",
       "<style scoped>\n",
       "    .dataframe tbody tr th:only-of-type {\n",
       "        vertical-align: middle;\n",
       "    }\n",
       "\n",
       "    .dataframe tbody tr th {\n",
       "        vertical-align: top;\n",
       "    }\n",
       "\n",
       "    .dataframe thead th {\n",
       "        text-align: right;\n",
       "    }\n",
       "</style>\n",
       "<table border=\"1\" class=\"dataframe\">\n",
       "  <thead>\n",
       "    <tr style=\"text-align: right;\">\n",
       "      <th></th>\n",
       "      <th>Title</th>\n",
       "      <th>Video ID</th>\n",
       "      <th>Published At</th>\n",
       "      <th>Keyword</th>\n",
       "      <th>Likes</th>\n",
       "      <th>Comments</th>\n",
       "      <th>Views</th>\n",
       "    </tr>\n",
       "  </thead>\n",
       "  <tbody>\n",
       "    <tr>\n",
       "      <th>0</th>\n",
       "      <td>Apple Pay Is Killing the Physical Wallet After...</td>\n",
       "      <td>wAZZ-UWGVHI</td>\n",
       "      <td>2022-08-23</td>\n",
       "      <td>tech</td>\n",
       "      <td>3407</td>\n",
       "      <td>672</td>\n",
       "      <td>135612</td>\n",
       "    </tr>\n",
       "    <tr>\n",
       "      <th>1</th>\n",
       "      <td>The most EXPENSIVE thing I own.</td>\n",
       "      <td>b3x28s61q3c</td>\n",
       "      <td>2022-08-24</td>\n",
       "      <td>tech</td>\n",
       "      <td>76779</td>\n",
       "      <td>4306</td>\n",
       "      <td>1758063</td>\n",
       "    </tr>\n",
       "    <tr>\n",
       "      <th>2</th>\n",
       "      <td>My New House Gaming Setup is SICK!</td>\n",
       "      <td>4mgePWWCAmA</td>\n",
       "      <td>2022-08-23</td>\n",
       "      <td>tech</td>\n",
       "      <td>63825</td>\n",
       "      <td>3338</td>\n",
       "      <td>1564007</td>\n",
       "    </tr>\n",
       "    <tr>\n",
       "      <th>3</th>\n",
       "      <td>Petrol Vs Liquid Nitrogen | Freezing Experimen...</td>\n",
       "      <td>kXiYSI7H2b0</td>\n",
       "      <td>2022-08-23</td>\n",
       "      <td>tech</td>\n",
       "      <td>71566</td>\n",
       "      <td>1426</td>\n",
       "      <td>922918</td>\n",
       "    </tr>\n",
       "    <tr>\n",
       "      <th>4</th>\n",
       "      <td>Best Back to School Tech 2022!</td>\n",
       "      <td>ErMwWXQxHp0</td>\n",
       "      <td>2022-08-08</td>\n",
       "      <td>tech</td>\n",
       "      <td>96513</td>\n",
       "      <td>5155</td>\n",
       "      <td>1855644</td>\n",
       "    </tr>\n",
       "  </tbody>\n",
       "</table>\n",
       "</div>"
      ],
      "text/plain": [
       "                                               Title     Video ID  \\\n",
       "0  Apple Pay Is Killing the Physical Wallet After...  wAZZ-UWGVHI   \n",
       "1                    The most EXPENSIVE thing I own.  b3x28s61q3c   \n",
       "2                 My New House Gaming Setup is SICK!  4mgePWWCAmA   \n",
       "3  Petrol Vs Liquid Nitrogen | Freezing Experimen...  kXiYSI7H2b0   \n",
       "4                     Best Back to School Tech 2022!  ErMwWXQxHp0   \n",
       "\n",
       "  Published At Keyword  Likes  Comments    Views  \n",
       "0   2022-08-23    tech   3407       672   135612  \n",
       "1   2022-08-24    tech  76779      4306  1758063  \n",
       "2   2022-08-23    tech  63825      3338  1564007  \n",
       "3   2022-08-23    tech  71566      1426   922918  \n",
       "4   2022-08-08    tech  96513      5155  1855644  "
      ]
     },
     "execution_count": 41,
     "metadata": {},
     "output_type": "execute_result"
    }
   ],
   "source": [
    "#displaying the first 5 rows of the video dataset\n",
    "vd.head()"
   ]
  },
  {
   "cell_type": "code",
   "execution_count": 42,
   "id": "066c672f",
   "metadata": {},
   "outputs": [],
   "source": [
    "#creating a list of all title of videos and their respective keywords\n",
    "video_title = list(vd[\"Title\"].values)\n",
    "kw = list(vd[\"Keyword\"].values)"
   ]
  },
  {
   "cell_type": "code",
   "execution_count": 43,
   "id": "61e8d477",
   "metadata": {},
   "outputs": [],
   "source": [
    "#splitting the title of the video to extract the keyword from it\n",
    "title = [v_t.split('|')[0] for v_t in video_title]"
   ]
  },
  {
   "cell_type": "code",
   "execution_count": 44,
   "id": "129c7651",
   "metadata": {},
   "outputs": [],
   "source": [
    "#cleaning the dataset and making a new list i.e, corpus of the titles\n",
    "stopword= stopwords.words('english')\n",
    "corpus = []\n",
    "for vt in title:\n",
    "    #removing stopwords, converting to lowercase, removing non-alphabetical characters\n",
    "    title_cleaning = re.sub('[^a-zA-Z]', ' ', vt)\n",
    "    title_cleaning = title_cleaning.lower()\n",
    "    title_cleaning = title_cleaning.split()\n",
    "    #stemming\n",
    "    stemming = PorterStemmer()\n",
    "    title_cleaning = [stemming.stem(token) for token in title_cleaning if not token in set(stopword)]\n",
    "    corpus.append(' '.join(title_cleaning))"
   ]
  },
  {
   "cell_type": "code",
   "execution_count": 45,
   "id": "73e0ced6",
   "metadata": {},
   "outputs": [],
   "source": [
    "#Count vectorizer is used to transform words in the form of the vectors\n",
    "count_vect = CountVectorizer(max_features=1600)\n",
    "X = count_vect.fit_transform(corpus).toarray()\n",
    "#converts the label to machine-readable form\n",
    "label_encod = LabelEncoder()\n",
    "y = label_encod.fit_transform(kw)"
   ]
  },
  {
   "cell_type": "code",
   "execution_count": 46,
   "id": "c9c14f96",
   "metadata": {},
   "outputs": [],
   "source": [
    "#splitting the data into test and train datasets \n",
    "#20%  of the dataset is used for testing and 80% is trained\n",
    "X_train, X_test, y_train, y_test = train_test_split(X, y, test_size=0.2, random_state=40)"
   ]
  },
  {
   "cell_type": "code",
   "execution_count": 47,
   "id": "1e23df28",
   "metadata": {},
   "outputs": [
    {
     "name": "stdout",
     "output_type": "stream",
     "text": [
      "Accuracy is: 0.8262032085561497\n"
     ]
    }
   ],
   "source": [
    "#building the logistic regression model to classify the videos according to category\n",
    "#OVR(One-vs–rest)method is been used\n",
    "log_reg = LogisticRegression(multi_class='ovr', solver='liblinear')\n",
    "log_reg.fit(X_train, y_train)\n",
    "y_predict = log_reg.predict(X_test)\n",
    "#predicting the accuracy score for the classification\n",
    "accuracy= accuracy_score(y_test, y_predict)\n",
    "print(\"Accuracy is: {}\".format(accuracy))"
   ]
  },
  {
   "cell_type": "code",
   "execution_count": null,
   "id": "a74b5990",
   "metadata": {},
   "outputs": [],
   "source": []
  }
 ],
 "metadata": {
  "kernelspec": {
   "display_name": "Python 3 (ipykernel)",
   "language": "python",
   "name": "python3"
  },
  "language_info": {
   "codemirror_mode": {
    "name": "ipython",
    "version": 3
   },
   "file_extension": ".py",
   "mimetype": "text/x-python",
   "name": "python",
   "nbconvert_exporter": "python",
   "pygments_lexer": "ipython3",
   "version": "3.9.1"
  }
 },
 "nbformat": 4,
 "nbformat_minor": 5
}
